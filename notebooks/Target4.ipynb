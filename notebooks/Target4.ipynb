{
 "cells": [
  {
   "cell_type": "markdown",
   "metadata": {},
   "source": [
    "# Notebook looks only at target 4 \n",
    "We then compare how much information is gained in relative encodings/pooling/mfe/etc"
   ]
  },
  {
   "cell_type": "code",
   "execution_count": 55,
   "metadata": {},
   "outputs": [],
   "source": [
    "import numpy as np\n",
    "import pandas as pd\n",
    "import edit_distance\n",
    "from sklearn import linear_model, preprocessing\n",
    "from sklearn.linear_model import HuberRegressor, Ridge\n",
    "import matplotlib.pyplot as plt\n",
    "from scipy.stats import pearsonr\n",
    "import matplotlib as mpl\n",
    "#make sure to install keras if you don't have the package yet\n",
    "from keras import layers, models"
   ]
  },
  {
   "cell_type": "code",
   "execution_count": 56,
   "metadata": {},
   "outputs": [],
   "source": [
    "TRIAL_1_PATH = \"../data/target4/0115_cr4_kd_fitting_filtered_free_Imax_yint_capped_FULL.csv_mfe_structures.csv\"\n",
    "TRIAL_2_PATH = \"../data/target4/1219_cr4_kd_fitting_filtered_free_Imax_yint_capped_FULL.csv_mfe_structures.csv\""
   ]
  },
  {
   "cell_type": "code",
   "execution_count": 57,
   "metadata": {},
   "outputs": [],
   "source": [
    "df1 = pd.read_csv(TRIAL_1_PATH)\n",
    "df2 = pd.read_csv(TRIAL_2_PATH)"
   ]
  },
  {
   "cell_type": "code",
   "execution_count": 58,
   "metadata": {},
   "outputs": [
    {
     "data": {
      "text/html": [
       "<div>\n",
       "<style scoped>\n",
       "    .dataframe tbody tr th:only-of-type {\n",
       "        vertical-align: middle;\n",
       "    }\n",
       "\n",
       "    .dataframe tbody tr th {\n",
       "        vertical-align: top;\n",
       "    }\n",
       "\n",
       "    .dataframe thead th {\n",
       "        text-align: right;\n",
       "    }\n",
       "</style>\n",
       "<table border=\"1\" class=\"dataframe\">\n",
       "  <thead>\n",
       "    <tr style=\"text-align: right;\">\n",
       "      <th></th>\n",
       "      <th>sequence</th>\n",
       "      <th>kd</th>\n",
       "      <th>kd_uncertainty</th>\n",
       "      <th>y_intercept</th>\n",
       "      <th>delta_y</th>\n",
       "      <th>count</th>\n",
       "      <th>mfe</th>\n",
       "      <th>structure</th>\n",
       "      <th>ABA</th>\n",
       "      <th>ABA_normalized</th>\n",
       "    </tr>\n",
       "  </thead>\n",
       "  <tbody>\n",
       "    <tr>\n",
       "      <th>0</th>\n",
       "      <td>GGGAATGGATCCACATCTACGAATTCGTACCATAGAAGGTTATCCG...</td>\n",
       "      <td>41.803187</td>\n",
       "      <td>7.230034</td>\n",
       "      <td>31586.502668</td>\n",
       "      <td>60892.066606</td>\n",
       "      <td>55</td>\n",
       "      <td>-11.300000</td>\n",
       "      <td>.((.((((((.(........).)))))).))......((....))(...</td>\n",
       "      <td>-1.579180</td>\n",
       "      <td>0.230637</td>\n",
       "    </tr>\n",
       "    <tr>\n",
       "      <th>1</th>\n",
       "      <td>GGGAATGGATCCACATCTACGAATTCGTACCAGTAGAGAGGTTATG...</td>\n",
       "      <td>39.782497</td>\n",
       "      <td>4.399272</td>\n",
       "      <td>31058.327095</td>\n",
       "      <td>81584.997665</td>\n",
       "      <td>69</td>\n",
       "      <td>-16.500000</td>\n",
       "      <td>.((....((((....(((((............)))))..))))......</td>\n",
       "      <td>-1.529634</td>\n",
       "      <td>0.240848</td>\n",
       "    </tr>\n",
       "    <tr>\n",
       "      <th>2</th>\n",
       "      <td>GGGAATGGATCCACATCTACGAATTCGTACGCATAGAGAGGTTATC...</td>\n",
       "      <td>31.501090</td>\n",
       "      <td>5.025573</td>\n",
       "      <td>34797.864090</td>\n",
       "      <td>75097.116193</td>\n",
       "      <td>44</td>\n",
       "      <td>-14.400000</td>\n",
       "      <td>......((((((...((((((........))..))))..))..)))...</td>\n",
       "      <td>-1.296229</td>\n",
       "      <td>0.288953</td>\n",
       "    </tr>\n",
       "    <tr>\n",
       "      <th>3</th>\n",
       "      <td>GGGAATGGATCCACATCTACGAATTCGTACCATAGAGAGGTTTAGG...</td>\n",
       "      <td>8.757021</td>\n",
       "      <td>0.396640</td>\n",
       "      <td>36829.983437</td>\n",
       "      <td>157541.995021</td>\n",
       "      <td>55</td>\n",
       "      <td>-10.600000</td>\n",
       "      <td>.........(((..((((.((...(((((((.......)))....)...</td>\n",
       "      <td>-0.016063</td>\n",
       "      <td>0.552794</td>\n",
       "    </tr>\n",
       "    <tr>\n",
       "      <th>4</th>\n",
       "      <td>GGGAATGGATCCACATCTACGAATTCGTACCATAGAGAGGTTTATC...</td>\n",
       "      <td>19.476614</td>\n",
       "      <td>1.049690</td>\n",
       "      <td>32988.868890</td>\n",
       "      <td>82569.957220</td>\n",
       "      <td>65</td>\n",
       "      <td>-19.299999</td>\n",
       "      <td>((((.((((((....((((((....))).....)))..))))))))...</td>\n",
       "      <td>-0.815422</td>\n",
       "      <td>0.388047</td>\n",
       "    </tr>\n",
       "  </tbody>\n",
       "</table>\n",
       "</div>"
      ],
      "text/plain": [
       "                                            sequence         kd  \\\n",
       "0  GGGAATGGATCCACATCTACGAATTCGTACCATAGAAGGTTATCCG...  41.803187   \n",
       "1  GGGAATGGATCCACATCTACGAATTCGTACCAGTAGAGAGGTTATG...  39.782497   \n",
       "2  GGGAATGGATCCACATCTACGAATTCGTACGCATAGAGAGGTTATC...  31.501090   \n",
       "3  GGGAATGGATCCACATCTACGAATTCGTACCATAGAGAGGTTTAGG...   8.757021   \n",
       "4  GGGAATGGATCCACATCTACGAATTCGTACCATAGAGAGGTTTATC...  19.476614   \n",
       "\n",
       "   kd_uncertainty   y_intercept        delta_y  count        mfe  \\\n",
       "0        7.230034  31586.502668   60892.066606     55 -11.300000   \n",
       "1        4.399272  31058.327095   81584.997665     69 -16.500000   \n",
       "2        5.025573  34797.864090   75097.116193     44 -14.400000   \n",
       "3        0.396640  36829.983437  157541.995021     55 -10.600000   \n",
       "4        1.049690  32988.868890   82569.957220     65 -19.299999   \n",
       "\n",
       "                                           structure       ABA  ABA_normalized  \n",
       "0  .((.((((((.(........).)))))).))......((....))(... -1.579180        0.230637  \n",
       "1  .((....((((....(((((............)))))..))))...... -1.529634        0.240848  \n",
       "2  ......((((((...((((((........))..))))..))..)))... -1.296229        0.288953  \n",
       "3  .........(((..((((.((...(((((((.......)))....)... -0.016063        0.552794  \n",
       "4  ((((.((((((....((((((....))).....)))..))))))))... -0.815422        0.388047  "
      ]
     },
     "execution_count": 58,
     "metadata": {},
     "output_type": "execute_result"
    }
   ],
   "source": [
    "perfect_sequence = 'GGGAATGGATCCACATCTACGAATTCGTA' + 'CCATAGAGAGGTTATCCGCTCA' + 'CCGAGATCGGAAGAGCACACGT'\n",
    "PERFECT_KD1 = df1[df1['sequence'] == perfect_sequence].iloc[0]['kd']\n",
    "PERFECT_KD2 = df2[df2['sequence'] == perfect_sequence].iloc[0]['kd']\n",
    "\n",
    "df1['ABA'] = -(df1.kd/PERFECT_KD1).apply(np.log)\n",
    "df2['ABA'] = -(df2.kd/PERFECT_KD2).apply(np.log)\n",
    "\n",
    "max_aba1, min_aba1 = -np.log(1/PERFECT_KD1), -np.log(128/PERFECT_KD1)\n",
    "max_aba2, min_aba2 = -np.log(1/PERFECT_KD2), -np.log(128/PERFECT_KD2)\n",
    "\n",
    "df1['ABA_normalized'] = (df1['ABA']-min_aba1)/(max_aba1-min_aba1)\n",
    "df2['ABA_normalized'] = (df2['ABA']-min_aba2)/(max_aba2-min_aba2)\n",
    "df1.head()\n",
    "#df1['normalized_aba'] = "
   ]
  },
  {
   "cell_type": "code",
   "execution_count": 59,
   "metadata": {},
   "outputs": [
    {
     "data": {
      "image/png": "[encoded data removed]",
      "text/plain": [
       "<Figure size 432x288 with 1 Axes>"
      ]
     },
     "metadata": {
      "needs_background": "light"
     },
     "output_type": "display_data"
    }
   ],
   "source": [
    "plt.title(\"Unfiltered histogram of kds\", fontsize=18)\n",
    "plt.xlabel('kd')\n",
    "plt.hist(df1.ABA_normalized)\n",
    "plt.show()"
   ]
  },
  {
   "cell_type": "code",
   "execution_count": 60,
   "metadata": {},
   "outputs": [],
   "source": [
    "df1_filt = df1[(df1['kd'] >= 1) & (df1['kd'] <= 128)]\n",
    "df2_filt = df2[(df2['kd'] >= 1) & (df2['kd'] <= 128)]"
   ]
  },
  {
   "cell_type": "code",
   "execution_count": 81,
   "metadata": {},
   "outputs": [
    {
     "data": {
      "image/png": "[encoded data removed]",
      "text/plain": [
       "<Figure size 432x288 with 1 Axes>"
      ]
     },
     "metadata": {
      "needs_background": "light"
     },
     "output_type": "display_data"
    }
   ],
   "source": [
    "plt.title(\"Filtered histogram of kds\", fontsize=18)\n",
    "plt.xlabel('kd')\n",
    "plt.hist(df1_filt.ABA_normalized)\n",
    "plt.show()"
   ]
  },
  {
   "cell_type": "code",
   "execution_count": 82,
   "metadata": {},
   "outputs": [],
   "source": [
    "merged = pd.merge(df1, df2, on= 'sequence', suffixes = ('_1', '_2'))"
   ]
  },
  {
   "cell_type": "code",
   "execution_count": 83,
   "metadata": {},
   "outputs": [
    {
     "data": {
      "text/html": [
       "<div>\n",
       "<style scoped>\n",
       "    .dataframe tbody tr th:only-of-type {\n",
       "        vertical-align: middle;\n",
       "    }\n",
       "\n",
       "    .dataframe tbody tr th {\n",
       "        vertical-align: top;\n",
       "    }\n",
       "\n",
       "    .dataframe thead th {\n",
       "        text-align: right;\n",
       "    }\n",
       "</style>\n",
       "<table border=\"1\" class=\"dataframe\">\n",
       "  <thead>\n",
       "    <tr style=\"text-align: right;\">\n",
       "      <th></th>\n",
       "      <th>sequence</th>\n",
       "      <th>kd_1</th>\n",
       "      <th>kd_uncertainty_1</th>\n",
       "      <th>y_intercept_1</th>\n",
       "      <th>delta_y_1</th>\n",
       "      <th>count_1</th>\n",
       "      <th>mfe_1</th>\n",
       "      <th>structure_1</th>\n",
       "      <th>ABA_1</th>\n",
       "      <th>ABA_normalized_1</th>\n",
       "      <th>kd_2</th>\n",
       "      <th>kd_uncertainty_2</th>\n",
       "      <th>y_intercept_2</th>\n",
       "      <th>delta_y_2</th>\n",
       "      <th>count_2</th>\n",
       "      <th>mfe_2</th>\n",
       "      <th>structure_2</th>\n",
       "      <th>ABA_2</th>\n",
       "      <th>ABA_normalized_2</th>\n",
       "    </tr>\n",
       "  </thead>\n",
       "  <tbody>\n",
       "    <tr>\n",
       "      <th>0</th>\n",
       "      <td>GGGAATGGATCCACATCTACGAATTCGTACCATAGAAGGTTATCCG...</td>\n",
       "      <td>41.803187</td>\n",
       "      <td>7.230034</td>\n",
       "      <td>31586.502668</td>\n",
       "      <td>60892.066606</td>\n",
       "      <td>55</td>\n",
       "      <td>-11.300000</td>\n",
       "      <td>.((.((((((.(........).)))))).))......((....))(...</td>\n",
       "      <td>-1.579180</td>\n",
       "      <td>0.230637</td>\n",
       "      <td>19.554217</td>\n",
       "      <td>1.946373</td>\n",
       "      <td>31129.18877</td>\n",
       "      <td>52937.106640</td>\n",
       "      <td>53</td>\n",
       "      <td>-11.300000</td>\n",
       "      <td>.((.((((((.(........).)))))).))......((....))(...</td>\n",
       "      <td>-1.568093</td>\n",
       "      <td>0.387227</td>\n",
       "    </tr>\n",
       "    <tr>\n",
       "      <th>1</th>\n",
       "      <td>GGGAATGGATCCACATCTACGAATTCGTACCAGTAGAGAGGTTATG...</td>\n",
       "      <td>39.782497</td>\n",
       "      <td>4.399272</td>\n",
       "      <td>31058.327095</td>\n",
       "      <td>81584.997665</td>\n",
       "      <td>69</td>\n",
       "      <td>-16.500000</td>\n",
       "      <td>.((....((((....(((((............)))))..))))......</td>\n",
       "      <td>-1.529634</td>\n",
       "      <td>0.240848</td>\n",
       "      <td>15.235706</td>\n",
       "      <td>1.162817</td>\n",
       "      <td>32524.49598</td>\n",
       "      <td>59863.699156</td>\n",
       "      <td>66</td>\n",
       "      <td>-16.500000</td>\n",
       "      <td>.((....((((....(((((............)))))..))))......</td>\n",
       "      <td>-1.318544</td>\n",
       "      <td>0.438659</td>\n",
       "    </tr>\n",
       "    <tr>\n",
       "      <th>2</th>\n",
       "      <td>GGGAATGGATCCACATCTACGAATTCGTACGCATAGAGAGGTTATC...</td>\n",
       "      <td>31.501090</td>\n",
       "      <td>5.025573</td>\n",
       "      <td>34797.864090</td>\n",
       "      <td>75097.116193</td>\n",
       "      <td>44</td>\n",
       "      <td>-14.400000</td>\n",
       "      <td>......((((((...((((((........))..))))..))..)))...</td>\n",
       "      <td>-1.296229</td>\n",
       "      <td>0.288953</td>\n",
       "      <td>12.054378</td>\n",
       "      <td>1.786545</td>\n",
       "      <td>30000.00000</td>\n",
       "      <td>55128.822589</td>\n",
       "      <td>39</td>\n",
       "      <td>-14.400000</td>\n",
       "      <td>......((((((...((((((........))..))))..))..)))...</td>\n",
       "      <td>-1.084330</td>\n",
       "      <td>0.486931</td>\n",
       "    </tr>\n",
       "    <tr>\n",
       "      <th>3</th>\n",
       "      <td>GGGAATGGATCCACATCTACGAATTCGTACCATAGAGAGGTTTAGG...</td>\n",
       "      <td>8.757021</td>\n",
       "      <td>0.396640</td>\n",
       "      <td>36829.983437</td>\n",
       "      <td>157541.995021</td>\n",
       "      <td>55</td>\n",
       "      <td>-10.600000</td>\n",
       "      <td>.........(((..((((.((...(((((((.......)))....)...</td>\n",
       "      <td>-0.016063</td>\n",
       "      <td>0.552794</td>\n",
       "      <td>2.843775</td>\n",
       "      <td>0.204964</td>\n",
       "      <td>30000.00000</td>\n",
       "      <td>94047.667491</td>\n",
       "      <td>55</td>\n",
       "      <td>-10.600000</td>\n",
       "      <td>.........(((..((((.((...(((((((.......)))....)...</td>\n",
       "      <td>0.359966</td>\n",
       "      <td>0.784599</td>\n",
       "    </tr>\n",
       "    <tr>\n",
       "      <th>4</th>\n",
       "      <td>GGGAATGGATCCACATCTACGAATTCGTACCATAGAGAGGTTTATC...</td>\n",
       "      <td>19.476614</td>\n",
       "      <td>1.049690</td>\n",
       "      <td>32988.868890</td>\n",
       "      <td>82569.957220</td>\n",
       "      <td>65</td>\n",
       "      <td>-19.299999</td>\n",
       "      <td>((((.((((((....((((((....))).....)))..))))))))...</td>\n",
       "      <td>-0.815422</td>\n",
       "      <td>0.388047</td>\n",
       "      <td>6.003755</td>\n",
       "      <td>0.656704</td>\n",
       "      <td>30000.00000</td>\n",
       "      <td>62331.620848</td>\n",
       "      <td>64</td>\n",
       "      <td>-19.299999</td>\n",
       "      <td>((((.((((((....((((((....))).....)))..))))))))...</td>\n",
       "      <td>-0.387287</td>\n",
       "      <td>0.630591</td>\n",
       "    </tr>\n",
       "  </tbody>\n",
       "</table>\n",
       "</div>"
      ],
      "text/plain": [
       "                                            sequence       kd_1  \\\n",
       "0  GGGAATGGATCCACATCTACGAATTCGTACCATAGAAGGTTATCCG...  41.803187   \n",
       "1  GGGAATGGATCCACATCTACGAATTCGTACCAGTAGAGAGGTTATG...  39.782497   \n",
       "2  GGGAATGGATCCACATCTACGAATTCGTACGCATAGAGAGGTTATC...  31.501090   \n",
       "3  GGGAATGGATCCACATCTACGAATTCGTACCATAGAGAGGTTTAGG...   8.757021   \n",
       "4  GGGAATGGATCCACATCTACGAATTCGTACCATAGAGAGGTTTATC...  19.476614   \n",
       "\n",
       "   kd_uncertainty_1  y_intercept_1      delta_y_1  count_1      mfe_1  \\\n",
       "0          7.230034   31586.502668   60892.066606       55 -11.300000   \n",
       "1          4.399272   31058.327095   81584.997665       69 -16.500000   \n",
       "2          5.025573   34797.864090   75097.116193       44 -14.400000   \n",
       "3          0.396640   36829.983437  157541.995021       55 -10.600000   \n",
       "4          1.049690   32988.868890   82569.957220       65 -19.299999   \n",
       "\n",
       "                                         structure_1     ABA_1  \\\n",
       "0  .((.((((((.(........).)))))).))......((....))(... -1.579180   \n",
       "1  .((....((((....(((((............)))))..))))...... -1.529634   \n",
       "2  ......((((((...((((((........))..))))..))..)))... -1.296229   \n",
       "3  .........(((..((((.((...(((((((.......)))....)... -0.016063   \n",
       "4  ((((.((((((....((((((....))).....)))..))))))))... -0.815422   \n",
       "\n",
       "   ABA_normalized_1       kd_2  kd_uncertainty_2  y_intercept_2     delta_y_2  \\\n",
       "0          0.230637  19.554217          1.946373    31129.18877  52937.106640   \n",
       "1          0.240848  15.235706          1.162817    32524.49598  59863.699156   \n",
       "2          0.288953  12.054378          1.786545    30000.00000  55128.822589   \n",
       "3          0.552794   2.843775          0.204964    30000.00000  94047.667491   \n",
       "4          0.388047   6.003755          0.656704    30000.00000  62331.620848   \n",
       "\n",
       "   count_2      mfe_2                                        structure_2  \\\n",
       "0       53 -11.300000  .((.((((((.(........).)))))).))......((....))(...   \n",
       "1       66 -16.500000  .((....((((....(((((............)))))..))))......   \n",
       "2       39 -14.400000  ......((((((...((((((........))..))))..))..)))...   \n",
       "3       55 -10.600000  .........(((..((((.((...(((((((.......)))....)...   \n",
       "4       64 -19.299999  ((((.((((((....((((((....))).....)))..))))))))...   \n",
       "\n",
       "      ABA_2  ABA_normalized_2  \n",
       "0 -1.568093          0.387227  \n",
       "1 -1.318544          0.438659  \n",
       "2 -1.084330          0.486931  \n",
       "3  0.359966          0.784599  \n",
       "4 -0.387287          0.630591  "
      ]
     },
     "execution_count": 83,
     "metadata": {},
     "output_type": "execute_result"
    }
   ],
   "source": [
    "merged.head()"
   ]
  },
  {
   "cell_type": "code",
   "execution_count": 84,
   "metadata": {},
   "outputs": [],
   "source": [
    "merged_filt = merged[(merged['kd_1'] >= 1) & (merged['kd_1'] <= 128) & (merged['kd_2'] >= 1) & (merged['kd_2'] <= 128)]"
   ]
  },
  {
   "cell_type": "code",
   "execution_count": 85,
   "metadata": {},
   "outputs": [
    {
     "data": {
      "image/png": "[encoded data removed]",
      "text/plain": [
       "<Figure size 432x288 with 1 Axes>"
      ]
     },
     "metadata": {
      "needs_background": "light"
     },
     "output_type": "display_data"
    }
   ],
   "source": [
    "plt.scatter(list(merged_filt['ABA_normalized_1']), list(merged_filt['ABA_normalized_2']))\n",
    "plt.title('ABA Trial 1 vs ABA Trial 2', fontsize = 18)\n",
    "plt.xlabel('Trial 1')\n",
    "plt.ylabel('Trial 2')\n",
    "plt.show()"
   ]
  },
  {
   "cell_type": "code",
   "execution_count": 86,
   "metadata": {},
   "outputs": [
    {
     "name": "stdout",
     "output_type": "stream",
     "text": [
      "correlation between two normalized ABA trials is [[1.         0.96358682]\n",
      " [0.96358682 1.        ]]\n"
     ]
    }
   ],
   "source": [
    "print(\"correlation between two normalized ABA trials is {}\".format(np.corrcoef(merged_filt['ABA_normalized_1'],merged_filt['ABA_normalized_2'])))"
   ]
  },
  {
   "cell_type": "code",
   "execution_count": 87,
   "metadata": {},
   "outputs": [
    {
     "name": "stdout",
     "output_type": "stream",
     "text": [
      "correlation between two kds is 0.9144122636381181\n",
      "correlation between two normalized ABA trials is 0.9635868244025724\n"
     ]
    }
   ],
   "source": [
    "print(\"correlation between two kds is {}\".format(np.corrcoef(merged_filt['kd_1'],merged_filt['kd_2'])[0][1]))\n",
    "print(\"correlation between two normalized ABA trials is {}\".format(np.corrcoef(merged_filt['ABA_normalized_1'],\n",
    "                                                                               merged_filt['ABA_normalized_2'])[0][1]))"
   ]
  },
  {
   "cell_type": "code",
   "execution_count": 66,
   "metadata": {},
   "outputs": [
    {
     "data": {
      "text/plain": [
       "0       41.803187\n",
       "1       39.782497\n",
       "2       31.501090\n",
       "3        8.757021\n",
       "4       19.476614\n",
       "          ...    \n",
       "4924    17.580352\n",
       "4925    13.397676\n",
       "4926    16.401250\n",
       "4927    68.086314\n",
       "4928    11.845369\n",
       "Name: kd_1, Length: 4128, dtype: float64"
      ]
     },
     "execution_count": 66,
     "metadata": {},
     "output_type": "execute_result"
    }
   ],
   "source": [
    "merged_filt['kd_1']"
   ]
  },
  {
   "cell_type": "code",
   "execution_count": 52,
   "metadata": {},
   "outputs": [
    {
     "data": {
      "text/plain": [
       "(4196, 19)"
      ]
     },
     "execution_count": 52,
     "metadata": {},
     "output_type": "execute_result"
    }
   ],
   "source": [
    "merged_filt.shape"
   ]
  },
  {
   "cell_type": "code",
   "execution_count": null,
   "metadata": {},
   "outputs": [],
   "source": []
  }
 ],
 "metadata": {
  "kernelspec": {
   "display_name": "Python 3",
   "language": "python",
   "name": "python3"
  },
  "language_info": {
   "codemirror_mode": {
    "name": "ipython",
    "version": 3
   },
   "file_extension": ".py",
   "mimetype": "text/x-python",
   "name": "python",
   "nbconvert_exporter": "python",
   "pygments_lexer": "ipython3",
   "version": "3.8.5"
  }
 },
 "nbformat": 4,
 "nbformat_minor": 4
}
