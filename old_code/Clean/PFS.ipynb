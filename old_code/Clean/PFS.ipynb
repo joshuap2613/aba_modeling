{
 "cells": [
  {
   "cell_type": "code",
   "execution_count": 1,
   "metadata": {},
   "outputs": [],
   "source": [
    "import h5py\n",
    "import pandas as pd"
   ]
  },
  {
   "cell_type": "code",
   "execution_count": 3,
   "metadata": {},
   "outputs": [],
   "source": [
    "filepath = '1222_cr4_pfs_kd_fitting_jami_filtered_free_Imax_25'\n",
    "f = h5py.File(filepath,'r')"
   ]
  },
  {
   "cell_type": "code",
   "execution_count": 4,
   "metadata": {},
   "outputs": [],
   "source": [
    "a_group_key = list(f.keys())[0]\n",
    "dset = f[a_group_key]\n",
    "data = dset[:]"
   ]
  },
  {
   "cell_type": "code",
   "execution_count": 5,
   "metadata": {},
   "outputs": [],
   "source": [
    "df = pd.DataFrame(data)\n",
    "df.sequence = df.sequence.str.decode('utf-8')"
   ]
  },
  {
   "cell_type": "code",
   "execution_count": 6,
   "metadata": {},
   "outputs": [
    {
     "data": {
      "text/html": [
       "<div>\n",
       "<style scoped>\n",
       "    .dataframe tbody tr th:only-of-type {\n",
       "        vertical-align: middle;\n",
       "    }\n",
       "\n",
       "    .dataframe tbody tr th {\n",
       "        vertical-align: top;\n",
       "    }\n",
       "\n",
       "    .dataframe thead th {\n",
       "        text-align: right;\n",
       "    }\n",
       "</style>\n",
       "<table border=\"1\" class=\"dataframe\">\n",
       "  <thead>\n",
       "    <tr style=\"text-align: right;\">\n",
       "      <th></th>\n",
       "      <th>sequence</th>\n",
       "      <th>kd</th>\n",
       "      <th>kd_uncertainty</th>\n",
       "      <th>y_intercept</th>\n",
       "      <th>delta_y</th>\n",
       "      <th>count</th>\n",
       "    </tr>\n",
       "  </thead>\n",
       "  <tbody>\n",
       "    <tr>\n",
       "      <th>0</th>\n",
       "      <td>TAGCCATAGAGAGGTTATCCGCTCATTC</td>\n",
       "      <td>27.870754</td>\n",
       "      <td>6.057151</td>\n",
       "      <td>32218.699990</td>\n",
       "      <td>37555.863557</td>\n",
       "      <td>99</td>\n",
       "    </tr>\n",
       "    <tr>\n",
       "      <th>1</th>\n",
       "      <td>TAGCCATAGAGAGGTTATCCGCTCATTA</td>\n",
       "      <td>31.129821</td>\n",
       "      <td>12.056692</td>\n",
       "      <td>33856.371707</td>\n",
       "      <td>38209.413132</td>\n",
       "      <td>108</td>\n",
       "    </tr>\n",
       "    <tr>\n",
       "      <th>2</th>\n",
       "      <td>TGCCCATAGAGAGGTTATCCGCTCAAAG</td>\n",
       "      <td>86.894212</td>\n",
       "      <td>71.425489</td>\n",
       "      <td>32053.234248</td>\n",
       "      <td>37620.010885</td>\n",
       "      <td>49</td>\n",
       "    </tr>\n",
       "    <tr>\n",
       "      <th>3</th>\n",
       "      <td>GTTCCATAGAGAGGTTATCCGCTCAGCC</td>\n",
       "      <td>51.653279</td>\n",
       "      <td>136109.298882</td>\n",
       "      <td>31677.484825</td>\n",
       "      <td>33738.126193</td>\n",
       "      <td>87</td>\n",
       "    </tr>\n",
       "    <tr>\n",
       "      <th>4</th>\n",
       "      <td>GTTCCATAGAGAGGTTATCCGCTCAGCA</td>\n",
       "      <td>33.309335</td>\n",
       "      <td>35.586784</td>\n",
       "      <td>30916.589491</td>\n",
       "      <td>32476.704484</td>\n",
       "      <td>121</td>\n",
       "    </tr>\n",
       "  </tbody>\n",
       "</table>\n",
       "</div>"
      ],
      "text/plain": [
       "                       sequence         kd  kd_uncertainty   y_intercept  \\\n",
       "0  TAGCCATAGAGAGGTTATCCGCTCATTC  27.870754        6.057151  32218.699990   \n",
       "1  TAGCCATAGAGAGGTTATCCGCTCATTA  31.129821       12.056692  33856.371707   \n",
       "2  TGCCCATAGAGAGGTTATCCGCTCAAAG  86.894212       71.425489  32053.234248   \n",
       "3  GTTCCATAGAGAGGTTATCCGCTCAGCC  51.653279   136109.298882  31677.484825   \n",
       "4  GTTCCATAGAGAGGTTATCCGCTCAGCA  33.309335       35.586784  30916.589491   \n",
       "\n",
       "        delta_y  count  \n",
       "0  37555.863557     99  \n",
       "1  38209.413132    108  \n",
       "2  37620.010885     49  \n",
       "3  33738.126193     87  \n",
       "4  32476.704484    121  "
      ]
     },
     "execution_count": 6,
     "metadata": {},
     "output_type": "execute_result"
    }
   ],
   "source": [
    "df.head()"
   ]
  },
  {
   "cell_type": "code",
   "execution_count": 7,
   "metadata": {},
   "outputs": [
    {
     "data": {
      "text/plain": [
       "(3998, 6)"
      ]
     },
     "execution_count": 7,
     "metadata": {},
     "output_type": "execute_result"
    }
   ],
   "source": [
    "df.shape"
   ]
  },
  {
   "cell_type": "code",
   "execution_count": null,
   "metadata": {},
   "outputs": [],
   "source": []
  }
 ],
 "metadata": {
  "kernelspec": {
   "display_name": "Python 3",
   "language": "python",
   "name": "python3"
  },
  "language_info": {
   "codemirror_mode": {
    "name": "ipython",
    "version": 3
   },
   "file_extension": ".py",
   "mimetype": "text/x-python",
   "name": "python",
   "nbconvert_exporter": "python",
   "pygments_lexer": "ipython3",
   "version": "3.8.5"
  }
 },
 "nbformat": 4,
 "nbformat_minor": 4
}
