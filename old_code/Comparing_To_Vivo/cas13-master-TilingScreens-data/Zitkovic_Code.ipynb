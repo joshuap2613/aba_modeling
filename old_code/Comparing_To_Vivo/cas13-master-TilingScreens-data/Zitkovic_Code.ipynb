{
 "cells": [
  {
   "cell_type": "markdown",
   "metadata": {},
   "source": [
    "# Hw 7 Code"
   ]
  },
  {
   "cell_type": "markdown",
   "metadata": {},
   "source": [
    "*Question 5.5.13 part 2*"
   ]
  },
  {
   "cell_type": "code",
   "execution_count": 1,
   "metadata": {},
   "outputs": [],
   "source": [
    "import numpy as np"
   ]
  },
  {
   "cell_type": "code",
   "execution_count": 2,
   "metadata": {},
   "outputs": [],
   "source": [
    "#define the transition matrix\n",
    "#11 states as defined in my hw\n",
    "\n",
    "M = np.zeros(11*11).reshape(11,11)"
   ]
  },
  {
   "cell_type": "markdown",
   "metadata": {},
   "source": [
    "*States are W0:0, W1:1, W2:2, W3:3, W4:4, H0:5, H1:6, H2:7, H3:8, H4:9, wet:10*   \n",
    "W is work and how many umbrellas there are, H is home and how many umbrellas there are there"
   ]
  },
  {
   "cell_type": "code",
   "execution_count": 3,
   "metadata": {},
   "outputs": [
    {
     "data": {
      "text/plain": [
       "array([[0.  , 0.  , 0.  , 0.  , 0.  , 0.  , 0.  , 0.  , 0.  , 0.8 , 0.2 ],\n",
       "       [0.  , 0.  , 0.  , 0.  , 0.  , 0.  , 0.  , 0.  , 0.8 , 0.2 , 0.  ],\n",
       "       [0.  , 0.  , 0.  , 0.  , 0.  , 0.  , 0.  , 0.8 , 0.2 , 0.  , 0.  ],\n",
       "       [0.  , 0.  , 0.  , 0.  , 0.  , 0.  , 0.8 , 0.2 , 0.  , 0.  , 0.  ],\n",
       "       [0.  , 0.  , 0.  , 0.  , 0.  , 0.8 , 0.2 , 0.  , 0.  , 0.  , 0.  ],\n",
       "       [0.  , 0.  , 0.  , 0.  , 0.95, 0.  , 0.  , 0.  , 0.  , 0.  , 0.05],\n",
       "       [0.  , 0.  , 0.  , 0.95, 0.05, 0.  , 0.  , 0.  , 0.  , 0.  , 0.  ],\n",
       "       [0.  , 0.  , 0.95, 0.05, 0.  , 0.  , 0.  , 0.  , 0.  , 0.  , 0.  ],\n",
       "       [0.  , 0.95, 0.05, 0.  , 0.  , 0.  , 0.  , 0.  , 0.  , 0.  , 0.  ],\n",
       "       [0.95, 0.05, 0.  , 0.  , 0.  , 0.  , 0.  , 0.  , 0.  , 0.  , 0.  ],\n",
       "       [0.  , 0.  , 0.  , 0.  , 0.  , 0.  , 0.  , 0.  , 0.  , 0.  , 1.  ]])"
      ]
     },
     "execution_count": 3,
     "metadata": {},
     "output_type": "execute_result"
    }
   ],
   "source": [
    "M[0][10] = .2\n",
    "M[0][9] = .8\n",
    "\n",
    "M[1][9] = .2\n",
    "M[1][8] = .8\n",
    "\n",
    "M[2][8] = .2\n",
    "M[2][7] = .8\n",
    "\n",
    "M[3][7] = .2\n",
    "M[3][6] = .8\n",
    "\n",
    "M[4][6] = .2\n",
    "M[4][5] = .8\n",
    "\n",
    "M[5][4] = .95\n",
    "M[5][10] = .05\n",
    "\n",
    "M[6][3] = .95\n",
    "M[6][4] = .05\n",
    "\n",
    "M[7][2] = .95\n",
    "M[7][3] = .05\n",
    "\n",
    "M[8][1] = .95\n",
    "M[8][2] = .05\n",
    "\n",
    "M[9][0] = .95\n",
    "M[9][1] = .05\n",
    "\n",
    "M[10][10] = 1\n",
    "\n",
    "M"
   ]
  },
  {
   "cell_type": "code",
   "execution_count": 4,
   "metadata": {},
   "outputs": [],
   "source": [
    "#first state is home 2\n",
    "initial_state = 7\n",
    "\n",
    "def till_get_wet(start_state, matrix, max_steps = 100000):\n",
    "    current_state = start_state\n",
    "    steps = 0\n",
    "    while(current_state != 10):\n",
    "        current_state = np.random.choice(11, p=M[current_state])\n",
    "        steps += 1\n",
    "        if (steps == max_steps):\n",
    "            return max_steps\n",
    "    return steps\n",
    "\n",
    "def aggregate(func, start_state, matrix, max_steps = 100000, trials=10000):\n",
    "    total = 0\n",
    "    for trail in range(trials):\n",
    "        total += func(start_state, matrix, max_steps=max_steps)\n",
    "    return total/trials\n",
    "\n",
    "#0 if wet coming from home and 1 if wet coming from work (default 0)\n",
    "def wet_from_work(start_state, matrix, max_steps = 100000):\n",
    "    prev_state = start_state\n",
    "    current_state = start_state\n",
    "    steps = 0\n",
    "    while(current_state != 10):\n",
    "        prev_state = current_state\n",
    "        #print(prev_state)\n",
    "        current_state = np.random.choice(11, p=M[current_state])\n",
    "        steps += 1\n",
    "        if (steps == max_steps):\n",
    "            return 0\n",
    "    #print(\"prev state\", prev_state)\n",
    "    return int((prev_state < 5))"
   ]
  },
  {
   "cell_type": "code",
   "execution_count": 5,
   "metadata": {},
   "outputs": [
    {
     "data": {
      "text/plain": [
       "39.0733"
      ]
     },
     "execution_count": 5,
     "metadata": {},
     "output_type": "execute_result"
    }
   ],
   "source": [
    "#average distance from around 10000 trials\n",
    "aggregate(till_get_wet,7, M)"
   ]
  },
  {
   "cell_type": "code",
   "execution_count": 6,
   "metadata": {},
   "outputs": [
    {
     "data": {
      "text/plain": [
       "0.9899"
      ]
     },
     "execution_count": 6,
     "metadata": {},
     "output_type": "execute_result"
    }
   ],
   "source": [
    "#from around 100000 trials\n",
    "aggregate(wet_from_work,7, M)"
   ]
  },
  {
   "cell_type": "code",
   "execution_count": null,
   "metadata": {},
   "outputs": [],
   "source": [
    "#my apologies but doing this in jupyter is just much nicer (should be easier to read than r as well)"
   ]
  }
 ],
 "metadata": {
  "kernelspec": {
   "display_name": "Python 3",
   "language": "python",
   "name": "python3"
  },
  "language_info": {
   "codemirror_mode": {
    "name": "ipython",
    "version": 3
   },
   "file_extension": ".py",
   "mimetype": "text/x-python",
   "name": "python",
   "nbconvert_exporter": "python",
   "pygments_lexer": "ipython3",
   "version": "3.8.6"
  }
 },
 "nbformat": 4,
 "nbformat_minor": 4
}
