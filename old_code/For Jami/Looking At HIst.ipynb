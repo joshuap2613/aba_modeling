{
 "cells": [
  {
   "cell_type": "code",
   "execution_count": 1,
   "metadata": {},
   "outputs": [],
   "source": [
    "import h5py\n",
    "import pandas as pd"
   ]
  },
  {
   "cell_type": "code",
   "execution_count": 3,
   "metadata": {},
   "outputs": [],
   "source": [
    "filepath = '0803_cr7_intensities'\n",
    "f = h5py.File(filepath,'r')"
   ]
  },
  {
   "cell_type": "code",
   "execution_count": 4,
   "metadata": {},
   "outputs": [],
   "source": [
    "a_group_key = list(f.keys())[0]\n",
    "dset = f[a_group_key]\n",
    "data = dset[:]"
   ]
  },
  {
   "cell_type": "code",
   "execution_count": 5,
   "metadata": {},
   "outputs": [],
   "source": [
    "df = pd.DataFrame(data)\n",
    "df.sequence = df.sequence.str.decode('utf-8')"
   ]
  },
  {
   "cell_type": "code",
   "execution_count": 6,
   "metadata": {},
   "outputs": [
    {
     "data": {
      "text/html": [
       "<div>\n",
       "<style scoped>\n",
       "    .dataframe tbody tr th:only-of-type {\n",
       "        vertical-align: middle;\n",
       "    }\n",
       "\n",
       "    .dataframe tbody tr th {\n",
       "        vertical-align: top;\n",
       "    }\n",
       "\n",
       "    .dataframe thead th {\n",
       "        text-align: right;\n",
       "    }\n",
       "</style>\n",
       "<table border=\"1\" class=\"dataframe\">\n",
       "  <thead>\n",
       "    <tr style=\"text-align: right;\">\n",
       "      <th></th>\n",
       "      <th>sequence</th>\n",
       "      <th>median intensties</th>\n",
       "    </tr>\n",
       "  </thead>\n",
       "  <tbody>\n",
       "    <tr>\n",
       "      <th>0</th>\n",
       "      <td>TTTGATCTGAAATATAGTCCTC</td>\n",
       "      <td>[5924.6208755714215, 6672.256511422405, 7027.0...</td>\n",
       "    </tr>\n",
       "    <tr>\n",
       "      <th>1</th>\n",
       "      <td>TTTGACTAAATATTCAGGTC</td>\n",
       "      <td>[7886.635524101301, 8517.277643781206, 8828.94...</td>\n",
       "    </tr>\n",
       "    <tr>\n",
       "      <th>2</th>\n",
       "      <td>TGTTATCTGAAATATTCAGGTC</td>\n",
       "      <td>[10620.833055780044, 10342.965232244012, 10610...</td>\n",
       "    </tr>\n",
       "    <tr>\n",
       "      <th>3</th>\n",
       "      <td>TTTGATCTGATACATATTCAGGTC</td>\n",
       "      <td>[6328.803565593105, 6827.525546735309, 6702.06...</td>\n",
       "    </tr>\n",
       "    <tr>\n",
       "      <th>4</th>\n",
       "      <td>TTTGATCTGAAATCTTCAAGTC</td>\n",
       "      <td>[9640.404512417408, 9008.02510752511, 9707.422...</td>\n",
       "    </tr>\n",
       "  </tbody>\n",
       "</table>\n",
       "</div>"
      ],
      "text/plain": [
       "                   sequence                                  median intensties\n",
       "0    TTTGATCTGAAATATAGTCCTC  [5924.6208755714215, 6672.256511422405, 7027.0...\n",
       "1      TTTGACTAAATATTCAGGTC  [7886.635524101301, 8517.277643781206, 8828.94...\n",
       "2    TGTTATCTGAAATATTCAGGTC  [10620.833055780044, 10342.965232244012, 10610...\n",
       "3  TTTGATCTGATACATATTCAGGTC  [6328.803565593105, 6827.525546735309, 6702.06...\n",
       "4    TTTGATCTGAAATCTTCAAGTC  [9640.404512417408, 9008.02510752511, 9707.422..."
      ]
     },
     "execution_count": 6,
     "metadata": {},
     "output_type": "execute_result"
    }
   ],
   "source": [
    "df.head()"
   ]
  },
  {
   "cell_type": "code",
   "execution_count": 8,
   "metadata": {},
   "outputs": [
    {
     "data": {
      "text/plain": [
       "array([ 5924.62087557,  6672.25651142,  7027.03246924,  7703.59378778,\n",
       "        8421.12166007,  8919.66818973,  9837.50702731, 11932.9299389 ,\n",
       "       13290.94500061, 15879.57366531, 17931.29391076])"
      ]
     },
     "execution_count": 8,
     "metadata": {},
     "output_type": "execute_result"
    }
   ],
   "source": [
    "df[\"median intensties\"][0]"
   ]
  },
  {
   "cell_type": "code",
   "execution_count": 9,
   "metadata": {},
   "outputs": [
    {
     "data": {
      "text/html": [
       "<div>\n",
       "<style scoped>\n",
       "    .dataframe tbody tr th:only-of-type {\n",
       "        vertical-align: middle;\n",
       "    }\n",
       "\n",
       "    .dataframe tbody tr th {\n",
       "        vertical-align: top;\n",
       "    }\n",
       "\n",
       "    .dataframe thead th {\n",
       "        text-align: right;\n",
       "    }\n",
       "</style>\n",
       "<table border=\"1\" class=\"dataframe\">\n",
       "  <thead>\n",
       "    <tr style=\"text-align: right;\">\n",
       "      <th></th>\n",
       "      <th>sequence</th>\n",
       "      <th>median intensties</th>\n",
       "    </tr>\n",
       "  </thead>\n",
       "  <tbody>\n",
       "    <tr>\n",
       "      <th>0</th>\n",
       "      <td>TTTGATCTGAAATATAGTCCTC</td>\n",
       "      <td>[5924.6208755714215, 6672.256511422405, 7027.0...</td>\n",
       "    </tr>\n",
       "    <tr>\n",
       "      <th>1</th>\n",
       "      <td>TTTGACTAAATATTCAGGTC</td>\n",
       "      <td>[7886.635524101301, 8517.277643781206, 8828.94...</td>\n",
       "    </tr>\n",
       "    <tr>\n",
       "      <th>2</th>\n",
       "      <td>TGTTATCTGAAATATTCAGGTC</td>\n",
       "      <td>[10620.833055780044, 10342.965232244012, 10610...</td>\n",
       "    </tr>\n",
       "    <tr>\n",
       "      <th>3</th>\n",
       "      <td>TTTGATCTGATACATATTCAGGTC</td>\n",
       "      <td>[6328.803565593105, 6827.525546735309, 6702.06...</td>\n",
       "    </tr>\n",
       "    <tr>\n",
       "      <th>4</th>\n",
       "      <td>TTTGATCTGAAATCTTCAAGTC</td>\n",
       "      <td>[9640.404512417408, 9008.02510752511, 9707.422...</td>\n",
       "    </tr>\n",
       "  </tbody>\n",
       "</table>\n",
       "</div>"
      ],
      "text/plain": [
       "                   sequence                                  median intensties\n",
       "0    TTTGATCTGAAATATAGTCCTC  [5924.6208755714215, 6672.256511422405, 7027.0...\n",
       "1      TTTGACTAAATATTCAGGTC  [7886.635524101301, 8517.277643781206, 8828.94...\n",
       "2    TGTTATCTGAAATATTCAGGTC  [10620.833055780044, 10342.965232244012, 10610...\n",
       "3  TTTGATCTGATACATATTCAGGTC  [6328.803565593105, 6827.525546735309, 6702.06...\n",
       "4    TTTGATCTGAAATCTTCAAGTC  [9640.404512417408, 9008.02510752511, 9707.422..."
      ]
     },
     "execution_count": 9,
     "metadata": {},
     "output_type": "execute_result"
    }
   ],
   "source": [
    "df.head()"
   ]
  },
  {
   "cell_type": "code",
   "execution_count": null,
   "metadata": {},
   "outputs": [],
   "source": []
  }
 ],
 "metadata": {
  "kernelspec": {
   "display_name": "Python 3",
   "language": "python",
   "name": "python3"
  },
  "language_info": {
   "codemirror_mode": {
    "name": "ipython",
    "version": 3
   },
   "file_extension": ".py",
   "mimetype": "text/x-python",
   "name": "python",
   "nbconvert_exporter": "python",
   "pygments_lexer": "ipython3",
   "version": "3.8.6"
  }
 },
 "nbformat": 4,
 "nbformat_minor": 4
}
