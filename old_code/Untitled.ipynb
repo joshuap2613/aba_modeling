{
 "cells": [
  {
   "cell_type": "code",
   "execution_count": 1,
   "metadata": {},
   "outputs": [],
   "source": [
    "import numpy as np"
   ]
  },
  {
   "cell_type": "code",
   "execution_count": 6,
   "metadata": {},
   "outputs": [
    {
     "data": {
      "text/plain": [
       "array([-1.,  1.,  1.,  1., -1.,  1.,  1.,  1.,  1.,  1.])"
      ]
     },
     "execution_count": 6,
     "metadata": {},
     "output_type": "execute_result"
    }
   ],
   "source": [
    "(np.random.randint(2, size=10)-.5)*2"
   ]
  },
  {
   "cell_type": "code",
   "execution_count": 9,
   "metadata": {},
   "outputs": [
    {
     "name": "stdout",
     "output_type": "stream",
     "text": [
      "0.890682\n"
     ]
    }
   ],
   "source": [
    "count = 0\n",
    "trials = 1000000\n",
    "for i in range(trials):\n",
    "    x = (np.random.randint(2, size=10)-.5)*2\n",
    "    if max(np.cumsum(x)) < 5:\n",
    "        count +=1\n",
    "print (count/trials)"
   ]
  },
  {
   "cell_type": "code",
   "execution_count": null,
   "metadata": {},
   "outputs": [],
   "source": [
    "count = 0\n",
    "trials = 1000000\n",
    "for i in range(trials):\n",
    "    x = (np.random.randint(2, size=19)-.5)*2\n",
    "    if max(np.cumsum(x)) >= 10:\n",
    "        count +=1\n",
    "print (count/trials)"
   ]
  },
  {
   "cell_type": "code",
   "execution_count": 12,
   "metadata": {},
   "outputs": [
    {
     "name": "stdout",
     "output_type": "stream",
     "text": [
      "0.980674\n"
     ]
    }
   ],
   "source": [
    "count = 0\n",
    "trials = 1000000\n",
    "for i in range(trials):\n",
    "    x = (np.random.randint(2, size=18)-.5)*2\n",
    "    if max(np.cumsum(x)) < 10:\n",
    "        count +=1\n",
    "print (count/trials)"
   ]
  },
  {
   "cell_type": "code",
   "execution_count": 11,
   "metadata": {},
   "outputs": [
    {
     "name": "stdout",
     "output_type": "stream",
     "text": [
      "0.980759\n"
     ]
    }
   ],
   "source": [
    "count = 0\n",
    "trials = 1000000\n",
    "for i in range(trials):\n",
    "    x = (np.random.randint(2, size=18)-.5)*2\n",
    "    if max(np.cumsum(x)) < 10:\n",
    "        count +=1\n",
    "print (count/trials)"
   ]
  },
  {
   "cell_type": "code",
   "execution_count": 18,
   "metadata": {},
   "outputs": [
    {
     "name": "stdout",
     "output_type": "stream",
     "text": [
      "0.003181\n"
     ]
    }
   ],
   "source": [
    "count = 0\n",
    "trials = 1000000\n",
    "for i in range(trials):\n",
    "    x = (np.random.randint(2, size=15)-.5)*2\n",
    "    if max(np.cumsum(x)) == 11:\n",
    "        count +=1\n",
    "print (count/trials)"
   ]
  },
  {
   "cell_type": "code",
   "execution_count": null,
   "metadata": {},
   "outputs": [],
   "source": []
  }
 ],
 "metadata": {
  "kernelspec": {
   "display_name": "Python 3",
   "language": "python",
   "name": "python3"
  },
  "language_info": {
   "codemirror_mode": {
    "name": "ipython",
    "version": 3
   },
   "file_extension": ".py",
   "mimetype": "text/x-python",
   "name": "python",
   "nbconvert_exporter": "python",
   "pygments_lexer": "ipython3",
   "version": "3.7.5"
  }
 },
 "nbformat": 4,
 "nbformat_minor": 2
}
