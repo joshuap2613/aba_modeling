{
 "cells": [
  {
   "cell_type": "code",
   "execution_count": 387,
   "metadata": {},
   "outputs": [],
   "source": [
    "import tensorflow as tf\n",
    "from tensorflow.keras.datasets import cifar10\n",
    "from tensorflow.keras.preprocessing.image import ImageDataGenerator\n",
    "from tensorflow.keras.models import Sequential\n",
    "from tensorflow.keras.layers import Dense, Dropout, Activation, Flatten\n",
    "from tensorflow.keras.layers import Conv2D, MaxPooling2D"
   ]
  },
  {
   "cell_type": "code",
   "execution_count": 148,
   "metadata": {},
   "outputs": [],
   "source": [
    "import numpy as np\n",
    "import pandas as pd\n",
    "import edit_distance\n",
    "from sklearn import linear_model, preprocessing\n",
    "from sklearn.linear_model import HuberRegressor, Ridge\n",
    "import matplotlib.pyplot as plt\n",
    "from scipy.stats import pearsonr"
   ]
  },
  {
   "cell_type": "code",
   "execution_count": 453,
   "metadata": {},
   "outputs": [],
   "source": [
    "# Time to load in the data\n",
    "data = pd.read_csv(\"data.csv\")\n",
    "energies = pd.read_csv(\"subopt_attributes.csv\")\n",
    "energies[\"sequence\"] = energies.Sequence.str.slice(29, -32).str.replace(\"U\", \"T\")\n",
    "big_table = pd.merge(energies, data, on='sequence', how=\"inner\")\n",
    "\n",
    "#columns list needed when we add data later\n",
    "cols = list(energies.columns)\n",
    "cols.remove('Sequence')\n",
    "cols.remove('sequence')\n",
    "#now we want to add the ABA column to big_table\n",
    "perfect_sequence = \"CCATAGAGAGGTTATCCGCTCA\"\n",
    "PERFECT_KD = big_table[big_table['sequence'] == perfect_sequence].iloc[0]['kd']\n",
    "PERFECT_SEQ = big_table[big_table['sequence'] == perfect_sequence].iloc[0]['Sequence']\n",
    "big_table['ABA'] = (big_table.kd/PERFECT_KD).apply(np.log)\n",
    "big_table.head()\n",
    "#This function recovers the sequence of changes (insertions/deletions/replacements)\n",
    "#from the perfect sequence to the target sequence\n",
    "def get_diff(perfect, x):\n",
    "    output = []\n",
    "    sm = edit_distance.SequenceMatcher(a=perfect, b=x)\n",
    "    for row in sm.get_opcodes():\n",
    "        if row[0] == \"equal\":\n",
    "            continue\n",
    "        elif row[0] == \"insert\":\n",
    "            output.append((row[1], \"insert\", x[row[3]]))\n",
    "        elif row[0] == \"delete\":\n",
    "            output.append((row[1], \"delete\"))\n",
    "        else:\n",
    "            output.append((row[1], \"replace\", x[row[3]]))\n",
    "    return output\n",
    "# want to create a value mapping table of the changes\n",
    "# the structure goes like this:\n",
    "# [(index, i, A), (index, i, C), (index, i, G), (index, i  T),\n",
    "#  (index, r, A), (index, r, C), (index, r, G), (index, r, T), (index, d)]\n",
    "# index is the position on the rna, i is insertion, r is replacement, d is deletion,\n",
    "# In the future we can try to have a way to combine these variables\n",
    "\n",
    "def get_action(coord):\n",
    "    if (coord % 9) == 0:\n",
    "        return \"INS A\"\n",
    "    if (coord % 9) == 1:\n",
    "        return \"INS C\"\n",
    "    if (coord % 9) == 2:\n",
    "        return \"INS G\"\n",
    "    if (coord % 9) == 3:\n",
    "        return \"INS T\"\n",
    "    if (coord % 9) == 4:\n",
    "        return \"REP A\"\n",
    "    if (coord % 9) == 5:\n",
    "        return \"REP C\"\n",
    "    if (coord % 9) == 6:\n",
    "        return \"REP G\"\n",
    "    if (coord % 9) == 7:\n",
    "        return \"REP T\"\n",
    "    if (coord % 9) == 8:\n",
    "        return \"DEL\"\n",
    "    \n",
    "\n",
    "def get_position(coord):\n",
    "    if len(coord) == 2:\n",
    "        return coord[0]*9+8\n",
    "    elif coord[1] == 'insert' and coord[2] == 'A':\n",
    "        return coord[0]*9\n",
    "    elif coord[1] == 'insert' and coord[2] == 'C':\n",
    "        return coord[0]*9 + 1\n",
    "    elif coord[1] == 'insert' and coord[2] == 'G':\n",
    "        return coord[0]*9 + 2\n",
    "    elif coord[1] == 'insert' and coord[2] == 'T':\n",
    "        return coord[0]*9 + 3\n",
    "    elif coord[1] == 'replace' and coord[2] == 'A':\n",
    "        return coord[0]*9 + 4\n",
    "    elif coord[1] == 'replace' and coord[2] == 'C':\n",
    "        return coord[0]*9 + 6\n",
    "    elif coord[1] == 'replace' and coord[2] == 'G':\n",
    "        return coord[0]*9 + 6\n",
    "    elif coord[1] == 'replace' and coord[2] == 'T':\n",
    "        return coord[0]*9 + 7\n",
    "    else:\n",
    "        print (\"INCORRECT COORDINATE\")\n",
    "        return -1\n",
    "# to help analyze results\n",
    "def display(predicted, actual):\n",
    "    plt.scatter(predicted, actual)\n",
    "    plt.xlabel(\"predicted ABA\")\n",
    "    plt.ylabel(\"actual ABA\")\n",
    "    plt.title(\"predicted vs actual\")\n",
    "    plt.show()\n",
    "    #now we build the table that we will use for regressions\n",
    "#think of data_matrix as input and output variable as output\n",
    "seq_aba_pairs = big_table.groupby('sequence')['ABA'].apply(float).to_dict()\n",
    "def create_matrix():\n",
    "    pruned_combined_data_matrix = []\n",
    "    pruned_output = []\n",
    "    for seq in seq_aba_pairs:\n",
    "        #print(seq, perfect_sequence)\n",
    "        if seq_aba_pairs[seq] < 6:\n",
    "            pruned_output.append(seq_aba_pairs[seq])\n",
    "            coords = get_diff(perfect_sequence, seq)\n",
    "            row = [0 for i in range(9*len(perfect_sequence))]\n",
    "            for coord in coords:\n",
    "                row[get_position(coord)] = 1\n",
    "            #append the value of the energy levels\n",
    "            #row.append(big_table[big_table['sequence'] == seq].iloc[0]['vienna_worst_100'])\n",
    "            #row.append(np.exp(big_table[big_table['sequence'] == seq].iloc[0]['vienna_worst_100']))\n",
    "            row.extend(list(big_table[big_table['sequence'] == seq].iloc[0][cols]))\n",
    "            #row.extend(list((np.array(list(big_table[big_table['sequence'] == seq].iloc[0][cols]))**2)))\n",
    "            pruned_combined_data_matrix.append(row)\n",
    "    X = np.array(pruned_combined_data_matrix)\n",
    "    y = np.array(pruned_output)\n",
    "    return X, y"
   ]
  },
  {
   "cell_type": "code",
   "execution_count": 454,
   "metadata": {},
   "outputs": [],
   "source": [
    "X, y = create_matrix()\n",
    "X_add = []\n",
    "for row in X:\n",
    "    add_row = []\n",
    "    for gene in range(int(len(X[0])/9)):\n",
    "        add_row.extend([max(row[gene*9: (gene+1)*9]), min(row[gene*9: (gene+1)*9]),\n",
    "                       sum(row[gene*9: (gene+1)*9])])\n",
    "    for gene in range(int(len(X[0])/27)):\n",
    "        add_row.extend([max(row[gene*27: (gene+1)*27]), min(row[gene*27: (gene+1)*27]),\n",
    "                       sum(row[gene*27: (gene+1)*27])])\n",
    "    for gene in range(int(len(X[0])/54)):\n",
    "        add_row.extend([max(row[gene*54: (gene+1)*54]), min(row[gene*54: (gene+1)*54]),\n",
    "                       sum(row[gene*54: (gene+1)*54])])\n",
    "    for gene in range(int(len(X[0])/108)):\n",
    "        add_row.extend([max(row[gene*99: (gene+1)*99]), min(row[gene*99: (gene+1)*99]),\n",
    "                       sum(row[gene*99: (gene+1)*99])])\n",
    "    for i in range(9):\n",
    "        sub_list = [row[gene*9: (gene+1)*9][i] for gene in range(int(len(X[0])/9))]\n",
    "        add_row.extend([max(sub_list), min(sub_list),sum(sub_list)])\n",
    "        #add_row.extend([max(sub_list)**2, min(sub_list)**2,sum(sub_list)**2])\n",
    "    X_add.append(add_row)\n",
    "X_add = np.array(X_add)\n",
    "X = np.append(X, X_add, axis=1)"
   ]
  },
  {
   "cell_type": "code",
   "execution_count": 126,
   "metadata": {},
   "outputs": [
    {
     "data": {
      "text/plain": [
       "array([0, 0, 0, 0, 0, 0, 0, 1, 0, 0, 0, 0, 0, 0, 0, 0, 1, 0, 0, 0, 0, 0,\n",
       "       0, 0, 0, 0, 0, 0, 0, 0, 0, 0, 0, 0, 0, 0, 0, 0, 0, 0, 0, 0, 0, 0,\n",
       "       0, 0, 0, 0, 0, 0, 0, 0, 0, 0, 0, 0, 0, 0, 0, 0, 0, 0, 0, 0, 0, 0,\n",
       "       0, 0, 0, 0, 0, 0, 0, 0, 0, 0, 0, 0, 0, 0, 0, 0, 0, 0, 0, 0, 0, 0,\n",
       "       0, 0, 0, 0, 0, 0, 0, 0, 0, 0, 0, 0, 0, 0, 0, 0, 0, 0, 0, 0, 0, 0,\n",
       "       0, 0, 0, 0, 0, 0, 0, 0, 0, 0, 0, 0, 0, 0, 0, 0, 0, 0, 0, 0, 0, 0,\n",
       "       0, 0, 0, 0, 0, 0, 0, 0, 0, 0, 0, 0, 0, 0, 0, 0, 0, 0, 0, 0, 0, 0,\n",
       "       0, 0, 0, 0, 0, 0, 0, 0, 0, 0, 0, 0, 0, 0, 0, 0, 0, 0, 0, 0, 0, 0,\n",
       "       0, 0, 0, 0, 0, 0, 0, 0, 0, 0, 0, 0, 0, 0, 0, 0, 0, 0, 0, 0, 0, 0])"
      ]
     },
     "execution_count": 126,
     "metadata": {},
     "output_type": "execute_result"
    }
   ],
   "source": [
    "X[-1]"
   ]
  },
  {
   "cell_type": "code",
   "execution_count": 63,
   "metadata": {},
   "outputs": [],
   "source": [
    "model = Sequential()"
   ]
  },
  {
   "cell_type": "code",
   "execution_count": 64,
   "metadata": {},
   "outputs": [],
   "source": [
    "#model.add(Conv2D(256, (3, 3), input_shape=X.shape[1:]))"
   ]
  },
  {
   "cell_type": "code",
   "execution_count": 134,
   "metadata": {},
   "outputs": [],
   "source": []
  },
  {
   "cell_type": "code",
   "execution_count": 336,
   "metadata": {},
   "outputs": [],
   "source": [
    "def hinge(x, exp=1):\n",
    "    return min(x, 6**exp)\n",
    "vhinge = np.vectorize(hinge)"
   ]
  },
  {
   "cell_type": "code",
   "execution_count": 190,
   "metadata": {},
   "outputs": [
    {
     "data": {
      "image/png": "[encoded data removed]",
      "text/plain": [
       "<Figure size 432x288 with 1 Axes>"
      ]
     },
     "metadata": {
      "needs_background": "light"
     },
     "output_type": "display_data"
    }
   ],
   "source": [
    "x = preprocessing.scale(X)\n",
    "huber = HuberRegressor(alpha=1.0, epsilon=1.35)\n",
    "huber.fit(X, y)\n",
    "huber.coef_\n",
    "#This looks like the tightest regression so far\n",
    "predicted_output = X @ huber.coef_ + huber.intercept_\n",
    "display(vhinge(predicted_output), y)"
   ]
  },
  {
   "cell_type": "code",
   "execution_count": 191,
   "metadata": {},
   "outputs": [
    {
     "name": "stdout",
     "output_type": "stream",
     "text": [
      "correlation is 0.8597276204330918\n"
     ]
    }
   ],
   "source": [
    "corr, p_value = pearsonr(vhinge(predicted_output), y)\n",
    "print(\"correlation is\",corr)"
   ]
  },
  {
   "cell_type": "code",
   "execution_count": 144,
   "metadata": {},
   "outputs": [
    {
     "data": {
      "image/png": "[encoded data removed]",
      "text/plain": [
       "<Figure size 432x288 with 1 Axes>"
      ]
     },
     "metadata": {
      "needs_background": "light"
     },
     "output_type": "display_data"
    },
    {
     "name": "stdout",
     "output_type": "stream",
     "text": [
      "correlation is 0.8400224251693794\n"
     ]
    }
   ],
   "source": [
    "reg = linear_model.LinearRegression()\n",
    "reg.fit(X, y)\n",
    "#This looks like the tightest regression so far\n",
    "predicted_output = X @ reg.coef_ + reg.intercept_\n",
    "display(vhinge(predicted_output), y)\n",
    "corr, p_value = pearsonr(vhinge(predicted_output), y)\n",
    "print(\"correlation is\",corr)"
   ]
  },
  {
   "cell_type": "code",
   "execution_count": 132,
   "metadata": {},
   "outputs": [
    {
     "data": {
      "text/plain": [
       "array([[0, 0, 0, ..., 0, 0, 0],\n",
       "       [0, 0, 0, ..., 0, 0, 0],\n",
       "       [0, 0, 0, ..., 0, 0, 0],\n",
       "       ...,\n",
       "       [0, 0, 0, ..., 0, 0, 0],\n",
       "       [0, 0, 0, ..., 0, 0, 0],\n",
       "       [0, 0, 0, ..., 0, 0, 0]])"
      ]
     },
     "execution_count": 132,
     "metadata": {},
     "output_type": "execute_result"
    }
   ],
   "source": [
    "X"
   ]
  },
  {
   "cell_type": "code",
   "execution_count": 458,
   "metadata": {},
   "outputs": [],
   "source": [
    "indices = np.arange(X.shape[0])\n",
    "np.random.shuffle(indices)\n",
    "X = X[indices]\n",
    "y = y[indices]\n",
    "train_x = X[:2000]\n",
    "test_x = X[2000:]\n",
    "train_y = y[:2000]\n",
    "test_y = y[2000:]"
   ]
  },
  {
   "cell_type": "code",
   "execution_count": 143,
   "metadata": {},
   "outputs": [
    {
     "data": {
      "image/png": "[encoded data removed]",
      "text/plain": [
       "<Figure size 432x288 with 1 Axes>"
      ]
     },
     "metadata": {
      "needs_background": "light"
     },
     "output_type": "display_data"
    },
    {
     "name": "stdout",
     "output_type": "stream",
     "text": [
      "correlation is -0.019913870301540508\n"
     ]
    }
   ],
   "source": [
    "'''\n",
    "huber = HuberRegressor(alpha=1.0, epsilon=1.35)\n",
    "huber.fit(train_x, train_y)\n",
    "huber.coef_\n",
    "#This looks like the tightest regression so far\n",
    "predicted_output = test_x @ huber.coef_ + huber.intercept_\n",
    "'''\n",
    "reg = linear_model.LinearRegression()\n",
    "reg.fit(train_x, train_y)\n",
    "#This looks like the tightest regression so far\n",
    "predicted_output = test_x @ reg.coef_ + reg.intercept_\n",
    "display(vhinge(predicted_output), test_y)\n",
    "corr, p_value = pearsonr(vhinge(predicted_output), test_y)\n",
    "print(\"correlation is\",corr)"
   ]
  },
  {
   "cell_type": "code",
   "execution_count": 11,
   "metadata": {},
   "outputs": [
    {
     "data": {
      "text/plain": [
       "'GGGAATGGATCCACATCTACGAATTCGTACCATAGAGAGGTTATACACGCTCACCGAGATCGGAAGAGCACACGTCTGAACTCCA'"
      ]
     },
     "execution_count": 11,
     "metadata": {},
     "output_type": "execute_result"
    }
   ],
   "source": [
    "energies.loc[0]['Sequence'].replace('U', 'T')"
   ]
  },
  {
   "cell_type": "code",
   "execution_count": 12,
   "metadata": {},
   "outputs": [
    {
     "data": {
      "text/plain": [
       "'CCATAGAGAGGTTATACACGCTCA'"
      ]
     },
     "execution_count": 12,
     "metadata": {},
     "output_type": "execute_result"
    }
   ],
   "source": [
    "energies.loc[0]['sequence']"
   ]
  },
  {
   "cell_type": "code",
   "execution_count": 13,
   "metadata": {},
   "outputs": [
    {
     "data": {
      "text/plain": [
       "'GGGAATGGATCCACATCTACGAATTCGTACCAGAGAGTGGTTATCCGCTCACCGAGATCGGAAGAGCACACGTCTGAACTCCA'"
      ]
     },
     "execution_count": 13,
     "metadata": {},
     "output_type": "execute_result"
    }
   ],
   "source": [
    "energies.loc[1]['Sequence'].replace('U', 'T')"
   ]
  },
  {
   "cell_type": "code",
   "execution_count": 10,
   "metadata": {},
   "outputs": [
    {
     "data": {
      "text/plain": [
       "'CCAGAGAGTGGTTATCCGCTCA'"
      ]
     },
     "execution_count": 10,
     "metadata": {},
     "output_type": "execute_result"
    }
   ],
   "source": [
    "energies.loc[1]['sequence']"
   ]
  },
  {
   "cell_type": "code",
   "execution_count": 14,
   "metadata": {},
   "outputs": [],
   "source": [
    "energies[\"head\"] = energies.Sequence.str.slice(26, 29).str.replace(\"U\", \"T\")"
   ]
  },
  {
   "cell_type": "code",
   "execution_count": 23,
   "metadata": {},
   "outputs": [
    {
     "data": {
      "text/plain": [
       "array(['GTA'], dtype=object)"
      ]
     },
     "execution_count": 23,
     "metadata": {},
     "output_type": "execute_result"
    }
   ],
   "source": [
    "energies['head'].unique()"
   ]
  },
  {
   "cell_type": "code",
   "execution_count": 20,
   "metadata": {},
   "outputs": [],
   "source": [
    "energies[\"tail\"] = energies.Sequence.str.slice(-32, -29).str.replace(\"U\", \"T\")"
   ]
  },
  {
   "cell_type": "code",
   "execution_count": 22,
   "metadata": {},
   "outputs": [
    {
     "data": {
      "text/plain": [
       "array(['CCG'], dtype=object)"
      ]
     },
     "execution_count": 22,
     "metadata": {},
     "output_type": "execute_result"
    }
   ],
   "source": [
    "energies['tail'].unique()"
   ]
  },
  {
   "cell_type": "code",
   "execution_count": 24,
   "metadata": {},
   "outputs": [
    {
     "data": {
      "text/html": [
       "<div>\n",
       "<style scoped>\n",
       "    .dataframe tbody tr th:only-of-type {\n",
       "        vertical-align: middle;\n",
       "    }\n",
       "\n",
       "    .dataframe tbody tr th {\n",
       "        vertical-align: top;\n",
       "    }\n",
       "\n",
       "    .dataframe thead th {\n",
       "        text-align: right;\n",
       "    }\n",
       "</style>\n",
       "<table border=\"1\" class=\"dataframe\">\n",
       "  <thead>\n",
       "    <tr style=\"text-align: right;\">\n",
       "      <th></th>\n",
       "      <th>Sequence</th>\n",
       "      <th>Vienna</th>\n",
       "      <th>MFold</th>\n",
       "      <th>sequence</th>\n",
       "      <th>head</th>\n",
       "      <th>tail</th>\n",
       "    </tr>\n",
       "  </thead>\n",
       "  <tbody>\n",
       "    <tr>\n",
       "      <th>0</th>\n",
       "      <td>GGGAAUGGAUCCACAUCUACGAAUUCGUACCAUAGAGAGGUUAUAC...</td>\n",
       "      <td>-15.700000</td>\n",
       "      <td>-17.60</td>\n",
       "      <td>CCATAGAGAGGTTATACACGCTCA</td>\n",
       "      <td>GTA</td>\n",
       "      <td>CCG</td>\n",
       "    </tr>\n",
       "    <tr>\n",
       "      <th>1</th>\n",
       "      <td>GGGAAUGGAUCCACAUCUACGAAUUCGUACCAGAGAGUGGUUAUCC...</td>\n",
       "      <td>-23.600000</td>\n",
       "      <td>-20.97</td>\n",
       "      <td>CCAGAGAGTGGTTATCCGCTCA</td>\n",
       "      <td>GTA</td>\n",
       "      <td>CCG</td>\n",
       "    </tr>\n",
       "    <tr>\n",
       "      <th>2</th>\n",
       "      <td>GGGAAUGGAUCCACAUCUACGAAUUCGUACCAUAGAUGAGGUUAUC...</td>\n",
       "      <td>-20.900000</td>\n",
       "      <td>-20.10</td>\n",
       "      <td>CCATAGATGAGGTTATCCGCGTCA</td>\n",
       "      <td>GTA</td>\n",
       "      <td>CCG</td>\n",
       "    </tr>\n",
       "    <tr>\n",
       "      <th>3</th>\n",
       "      <td>GGGAAUGGAUCCACAUCUACGAAUUCGUACCAUAGAGACGGUGUAU...</td>\n",
       "      <td>-22.500000</td>\n",
       "      <td>-22.80</td>\n",
       "      <td>CCATAGAGACGGTGTATCCGCTCA</td>\n",
       "      <td>GTA</td>\n",
       "      <td>CCG</td>\n",
       "    </tr>\n",
       "    <tr>\n",
       "      <th>4</th>\n",
       "      <td>GGGAAUGGAUCCACAUCUACGAAUUCGUACCAUAGAGAGGUUAUCC...</td>\n",
       "      <td>-22.400000</td>\n",
       "      <td>-23.80</td>\n",
       "      <td>CCATAGAGAGGTTATCCGTTCT</td>\n",
       "      <td>GTA</td>\n",
       "      <td>CCG</td>\n",
       "    </tr>\n",
       "    <tr>\n",
       "      <th>...</th>\n",
       "      <td>...</td>\n",
       "      <td>...</td>\n",
       "      <td>...</td>\n",
       "      <td>...</td>\n",
       "      <td>...</td>\n",
       "      <td>...</td>\n",
       "    </tr>\n",
       "    <tr>\n",
       "      <th>4931</th>\n",
       "      <td>GGGAAUGGAUCCACAUCUACGAAUUCGUACCAUAGAGAGGUCUAUC...</td>\n",
       "      <td>-18.600000</td>\n",
       "      <td>-16.42</td>\n",
       "      <td>CCATAGAGAGGTCTATCCGCTCA</td>\n",
       "      <td>GTA</td>\n",
       "      <td>CCG</td>\n",
       "    </tr>\n",
       "    <tr>\n",
       "      <th>4932</th>\n",
       "      <td>GGGAAUGGAUCCACAUCUACGAAUUCGUACCAUGGAGGGGUUAUCC...</td>\n",
       "      <td>-20.100000</td>\n",
       "      <td>-21.30</td>\n",
       "      <td>CCATGGAGGGGTTATCCGCTCA</td>\n",
       "      <td>GTA</td>\n",
       "      <td>CCG</td>\n",
       "    </tr>\n",
       "    <tr>\n",
       "      <th>4933</th>\n",
       "      <td>GGGAAUGGAUCCACAUCUACGAAUUCGUACUAUAGAGAGGUUAGCC...</td>\n",
       "      <td>-16.200001</td>\n",
       "      <td>-18.60</td>\n",
       "      <td>CTATAGAGAGGTTAGCCGCTCA</td>\n",
       "      <td>GTA</td>\n",
       "      <td>CCG</td>\n",
       "    </tr>\n",
       "    <tr>\n",
       "      <th>4934</th>\n",
       "      <td>GGGAAUGGAUCCACAUCUACGAAUUCGUACCAUAGAGACGGUUAUC...</td>\n",
       "      <td>-18.799999</td>\n",
       "      <td>-20.70</td>\n",
       "      <td>CCATAGAGACGGTTATCCTGCTCA</td>\n",
       "      <td>GTA</td>\n",
       "      <td>CCG</td>\n",
       "    </tr>\n",
       "    <tr>\n",
       "      <th>4935</th>\n",
       "      <td>GGGAAUGGAUCCACAUCUACGAAUUCGUACCAUAGAGAGGUUAACC...</td>\n",
       "      <td>-17.100000</td>\n",
       "      <td>-18.30</td>\n",
       "      <td>CCATAGAGAGGTTAACCGCTCA</td>\n",
       "      <td>GTA</td>\n",
       "      <td>CCG</td>\n",
       "    </tr>\n",
       "  </tbody>\n",
       "</table>\n",
       "<p>4936 rows × 6 columns</p>\n",
       "</div>"
      ],
      "text/plain": [
       "                                               Sequence     Vienna  MFold  \\\n",
       "0     GGGAAUGGAUCCACAUCUACGAAUUCGUACCAUAGAGAGGUUAUAC... -15.700000 -17.60   \n",
       "1     GGGAAUGGAUCCACAUCUACGAAUUCGUACCAGAGAGUGGUUAUCC... -23.600000 -20.97   \n",
       "2     GGGAAUGGAUCCACAUCUACGAAUUCGUACCAUAGAUGAGGUUAUC... -20.900000 -20.10   \n",
       "3     GGGAAUGGAUCCACAUCUACGAAUUCGUACCAUAGAGACGGUGUAU... -22.500000 -22.80   \n",
       "4     GGGAAUGGAUCCACAUCUACGAAUUCGUACCAUAGAGAGGUUAUCC... -22.400000 -23.80   \n",
       "...                                                 ...        ...    ...   \n",
       "4931  GGGAAUGGAUCCACAUCUACGAAUUCGUACCAUAGAGAGGUCUAUC... -18.600000 -16.42   \n",
       "4932  GGGAAUGGAUCCACAUCUACGAAUUCGUACCAUGGAGGGGUUAUCC... -20.100000 -21.30   \n",
       "4933  GGGAAUGGAUCCACAUCUACGAAUUCGUACUAUAGAGAGGUUAGCC... -16.200001 -18.60   \n",
       "4934  GGGAAUGGAUCCACAUCUACGAAUUCGUACCAUAGAGACGGUUAUC... -18.799999 -20.70   \n",
       "4935  GGGAAUGGAUCCACAUCUACGAAUUCGUACCAUAGAGAGGUUAACC... -17.100000 -18.30   \n",
       "\n",
       "                      sequence head tail  \n",
       "0     CCATAGAGAGGTTATACACGCTCA  GTA  CCG  \n",
       "1       CCAGAGAGTGGTTATCCGCTCA  GTA  CCG  \n",
       "2     CCATAGATGAGGTTATCCGCGTCA  GTA  CCG  \n",
       "3     CCATAGAGACGGTGTATCCGCTCA  GTA  CCG  \n",
       "4       CCATAGAGAGGTTATCCGTTCT  GTA  CCG  \n",
       "...                        ...  ...  ...  \n",
       "4931   CCATAGAGAGGTCTATCCGCTCA  GTA  CCG  \n",
       "4932    CCATGGAGGGGTTATCCGCTCA  GTA  CCG  \n",
       "4933    CTATAGAGAGGTTAGCCGCTCA  GTA  CCG  \n",
       "4934  CCATAGAGACGGTTATCCTGCTCA  GTA  CCG  \n",
       "4935    CCATAGAGAGGTTAACCGCTCA  GTA  CCG  \n",
       "\n",
       "[4936 rows x 6 columns]"
      ]
     },
     "execution_count": 24,
     "metadata": {},
     "output_type": "execute_result"
    }
   ],
   "source": [
    "energies"
   ]
  },
  {
   "cell_type": "code",
   "execution_count": 26,
   "metadata": {},
   "outputs": [],
   "source": [
    "energies = pd.read_csv(\"subopt_attributes.csv\")"
   ]
  },
  {
   "cell_type": "code",
   "execution_count": 27,
   "metadata": {},
   "outputs": [
    {
     "data": {
      "text/html": [
       "<div>\n",
       "<style scoped>\n",
       "    .dataframe tbody tr th:only-of-type {\n",
       "        vertical-align: middle;\n",
       "    }\n",
       "\n",
       "    .dataframe tbody tr th {\n",
       "        vertical-align: top;\n",
       "    }\n",
       "\n",
       "    .dataframe thead th {\n",
       "        text-align: right;\n",
       "    }\n",
       "</style>\n",
       "<table border=\"1\" class=\"dataframe\">\n",
       "  <thead>\n",
       "    <tr style=\"text-align: right;\">\n",
       "      <th></th>\n",
       "      <th>mfold_opt</th>\n",
       "      <th>mfold_worst</th>\n",
       "      <th>mfold_mean</th>\n",
       "      <th>mfold_samples</th>\n",
       "      <th>mfold_std</th>\n",
       "      <th>mfold_skew</th>\n",
       "      <th>mfold_median</th>\n",
       "      <th>vienna_opt</th>\n",
       "      <th>vienna_worst</th>\n",
       "      <th>vienna_mean</th>\n",
       "      <th>vienna_samples</th>\n",
       "      <th>vienna_std</th>\n",
       "      <th>vienna_skew</th>\n",
       "      <th>vienna_median</th>\n",
       "      <th>vienna_worst_100</th>\n",
       "      <th>vienna_mean_100</th>\n",
       "      <th>Sequence</th>\n",
       "    </tr>\n",
       "  </thead>\n",
       "  <tbody>\n",
       "    <tr>\n",
       "      <th>0</th>\n",
       "      <td>-22.80</td>\n",
       "      <td>-21.10</td>\n",
       "      <td>-22.00</td>\n",
       "      <td>3</td>\n",
       "      <td>0.697615</td>\n",
       "      <td>0.212073</td>\n",
       "      <td>-22.10</td>\n",
       "      <td>-21.9</td>\n",
       "      <td>-16.9</td>\n",
       "      <td>-17.643825</td>\n",
       "      <td>2097</td>\n",
       "      <td>0.751334</td>\n",
       "      <td>-1.611854</td>\n",
       "      <td>-17.4</td>\n",
       "      <td>-19.200001</td>\n",
       "      <td>-19.856</td>\n",
       "      <td>GGGAAUGGAUCCACAUCUACGAAUUCGUACCAUGGAGAGGUUAUCC...</td>\n",
       "    </tr>\n",
       "    <tr>\n",
       "      <th>1</th>\n",
       "      <td>-21.47</td>\n",
       "      <td>-21.47</td>\n",
       "      <td>-21.47</td>\n",
       "      <td>1</td>\n",
       "      <td>0.000000</td>\n",
       "      <td>0.000000</td>\n",
       "      <td>-21.47</td>\n",
       "      <td>-23.9</td>\n",
       "      <td>-18.9</td>\n",
       "      <td>-19.735792</td>\n",
       "      <td>1288</td>\n",
       "      <td>0.838893</td>\n",
       "      <td>-1.601279</td>\n",
       "      <td>-19.5</td>\n",
       "      <td>-21.100000</td>\n",
       "      <td>-21.820</td>\n",
       "      <td>GGGAAUGGAUCCACAUCUACGAAUUCGUACCAUAGAGAGGAUCCGC...</td>\n",
       "    </tr>\n",
       "    <tr>\n",
       "      <th>2</th>\n",
       "      <td>-15.80</td>\n",
       "      <td>-15.20</td>\n",
       "      <td>-15.50</td>\n",
       "      <td>2</td>\n",
       "      <td>0.300000</td>\n",
       "      <td>0.000000</td>\n",
       "      <td>-15.50</td>\n",
       "      <td>-15.5</td>\n",
       "      <td>-10.5</td>\n",
       "      <td>-11.225309</td>\n",
       "      <td>10127</td>\n",
       "      <td>0.724902</td>\n",
       "      <td>-1.580592</td>\n",
       "      <td>-11.0</td>\n",
       "      <td>-13.700000</td>\n",
       "      <td>-14.197</td>\n",
       "      <td>GGGAAUGGAUCCACAUCUACGAAUUCGUACCAUAGAGAGGUUAUCC...</td>\n",
       "    </tr>\n",
       "    <tr>\n",
       "      <th>3</th>\n",
       "      <td>-17.67</td>\n",
       "      <td>-17.67</td>\n",
       "      <td>-17.67</td>\n",
       "      <td>1</td>\n",
       "      <td>0.000000</td>\n",
       "      <td>0.000000</td>\n",
       "      <td>-17.67</td>\n",
       "      <td>-19.5</td>\n",
       "      <td>-14.5</td>\n",
       "      <td>-15.347548</td>\n",
       "      <td>4894</td>\n",
       "      <td>0.831892</td>\n",
       "      <td>-1.490905</td>\n",
       "      <td>-15.1</td>\n",
       "      <td>-17.700001</td>\n",
       "      <td>-18.254</td>\n",
       "      <td>GGGAAUGGAUCCACAUCUACGAAUUCGUACCAUAGAUGAGGUUAUC...</td>\n",
       "    </tr>\n",
       "    <tr>\n",
       "      <th>4</th>\n",
       "      <td>-15.99</td>\n",
       "      <td>-15.99</td>\n",
       "      <td>-15.99</td>\n",
       "      <td>1</td>\n",
       "      <td>0.000000</td>\n",
       "      <td>0.000000</td>\n",
       "      <td>-15.99</td>\n",
       "      <td>-15.7</td>\n",
       "      <td>-10.7</td>\n",
       "      <td>-11.386458</td>\n",
       "      <td>4630</td>\n",
       "      <td>0.699062</td>\n",
       "      <td>-1.641765</td>\n",
       "      <td>-11.2</td>\n",
       "      <td>-13.400000</td>\n",
       "      <td>-13.914</td>\n",
       "      <td>GGGAAUGGAUCCACAUCUACGAAUUCGUACCAUACUCUCCAAUAGG...</td>\n",
       "    </tr>\n",
       "  </tbody>\n",
       "</table>\n",
       "</div>"
      ],
      "text/plain": [
       "   mfold_opt  mfold_worst  mfold_mean  mfold_samples  mfold_std  mfold_skew  \\\n",
       "0     -22.80       -21.10      -22.00              3   0.697615    0.212073   \n",
       "1     -21.47       -21.47      -21.47              1   0.000000    0.000000   \n",
       "2     -15.80       -15.20      -15.50              2   0.300000    0.000000   \n",
       "3     -17.67       -17.67      -17.67              1   0.000000    0.000000   \n",
       "4     -15.99       -15.99      -15.99              1   0.000000    0.000000   \n",
       "\n",
       "   mfold_median  vienna_opt  vienna_worst  vienna_mean  vienna_samples  \\\n",
       "0        -22.10       -21.9         -16.9   -17.643825            2097   \n",
       "1        -21.47       -23.9         -18.9   -19.735792            1288   \n",
       "2        -15.50       -15.5         -10.5   -11.225309           10127   \n",
       "3        -17.67       -19.5         -14.5   -15.347548            4894   \n",
       "4        -15.99       -15.7         -10.7   -11.386458            4630   \n",
       "\n",
       "   vienna_std  vienna_skew  vienna_median  vienna_worst_100  vienna_mean_100  \\\n",
       "0    0.751334    -1.611854          -17.4        -19.200001          -19.856   \n",
       "1    0.838893    -1.601279          -19.5        -21.100000          -21.820   \n",
       "2    0.724902    -1.580592          -11.0        -13.700000          -14.197   \n",
       "3    0.831892    -1.490905          -15.1        -17.700001          -18.254   \n",
       "4    0.699062    -1.641765          -11.2        -13.400000          -13.914   \n",
       "\n",
       "                                            Sequence  \n",
       "0  GGGAAUGGAUCCACAUCUACGAAUUCGUACCAUGGAGAGGUUAUCC...  \n",
       "1  GGGAAUGGAUCCACAUCUACGAAUUCGUACCAUAGAGAGGAUCCGC...  \n",
       "2  GGGAAUGGAUCCACAUCUACGAAUUCGUACCAUAGAGAGGUUAUCC...  \n",
       "3  GGGAAUGGAUCCACAUCUACGAAUUCGUACCAUAGAUGAGGUUAUC...  \n",
       "4  GGGAAUGGAUCCACAUCUACGAAUUCGUACCAUACUCUCCAAUAGG...  "
      ]
     },
     "execution_count": 27,
     "metadata": {},
     "output_type": "execute_result"
    }
   ],
   "source": [
    "energies.head()"
   ]
  },
  {
   "cell_type": "code",
   "execution_count": 84,
   "metadata": {},
   "outputs": [],
   "source": [
    "cols = list(energies.columns)\n",
    "cols.remove('Sequence')\n",
    "cols.remove('sequence')"
   ]
  },
  {
   "cell_type": "code",
   "execution_count": 98,
   "metadata": {},
   "outputs": [
    {
     "data": {
      "text/plain": [
       "[-22.8,\n",
       " -21.1,\n",
       " -22.0,\n",
       " 3.0,\n",
       " 0.6976149845485446,\n",
       " 0.2120728607559804,\n",
       " -22.1,\n",
       " -21.899999618530273,\n",
       " -16.899999618530273,\n",
       " -17.643824508659716,\n",
       " 2097.0,\n",
       " 0.7513340633970687,\n",
       " -1.6118542048529023,\n",
       " -17.399999618530273,\n",
       " -19.200000762939453,\n",
       " -19.85599983215332]"
      ]
     },
     "execution_count": 98,
     "metadata": {},
     "output_type": "execute_result"
    }
   ],
   "source": [
    "list(big_table[cols].loc[0])"
   ]
  },
  {
   "cell_type": "code",
   "execution_count": 85,
   "metadata": {},
   "outputs": [
    {
     "data": {
      "text/plain": [
       "['mfold_opt',\n",
       " 'mfold_worst',\n",
       " 'mfold_mean',\n",
       " 'mfold_samples',\n",
       " 'mfold_std',\n",
       " 'mfold_skew',\n",
       " 'mfold_median',\n",
       " 'vienna_opt',\n",
       " 'vienna_worst',\n",
       " 'vienna_mean',\n",
       " 'vienna_samples',\n",
       " 'vienna_std',\n",
       " 'vienna_skew',\n",
       " 'vienna_median',\n",
       " 'vienna_worst_100',\n",
       " 'vienna_mean_100']"
      ]
     },
     "execution_count": 85,
     "metadata": {},
     "output_type": "execute_result"
    }
   ],
   "source": [
    "cols"
   ]
  },
  {
   "cell_type": "code",
   "execution_count": 92,
   "metadata": {},
   "outputs": [
    {
     "ename": "AttributeError",
     "evalue": "'list' object has no attribute 'head'",
     "output_type": "error",
     "traceback": [
      "\u001b[0;31m---------------------------------------------------------------------------\u001b[0m",
      "\u001b[0;31mAttributeError\u001b[0m                            Traceback (most recent call last)",
      "\u001b[0;32m<ipython-input-92-edf41abbd859>\u001b[0m in \u001b[0;36m<module>\u001b[0;34m\u001b[0m\n\u001b[0;32m----> 1\u001b[0;31m \u001b[0mpruned_combined_data_matrix\u001b[0m\u001b[0;34m.\u001b[0m\u001b[0mhead\u001b[0m\u001b[0;34m(\u001b[0m\u001b[0;34m)\u001b[0m\u001b[0;34m\u001b[0m\u001b[0;34m\u001b[0m\u001b[0m\n\u001b[0m",
      "\u001b[0;31mAttributeError\u001b[0m: 'list' object has no attribute 'head'"
     ]
    }
   ],
   "source": [
    "pruned_combined_data_matrix.head()"
   ]
  },
  {
   "cell_type": "code",
   "execution_count": 115,
   "metadata": {},
   "outputs": [
    {
     "data": {
      "text/plain": [
       "343"
      ]
     },
     "execution_count": 115,
     "metadata": {},
     "output_type": "execute_result"
    }
   ],
   "source": [
    "len(X[0])"
   ]
  },
  {
   "cell_type": "code",
   "execution_count": 120,
   "metadata": {},
   "outputs": [],
   "source": [
    "X_normal = preprocessing.scale(X)"
   ]
  },
  {
   "cell_type": "code",
   "execution_count": 184,
   "metadata": {},
   "outputs": [
    {
     "data": {
      "image/png": "[encoded data removed]",
      "text/plain": [
       "<Figure size 432x288 with 1 Axes>"
      ]
     },
     "metadata": {
      "needs_background": "light"
     },
     "output_type": "display_data"
    },
    {
     "name": "stdout",
     "output_type": "stream",
     "text": [
      "correlation is 0.8400224251693794\n"
     ]
    }
   ],
   "source": [
    "reg = linear_model.LinearRegression()\n",
    "reg.fit(X, y)\n",
    "#This looks like the tightest regression so far\n",
    "predicted_output = X @ reg.coef_ + reg.intercept_\n",
    "display(vhinge(predicted_output), y)\n",
    "corr, p_value = pearsonr(vhinge(predicted_output), y)\n",
    "print(\"correlation is\",corr)"
   ]
  },
  {
   "cell_type": "code",
   "execution_count": 185,
   "metadata": {},
   "outputs": [],
   "source": [
    "pos = reg.coef_[:22*9]"
   ]
  },
  {
   "cell_type": "code",
   "execution_count": 186,
   "metadata": {},
   "outputs": [
    {
     "data": {
      "text/plain": [
       "array([-1.88411275e-01,  3.94135103e-01,  7.64095934e-01,  6.72530917e-01,\n",
       "        3.19727243e-01,  1.40507861e+13,  1.70062276e+00,  9.01807795e-01,\n",
       "       -1.00534208e+00,  1.08731577e-01, -1.27464674e+13,  1.25172481e+00,\n",
       "        1.71387214e-01,  7.53864935e-01,  3.45849750e+12,  1.91731729e+00,\n",
       "       -1.74117741e+00,  2.98048771e+00,  2.80130794e+13, -1.19248423e+00,\n",
       "        1.94686904e+00,  4.78691208e-01,  1.80088435e+13, -1.37818002e+13,\n",
       "        1.62307177e+00,  6.01215776e-01,  5.09610039e-01,  2.05238609e-01,\n",
       "        1.01008290e+00,  7.67999475e-01,  3.54096710e+13,  8.19142812e-01,\n",
       "       -1.44074044e+12,  9.88769531e-01, -4.88771274e+13,  1.06933594e+00,\n",
       "       -1.75065922e+13,  7.30438232e-01,  6.65985107e-01, -5.81054688e-02,\n",
       "       -5.00635866e+12, -1.31789209e+13,  1.20532227e+00,  5.51757812e-01,\n",
       "        1.56347656e+00,  1.29882812e-01,  9.82299805e-01,  2.51321785e+13,\n",
       "        1.15344238e+00,  8.92578125e-01, -2.66009693e+13,  7.09228516e-01,\n",
       "        5.65429688e-01,  1.48809814e+00, -2.95535811e+13,  1.54846191e+00,\n",
       "        1.19262695e-01,  2.93652344e+00,  1.49103250e+13, -2.27376372e+13,\n",
       "        4.08203125e-01,  5.00000000e-01,  1.57519531e+00,  2.25158691e-01,\n",
       "        1.45751953e-01, -6.66049926e+12,  5.56457520e-01,  3.98437500e-01,\n",
       "       -2.47900485e+13,  3.94042969e-01,  1.04492188e+00,  1.57226562e+00,\n",
       "       -9.59535261e+12,  1.16992188e+00, -2.47070312e-01,  1.18359375e+00,\n",
       "       -5.85242296e+12,  2.74379705e+12,  7.34375000e-01,  1.26904297e+00,\n",
       "        1.48730469e+00, -2.16735840e-01, -2.17346191e-01, -2.16744729e+12,\n",
       "        1.12976074e+00,  4.33593750e-01, -2.70177637e+12,  8.69140625e-01,\n",
       "        1.69140625e+00,  1.06250000e+00,  3.26110840e-01,  2.94555664e-01,\n",
       "       -6.41012507e+12, -8.85131836e-01, -4.12963867e-01,  1.25108781e+13,\n",
       "        1.91406250e-01, -2.37792969e-01, -5.31250000e-01, -9.82421875e-01,\n",
       "        5.31860352e-01,  4.73815918e-01, -1.06105717e+12, -8.00781250e-02,\n",
       "        1.48969445e+12,  7.32421875e-02,  2.25766364e+12, -9.47265625e-02,\n",
       "       -9.95849609e-01,  3.30200195e-01, -7.20214844e-03, -9.75803952e+11,\n",
       "       -2.86621094e-01,  6.04151770e+10, -6.05468750e-02,  1.78415103e+12,\n",
       "        1.91210938e+00,  5.26951462e+11, -7.55126953e-01, -1.01440430e+00,\n",
       "        3.90625000e-03,  5.71250599e+11,  5.11341860e+11, -3.04687500e-01,\n",
       "       -4.68750000e-01, -4.18945312e-01, -1.40625000e+00, -3.14575195e-01,\n",
       "       -1.46740723e+00,  3.71466086e-04, -9.83886719e-01,  7.47165840e-04,\n",
       "       -8.81835938e-01,  6.76198722e-04, -1.19335938e+00, -1.75561523e+00,\n",
       "        1.88016097e-04, -1.74340820e+00, -1.24694824e+00, -1.25292969e+00,\n",
       "        1.11171131e-04, -1.18945312e+00, -9.56054688e-01, -2.12451172e+00,\n",
       "       -7.66967773e-01, -7.23636301e-05, -5.68725586e-01, -9.09179688e-01,\n",
       "       -1.87792969e+00, -2.19712864e-05, -8.71093750e-01, -1.05810547e+00,\n",
       "       -4.27734375e-01, -2.31445312e-01,  1.46484375e-02,  5.10791504e-05,\n",
       "        1.92871094e-01,  2.76123047e-01, -9.03135530e-06, -6.97631836e-01,\n",
       "        2.63916016e-01, -5.45898438e-01, -6.43432617e-01,  8.88178420e-16,\n",
       "       -4.78515625e-01, -7.75787354e-01, -5.88623047e-01,  0.00000000e+00,\n",
       "       -5.66772461e-01,  1.25415039e+00,  3.75488281e-01, -1.35455322e+00,\n",
       "        1.60583496e-01, -1.34960938e+00,  0.00000000e+00, -5.81054688e-02,\n",
       "        0.00000000e+00,  2.22656250e-01,  0.00000000e+00,  9.37500000e-02,\n",
       "       -9.42199707e-01,  0.00000000e+00, -6.04003906e-01, -8.09387207e-01,\n",
       "       -1.13024902e+00,  0.00000000e+00, -4.00390625e-01, -8.11279297e-01,\n",
       "        7.00683594e-02,  0.00000000e+00, -2.49694824e-01, -5.77087402e-01,\n",
       "       -2.99926758e-01,  0.00000000e+00,  0.00000000e+00,  1.96777344e-01,\n",
       "       -2.68554688e-01,  1.12500000e+00])"
      ]
     },
     "execution_count": 186,
     "metadata": {},
     "output_type": "execute_result"
    }
   ],
   "source": [
    "pos"
   ]
  },
  {
   "cell_type": "code",
   "execution_count": 154,
   "metadata": {},
   "outputs": [
    {
     "data": {
      "text/plain": [
       "array([ 0.02373943,  0.6088391 ,  0.91617117,  0.81413075,  0.27552891,\n",
       "        0.        ,  1.82756879,  0.86709997, -0.96564057,  0.19755179,\n",
       "        0.        ,  1.35173457,  0.25341728,  0.83361588,  0.        ,\n",
       "        2.2424562 , -1.97866663,  1.30550494,  0.        , -1.10220186,\n",
       "        2.06248564,  0.52552796,  0.        ,  0.        ,  1.56357935,\n",
       "        0.64333409,  0.60390982,  0.30252601,  1.07435418,  0.85341921,\n",
       "        0.        ,  0.99129068,  0.        ,  1.09145998,  0.        ,\n",
       "        1.18145301,  0.        ,  0.80050205,  0.729084  ,  0.2013717 ,\n",
       "        0.        ,  0.        ,  1.22675309,  0.68892758,  1.61551221,\n",
       "        0.22438621,  1.05607469,  0.        ,  1.1926968 ,  0.94936737,\n",
       "        0.        ,  0.77648735,  0.68828033,  1.6154152 ,  0.        ,\n",
       "        1.77231453,  0.21153389,  3.16921322,  0.        ,  0.        ,\n",
       "        0.49639701,  0.61309105,  1.52534841,  0.26784559,  0.12822441,\n",
       "        0.        ,  0.6058752 ,  0.43429031,  0.        ,  0.52149032,\n",
       "        1.08634931,  1.23740733,  0.        ,  1.23979238, -0.17476885,\n",
       "        1.26490439,  0.        ,  0.        ,  0.75476163,  1.48306834,\n",
       "        1.17686961, -0.13973219, -0.1131276 ,  0.        ,  1.22168612,\n",
       "        0.45184622,  0.        ,  1.03770003,  1.75180106,  0.64856805,\n",
       "        0.43270665,  0.37768983,  0.        , -0.81782147, -0.37209674,\n",
       "        0.        ,  0.05418348, -0.0477898 , -0.02732588, -0.92477376,\n",
       "        0.64008081,  0.58480894,  0.        , -0.03877512,  0.        ,\n",
       "        0.11554187,  0.        , -0.01086862, -0.93947792,  0.4271346 ,\n",
       "        0.20170112,  0.        , -0.25015874,  0.        , -0.02621551,\n",
       "        0.        ,  1.27540964,  0.        , -0.70455871, -0.93122564,\n",
       "        0.19999878,  0.        ,  0.        , -0.26915573, -0.49551721,\n",
       "       -0.28958213, -1.41146022, -0.24879001, -1.437178  ,  0.        ,\n",
       "       -0.85597105,  0.        , -0.8159761 ,  0.        , -0.98283049,\n",
       "       -1.69447628,  0.        , -1.69249919, -1.20811568, -1.26267966,\n",
       "        0.        , -1.1670148 , -0.89574612, -2.0135822 , -0.72940753,\n",
       "        0.        , -0.50753662, -0.91557707, -1.86151837,  0.        ,\n",
       "       -0.82371693, -0.9898789 , -0.32023756, -0.17960136,  0.06295515,\n",
       "        0.        ,  0.29468746,  0.42386596,  0.        , -0.59744329,\n",
       "        0.44967835, -0.49986007, -0.55413546,  0.        , -0.61354721,\n",
       "       -0.7738321 , -0.22528284,  0.        , -0.22774335,  1.2937366 ,\n",
       "        0.40325757, -1.37195207,  0.14347381, -1.32096712,  0.        ,\n",
       "        0.05168658,  0.        ,  0.39616897,  0.        ,  0.0493649 ,\n",
       "       -0.88889355,  0.        , -0.5501935 , -0.77587337, -1.1620968 ,\n",
       "        0.        , -0.35960239, -0.78817616,  0.07003477,  0.        ,\n",
       "       -0.2502257 , -0.48661509, -0.20089547,  0.        ,  0.        ,\n",
       "        0.22499861, -0.25190573,  1.06554169])"
      ]
     },
     "execution_count": 154,
     "metadata": {},
     "output_type": "execute_result"
    }
   ],
   "source": [
    "huber.coef_[:22*9]"
   ]
  },
  {
   "cell_type": "code",
   "execution_count": 158,
   "metadata": {},
   "outputs": [
    {
     "data": {
      "image/png": "[encoded data removed]",
      "text/plain": [
       "<Figure size 432x288 with 1 Axes>"
      ]
     },
     "metadata": {
      "needs_background": "light"
     },
     "output_type": "display_data"
    }
   ],
   "source": [
    "#create toy dataframe\n",
    "np.random.seed(1234)\n",
    "df = pd.DataFrame({\"clm1\": [\"X\", \"Y\", \"Z\", \"X\", \"Y\", \"Z\"], \"clm2\": np.random.randint(1, 100, 6), \"clm3\": [\"A\", \"A\", \"A\", \"B\", \"B\", \"B\"]})\n",
    "\n",
    "#rearrange dataframe and plot\n",
    "df.pivot(index = \"clm3\", columns = \"clm1\", values = \"clm2\").plot.bar(edgecolor = \"white\")\n",
    "plt.xticks(rotation = 0)\n",
    "plt.show()"
   ]
  },
  {
   "cell_type": "code",
   "execution_count": 161,
   "metadata": {},
   "outputs": [
    {
     "data": {
      "text/html": [
       "<div>\n",
       "<style scoped>\n",
       "    .dataframe tbody tr th:only-of-type {\n",
       "        vertical-align: middle;\n",
       "    }\n",
       "\n",
       "    .dataframe tbody tr th {\n",
       "        vertical-align: top;\n",
       "    }\n",
       "\n",
       "    .dataframe thead th {\n",
       "        text-align: right;\n",
       "    }\n",
       "</style>\n",
       "<table border=\"1\" class=\"dataframe\">\n",
       "  <thead>\n",
       "    <tr style=\"text-align: right;\">\n",
       "      <th>clm1</th>\n",
       "      <th>X</th>\n",
       "      <th>Y</th>\n",
       "      <th>Z</th>\n",
       "    </tr>\n",
       "    <tr>\n",
       "      <th>clm3</th>\n",
       "      <th></th>\n",
       "      <th></th>\n",
       "      <th></th>\n",
       "    </tr>\n",
       "  </thead>\n",
       "  <tbody>\n",
       "    <tr>\n",
       "      <th>A</th>\n",
       "      <td>48</td>\n",
       "      <td>84</td>\n",
       "      <td>39</td>\n",
       "    </tr>\n",
       "    <tr>\n",
       "      <th>B</th>\n",
       "      <td>54</td>\n",
       "      <td>77</td>\n",
       "      <td>25</td>\n",
       "    </tr>\n",
       "  </tbody>\n",
       "</table>\n",
       "</div>"
      ],
      "text/plain": [
       "clm1   X   Y   Z\n",
       "clm3            \n",
       "A     48  84  39\n",
       "B     54  77  25"
      ]
     },
     "execution_count": 161,
     "metadata": {},
     "output_type": "execute_result"
    }
   ],
   "source": [
    "df.pivot(index = \"clm3\", columns = \"clm1\", values = \"clm2\")"
   ]
  },
  {
   "cell_type": "code",
   "execution_count": 162,
   "metadata": {},
   "outputs": [
    {
     "data": {
      "text/html": [
       "<div>\n",
       "<style scoped>\n",
       "    .dataframe tbody tr th:only-of-type {\n",
       "        vertical-align: middle;\n",
       "    }\n",
       "\n",
       "    .dataframe tbody tr th {\n",
       "        vertical-align: top;\n",
       "    }\n",
       "\n",
       "    .dataframe thead th {\n",
       "        text-align: right;\n",
       "    }\n",
       "</style>\n",
       "<table border=\"1\" class=\"dataframe\">\n",
       "  <thead>\n",
       "    <tr style=\"text-align: right;\">\n",
       "      <th></th>\n",
       "      <th>clm1</th>\n",
       "      <th>clm2</th>\n",
       "      <th>clm3</th>\n",
       "    </tr>\n",
       "  </thead>\n",
       "  <tbody>\n",
       "    <tr>\n",
       "      <th>0</th>\n",
       "      <td>X</td>\n",
       "      <td>48</td>\n",
       "      <td>A</td>\n",
       "    </tr>\n",
       "    <tr>\n",
       "      <th>1</th>\n",
       "      <td>Y</td>\n",
       "      <td>84</td>\n",
       "      <td>A</td>\n",
       "    </tr>\n",
       "    <tr>\n",
       "      <th>2</th>\n",
       "      <td>Z</td>\n",
       "      <td>39</td>\n",
       "      <td>A</td>\n",
       "    </tr>\n",
       "    <tr>\n",
       "      <th>3</th>\n",
       "      <td>X</td>\n",
       "      <td>54</td>\n",
       "      <td>B</td>\n",
       "    </tr>\n",
       "    <tr>\n",
       "      <th>4</th>\n",
       "      <td>Y</td>\n",
       "      <td>77</td>\n",
       "      <td>B</td>\n",
       "    </tr>\n",
       "    <tr>\n",
       "      <th>5</th>\n",
       "      <td>Z</td>\n",
       "      <td>25</td>\n",
       "      <td>B</td>\n",
       "    </tr>\n",
       "  </tbody>\n",
       "</table>\n",
       "</div>"
      ],
      "text/plain": [
       "  clm1  clm2 clm3\n",
       "0    X    48    A\n",
       "1    Y    84    A\n",
       "2    Z    39    A\n",
       "3    X    54    B\n",
       "4    Y    77    B\n",
       "5    Z    25    B"
      ]
     },
     "execution_count": 162,
     "metadata": {},
     "output_type": "execute_result"
    }
   ],
   "source": [
    "df"
   ]
  },
  {
   "cell_type": "code",
   "execution_count": null,
   "metadata": {},
   "outputs": [],
   "source": [
    "pd.DataFrame({\"clm1\": [\"X\", \"Y\", \"Z\", \"X\", \"Y\", \"Z\"], \"clm2\": np.random.randint(1, 100, 6)"
   ]
  },
  {
   "cell_type": "code",
   "execution_count": 164,
   "metadata": {},
   "outputs": [
    {
     "data": {
      "text/plain": [
       "'INS C'"
      ]
     },
     "execution_count": 164,
     "metadata": {},
     "output_type": "execute_result"
    }
   ],
   "source": [
    "get_action(55)"
   ]
  },
  {
   "cell_type": "code",
   "execution_count": 211,
   "metadata": {},
   "outputs": [],
   "source": [
    "def hist_plot(arr):\n",
    "    df = pd.DataFrame({\"Position\": [int(elt/9) for elt in range(len(arr))],\n",
    "                        \"Action\": [get_action(elt) for elt in range(len(arr))],\n",
    "                            \"Val\": arr})\n",
    "    df.pivot(index = \"Position\", columns = \"Action\", values = \"Val\").plot.bar(edgecolor = \"white\", figsize=(20,10))\n",
    "    plt.xticks(rotation = 0)\n",
    "    plt.show()\n",
    "    #return df"
   ]
  },
  {
   "cell_type": "code",
   "execution_count": 192,
   "metadata": {},
   "outputs": [
    {
     "data": {
      "image/png": "[encoded data removed]",
      "text/plain": [
       "<Figure size 1440x720 with 1 Axes>"
      ]
     },
     "metadata": {
      "needs_background": "light"
     },
     "output_type": "display_data"
    }
   ],
   "source": [
    "x = hist_plot(huber.coef_[:22*9])\n"
   ]
  },
  {
   "cell_type": "code",
   "execution_count": 194,
   "metadata": {},
   "outputs": [
    {
     "data": {
      "text/plain": [
       "array([ 0.01431972,  0.42982878,  1.0292908 ,  0.75627036,  0.23294845,\n",
       "        0.        ,  1.52664943,  0.78204389, -0.80553277,  0.20817456,\n",
       "        0.        ,  1.21935246,  0.38060739,  0.80345923,  0.        ,\n",
       "        1.92217875, -2.06844171,  0.11293477,  0.        , -1.06855347,\n",
       "        1.73571524,  0.70515461,  0.        ,  0.        ,  1.39014364,\n",
       "        0.74311867,  0.68355571,  0.32109008,  1.08251822,  0.82149327,\n",
       "        0.        ,  1.02202554,  0.        ,  1.09065199,  0.        ,\n",
       "        1.14931525,  0.        ,  1.0317287 ,  0.39626017,  0.18833232,\n",
       "        0.        ,  0.        ,  1.02420437,  0.63338608,  1.35545652,\n",
       "        0.37879939,  0.94098407,  0.        ,  0.88869038,  1.03765702,\n",
       "        0.        ,  0.65569578,  0.77250975,  1.67164418,  0.        ,\n",
       "        1.67453612,  0.04236246,  2.66688421,  0.        ,  0.        ,\n",
       "        0.50475074,  0.44376437,  1.36172587,  0.2847251 , -0.13421403,\n",
       "        0.        ,  0.46689985,  0.7344956 ,  0.        ,  0.7562782 ,\n",
       "        1.36336065,  1.32510241,  0.        ,  1.00664593, -0.34873945,\n",
       "        0.92695733,  0.        ,  0.        ,  0.29406829,  0.94733803,\n",
       "        0.90348796, -0.07192464, -0.39680656,  0.        ,  1.01222245,\n",
       "        0.69812143,  0.        ,  0.86737322,  1.465187  ,  0.64595446,\n",
       "        0.22532879,  0.29310416,  0.        , -0.91504553, -0.27986319,\n",
       "        0.        ,  0.21228987, -0.47920778,  0.08278722, -0.76596119,\n",
       "        0.38863589,  0.12703163,  0.        , -0.14809004,  0.        ,\n",
       "       -0.10285495,  0.        , -0.01092478, -0.94244713,  0.19291773,\n",
       "       -0.27479144,  0.        , -0.17773089,  0.        , -0.27763092,\n",
       "        0.        ,  0.10556498,  0.        , -0.61980832, -1.17168216,\n",
       "        0.08446279,  0.        ,  0.        , -0.42483251, -0.44218132,\n",
       "       -0.27334509, -1.35508615, -0.38842004, -1.40793184,  0.        ,\n",
       "       -0.83942053,  0.        , -0.82551414,  0.        , -0.75686879,\n",
       "       -1.51486501,  0.        , -1.71330598, -1.18306837, -1.34958705,\n",
       "        0.        , -1.32122608, -0.84079553, -1.64469576, -0.85888601,\n",
       "        0.        , -0.68027849, -1.033446  , -1.78800036,  0.        ,\n",
       "       -0.91053905, -1.13554551, -0.11431468, -0.08967467, -0.16095427,\n",
       "        0.        , -0.0286351 ,  0.11715287,  0.        , -0.70363282,\n",
       "       -0.13500182, -0.46913956, -0.27687164,  0.        , -0.45250135,\n",
       "       -0.67867092, -0.23726152,  0.        , -0.2473203 ,  0.44144347,\n",
       "        0.06439379, -1.10779168,  0.00887293, -1.07344226,  0.        ,\n",
       "        0.36493961,  0.        ,  0.47955304,  0.        ,  0.30938428,\n",
       "       -1.03079298,  0.        , -0.75893896, -1.05272582, -0.80758112,\n",
       "        0.        , -0.170212  , -0.49800032,  0.42677766,  0.        ,\n",
       "       -0.38477267, -0.66379137, -0.57579191,  0.        ,  0.        ,\n",
       "       -0.18277828, -0.570744  ,  0.39731479, -0.13583486])"
      ]
     },
     "execution_count": 194,
     "metadata": {},
     "output_type": "execute_result"
    }
   ],
   "source": []
  },
  {
   "cell_type": "code",
   "execution_count": 177,
   "metadata": {},
   "outputs": [
    {
     "data": {
      "text/plain": [
       "<matplotlib.axes._subplots.AxesSubplot at 0x141597210>"
      ]
     },
     "execution_count": 177,
     "metadata": {},
     "output_type": "execute_result"
    },
    {
     "data": {
      "image/png": "[encoded data removed]",
      "text/plain": [
       "<Figure size 432x288 with 1 Axes>"
      ]
     },
     "metadata": {
      "needs_background": "light"
     },
     "output_type": "display_data"
    }
   ],
   "source": [
    "x.pivot(index = \"Position\", columns = \"Action\", values = \"Val\").plot.bar()"
   ]
  },
  {
   "cell_type": "code",
   "execution_count": 197,
   "metadata": {},
   "outputs": [
    {
     "data": {
      "text/plain": [
       "(array([4.750e+02, 1.139e+03, 2.110e+03, 1.109e+03, 1.000e+02, 1.000e+00,\n",
       "        0.000e+00, 0.000e+00, 0.000e+00, 1.000e+00]),\n",
       " array([-2.21777406, -0.40544432,  1.40688543,  3.21921517,  5.03154491,\n",
       "         6.84387466,  8.6562044 , 10.46853414, 12.28086389, 14.09319363,\n",
       "        15.90552337]),\n",
       " <a list of 10 Patch objects>)"
      ]
     },
     "execution_count": 197,
     "metadata": {},
     "output_type": "execute_result"
    },
    {
     "data": {
      "image/png": "[encoded data removed]",
      "text/plain": [
       "<Figure size 432x288 with 1 Axes>"
      ]
     },
     "metadata": {
      "needs_background": "light"
     },
     "output_type": "display_data"
    }
   ],
   "source": [
    "plt.hist(big_table.ABA)"
   ]
  },
  {
   "cell_type": "code",
   "execution_count": 206,
   "metadata": {},
   "outputs": [],
   "source": [
    "X, y = create_matrix()"
   ]
  },
  {
   "cell_type": "code",
   "execution_count": 208,
   "metadata": {},
   "outputs": [],
   "source": [
    "X = preprocessing.scale(X)"
   ]
  },
  {
   "cell_type": "code",
   "execution_count": 209,
   "metadata": {},
   "outputs": [
    {
     "data": {
      "text/plain": [
       "array([ 3.73030004e-02,  4.80061060e-04,  1.25007970e-01,  7.29984643e-02,\n",
       "        4.86144225e-02,  0.00000000e+00,  1.39132229e-01,  9.79801526e-02,\n",
       "       -8.27702213e-02,  5.06985848e-02,  0.00000000e+00,  1.33068041e-01,\n",
       "        4.10663008e-02,  1.14762532e-01,  0.00000000e+00,  2.03453747e-01,\n",
       "       -1.92800303e-01,  3.97070358e-02,  0.00000000e+00, -1.06059127e-01,\n",
       "        1.54389594e-01,  7.40795434e-02,  0.00000000e+00,  0.00000000e+00,\n",
       "        1.44773525e-01,  7.14570148e-02,  4.82454046e-02,  6.79791892e-02,\n",
       "        1.06637036e-01,  9.97430875e-02,  0.00000000e+00,  1.47600914e-01,\n",
       "        0.00000000e+00,  1.60321717e-01,  0.00000000e+00,  1.01015494e-01,\n",
       "        0.00000000e+00,  9.21294362e-02,  6.57365789e-02,  3.97309060e-02,\n",
       "        0.00000000e+00,  0.00000000e+00,  1.45083557e-01,  8.39624346e-02,\n",
       "        9.18635937e-02,  5.43425353e-02,  1.28584970e-01,  0.00000000e+00,\n",
       "        7.57748103e-02,  1.70983284e-01,  0.00000000e+00,  1.57876929e-01,\n",
       "        1.68598572e-01,  1.57204571e-01,  0.00000000e+00,  1.36069560e-01,\n",
       "       -4.34007533e-03,  2.25194381e-01,  0.00000000e+00,  0.00000000e+00,\n",
       "        1.03809939e-01,  8.70902230e-02,  1.18475218e-01,  6.10763594e-02,\n",
       "        6.58975977e-03,  0.00000000e+00,  4.01143310e-02,  1.28593433e-01,\n",
       "        0.00000000e+00,  1.80401205e-01,  2.20580806e-01,  1.23259703e-01,\n",
       "        0.00000000e+00,  9.88355168e-02, -5.71233023e-02,  4.70483813e-02,\n",
       "        0.00000000e+00,  0.00000000e+00,  7.50574813e-03,  4.91598176e-02,\n",
       "        7.07227772e-02,  3.89178832e-02, -2.37928227e-02,  0.00000000e+00,\n",
       "        8.98721815e-02,  1.34099159e-01,  0.00000000e+00,  1.74558497e-01,\n",
       "        1.91041107e-01,  9.36544800e-02,  2.28781212e-02,  3.18366862e-02,\n",
       "        0.00000000e+00, -9.50685021e-02,  3.27525613e-02,  0.00000000e+00,\n",
       "        1.08840899e-01, -6.58838375e-03,  4.05703772e-03, -9.18211692e-02,\n",
       "        1.93713886e-02, -7.48451842e-02,  0.00000000e+00, -2.49272708e-02,\n",
       "        0.00000000e+00, -4.15388432e-02,  0.00000000e+00, -3.11055197e-02,\n",
       "       -9.32045927e-02, -2.01424582e-03, -9.94590441e-02,  0.00000000e+00,\n",
       "       -1.82207385e-02,  0.00000000e+00, -1.04907881e-01,  0.00000000e+00,\n",
       "        3.11325966e-03,  0.00000000e+00, -5.21179194e-02, -1.30473737e-01,\n",
       "        2.33757336e-02,  0.00000000e+00,  0.00000000e+00, -6.41619169e-02,\n",
       "       -3.63964982e-02, -2.36632478e-02, -1.28499893e-01, -1.33816541e-02,\n",
       "       -1.34710620e-01,  0.00000000e+00, -3.12602070e-02,  0.00000000e+00,\n",
       "       -4.91110087e-02,  0.00000000e+00, -3.34263480e-02, -1.00280010e-01,\n",
       "        0.00000000e+00, -1.62403455e-01, -1.18752484e-01, -1.31841847e-01,\n",
       "        0.00000000e+00, -1.41306779e-01, -2.51475319e-02, -1.13781578e-01,\n",
       "       -7.90677756e-02,  0.00000000e+00, -5.28727294e-02, -1.03676377e-01,\n",
       "       -1.12810146e-01,  0.00000000e+00, -1.14917687e-01, -7.35699142e-02,\n",
       "       -1.34079807e-02,  1.35573264e-02,  3.73639713e-02,  0.00000000e+00,\n",
       "       -1.55201738e-02,  4.44698250e-02,  0.00000000e+00, -1.87704803e-02,\n",
       "       -8.79815124e-03, -8.83882788e-03,  2.17541359e-02,  0.00000000e+00,\n",
       "       -1.50740834e-02, -7.22195340e-02, -4.26223099e-02,  0.00000000e+00,\n",
       "       -3.88325861e-02, -1.50517076e-02, -1.63931846e-03, -3.15563625e-02,\n",
       "        3.46790325e-03, -4.40988549e-02,  0.00000000e+00,  1.02830337e-01,\n",
       "        0.00000000e+00,  1.37539109e-01,  0.00000000e+00,  5.69915688e-02,\n",
       "       -8.54761851e-02,  0.00000000e+00, -1.01345921e-01, -1.70992690e-01,\n",
       "       -4.05894335e-02,  0.00000000e+00, -7.95727703e-03, -1.19128657e-02,\n",
       "        4.76073446e-02,  0.00000000e+00, -5.25602692e-02, -7.22614549e-02,\n",
       "       -1.10896379e-01,  0.00000000e+00,  0.00000000e+00, -4.17404942e-02,\n",
       "       -1.49468780e-01, -6.96426563e-03, -8.07036243e-01])"
      ]
     },
     "execution_count": 209,
     "metadata": {},
     "output_type": "execute_result"
    }
   ],
   "source": [
    "huber = HuberRegressor(alpha=1.0, epsilon=1.35)\n",
    "huber.fit(X, y)\n",
    "huber.coef_"
   ]
  },
  {
   "cell_type": "code",
   "execution_count": 212,
   "metadata": {},
   "outputs": [
    {
     "data": {
      "image/png": "[encoded data removed]",
      "text/plain": [
       "<Figure size 1440x720 with 1 Axes>"
      ]
     },
     "metadata": {
      "needs_background": "light"
     },
     "output_type": "display_data"
    }
   ],
   "source": [
    "hist_plot(huber.coef_[:22*9])"
   ]
  },
  {
   "cell_type": "code",
   "execution_count": 215,
   "metadata": {},
   "outputs": [
    {
     "data": {
      "text/plain": [
       "['__abstractmethods__',\n",
       " '__class__',\n",
       " '__delattr__',\n",
       " '__dict__',\n",
       " '__dir__',\n",
       " '__doc__',\n",
       " '__eq__',\n",
       " '__format__',\n",
       " '__ge__',\n",
       " '__getattribute__',\n",
       " '__getstate__',\n",
       " '__gt__',\n",
       " '__hash__',\n",
       " '__init__',\n",
       " '__init_subclass__',\n",
       " '__le__',\n",
       " '__lt__',\n",
       " '__module__',\n",
       " '__ne__',\n",
       " '__new__',\n",
       " '__reduce__',\n",
       " '__reduce_ex__',\n",
       " '__repr__',\n",
       " '__setattr__',\n",
       " '__setstate__',\n",
       " '__sizeof__',\n",
       " '__str__',\n",
       " '__subclasshook__',\n",
       " '__weakref__',\n",
       " '_abc_impl',\n",
       " '_decision_function',\n",
       " '_estimator_type',\n",
       " '_get_param_names',\n",
       " '_get_tags',\n",
       " '_preprocess_data',\n",
       " '_set_intercept',\n",
       " 'alpha',\n",
       " 'coef_',\n",
       " 'epsilon',\n",
       " 'fit',\n",
       " 'fit_intercept',\n",
       " 'get_params',\n",
       " 'intercept_',\n",
       " 'max_iter',\n",
       " 'n_iter_',\n",
       " 'outliers_',\n",
       " 'predict',\n",
       " 'scale_',\n",
       " 'score',\n",
       " 'set_params',\n",
       " 'tol',\n",
       " 'warm_start']"
      ]
     },
     "execution_count": 215,
     "metadata": {},
     "output_type": "execute_result"
    }
   ],
   "source": [
    "dir(huber)"
   ]
  },
  {
   "cell_type": "code",
   "execution_count": 487,
   "metadata": {},
   "outputs": [
    {
     "data": {
      "image/png": "[encoded data removed]",
      "text/plain": [
       "<Figure size 432x288 with 1 Axes>"
      ]
     },
     "metadata": {
      "needs_background": "light"
     },
     "output_type": "display_data"
    },
    {
     "name": "stdout",
     "output_type": "stream",
     "text": [
      "correlation is 0.9114008367547156\n"
     ]
    }
   ],
   "source": [
    "#X, y = create_matrix()\n",
    "X = preprocessing.scale(X)\n",
    "reg = linear_model.Ridge(alpha=1)\n",
    "#X = np.append(X, X**2, axis=1)\n",
    "reg.fit(X, y)\n",
    "#This looks like the tightest regression so far\n",
    "predicted_output = X @ reg.coef_ + reg.intercept_\n",
    "display(vhinge(predicted_output), y)\n",
    "corr, p_value = pearsonr(vhinge(predicted_output), y)\n",
    "print(\"correlation is\",corr)"
   ]
  },
  {
   "cell_type": "code",
   "execution_count": 488,
   "metadata": {},
   "outputs": [
    {
     "data": {
      "text/plain": [
       "array([[-0.1208928 , -0.1208928 , -0.1208928 , ..., -0.26261287,\n",
       "         1.2463646 ,  1.16127982],\n",
       "       [-0.1208928 , -0.1208928 , -0.1208928 , ..., -0.26261287,\n",
       "         0.25090987,  0.19911012],\n",
       "       [-0.1208928 , -0.1208928 , -0.1208928 , ..., -0.26261287,\n",
       "         0.63013092,  0.56565115],\n",
       "       ...,\n",
       "       [-0.1208928 , -0.1208928 , -0.1208928 , ..., -0.26261287,\n",
       "        -1.74000004, -1.72522971],\n",
       "       [-0.1208928 , -0.1208928 , -0.1208928 , ..., -0.26261287,\n",
       "         1.72039079,  1.61945599],\n",
       "       [-0.1208928 , -0.1208928 , -0.1208928 , ..., -0.26261287,\n",
       "         0.29831222,  0.24492748]])"
      ]
     },
     "execution_count": 488,
     "metadata": {},
     "output_type": "execute_result"
    }
   ],
   "source": [
    "X"
   ]
  },
  {
   "cell_type": "code",
   "execution_count": 284,
   "metadata": {},
   "outputs": [
    {
     "data": {
      "text/plain": [
       "array([-1.14320079e-01, -1.26991803e-01, -1.51221568e-02, -3.52308345e-02,\n",
       "       -7.87570792e-02,  0.00000000e+00,  8.89609340e-03, -5.07672014e-02,\n",
       "       -1.20642610e-01, -6.28940031e-02,  0.00000000e+00,  2.81261805e-02,\n",
       "       -4.66145649e-02,  1.57124015e-03,  0.00000000e+00,  1.04933989e-01,\n",
       "       -3.06412296e-01,  2.75293234e-02,  0.00000000e+00, -1.51475091e-01,\n",
       "        1.39683103e-01,  7.61989176e-02,  0.00000000e+00,  0.00000000e+00,\n",
       "        1.72055889e-01,  3.62530485e-02,  3.52545856e-02, -6.04047828e-02,\n",
       "       -2.89384197e-02, -2.40774194e-02,  0.00000000e+00,  2.25031339e-02,\n",
       "        0.00000000e+00, -1.54122179e-02,  0.00000000e+00,  1.29944556e-02,\n",
       "        0.00000000e+00, -1.32522917e-03, -1.37248458e-02, -1.99083709e-02,\n",
       "        0.00000000e+00,  0.00000000e+00,  4.48841823e-02, -1.37359873e-02,\n",
       "        4.44747068e-02, -6.62610367e-02,  1.39701941e-03,  0.00000000e+00,\n",
       "       -1.17375317e-02,  5.49789742e-02,  0.00000000e+00,  4.21050015e-02,\n",
       "       -7.38201312e-03,  5.33529605e-02,  0.00000000e+00,  4.75425494e-03,\n",
       "       -1.24449242e-01,  1.29504680e-01,  0.00000000e+00,  0.00000000e+00,\n",
       "       -9.39406881e-02, -5.54170441e-02,  3.67701642e-02, -1.37572234e-02,\n",
       "       -7.41952051e-02,  0.00000000e+00, -1.31293935e-02,  4.47953053e-02,\n",
       "        0.00000000e+00,  9.59969693e-02,  9.24367423e-02,  6.71104359e-02,\n",
       "        0.00000000e+00,  5.26952852e-02, -9.91766122e-02,  3.03798121e-02,\n",
       "        0.00000000e+00,  0.00000000e+00, -4.43063345e-02,  3.07164434e-03,\n",
       "        2.01523157e-02, -2.96907287e-02, -8.58586477e-02,  0.00000000e+00,\n",
       "        4.86458393e-02,  7.85680192e-02,  0.00000000e+00,  9.52948727e-02,\n",
       "        1.19692999e-01,  2.24956729e-02,  1.38432801e-02,  1.14016865e-02,\n",
       "        0.00000000e+00, -8.22294241e-02,  1.57114325e-02,  0.00000000e+00,\n",
       "        8.78912435e-02, -4.65372461e-02,  6.73880304e-03, -7.72205340e-02,\n",
       "        1.11350303e-02, -3.85055095e-02,  0.00000000e+00, -2.69436119e-02,\n",
       "        0.00000000e+00, -3.41601083e-02,  0.00000000e+00, -4.49036157e-02,\n",
       "       -6.16396625e-02,  1.64824500e-02, -5.68922012e-02,  0.00000000e+00,\n",
       "        4.80609904e-03,  0.00000000e+00, -5.96387164e-02,  0.00000000e+00,\n",
       "        1.13147564e-02,  0.00000000e+00, -4.27815081e-02, -9.85906629e-02,\n",
       "        5.59003539e-02,  0.00000000e+00,  0.00000000e+00, -2.97844806e-02,\n",
       "       -4.24309529e-02, -3.98515353e-02, -4.47593485e-02,  1.51964568e-02,\n",
       "       -8.17770896e-02,  0.00000000e+00,  1.16308316e-02,  0.00000000e+00,\n",
       "       -6.89717237e-03,  0.00000000e+00, -2.87682651e-02,  9.70628175e-03,\n",
       "        0.00000000e+00, -3.41206371e-02,  2.22267322e-02,  3.45270002e-02,\n",
       "        0.00000000e+00,  1.09569860e-02,  5.79969041e-02, -3.61812120e-02,\n",
       "        6.23071654e-03,  0.00000000e+00,  3.25425725e-02,  1.30492542e-02,\n",
       "       -2.16122327e-02,  0.00000000e+00, -1.61132389e-02, -1.08674676e-02,\n",
       "       -2.13358410e-03, -1.27462934e-02, -1.21780743e-02,  0.00000000e+00,\n",
       "       -2.37569646e-02,  8.39337495e-03,  0.00000000e+00, -7.72333706e-02,\n",
       "       -7.33274710e-02, -3.19054172e-02,  9.81958134e-03,  0.00000000e+00,\n",
       "       -3.39881310e-02, -4.52173782e-02, -5.28552982e-02,  0.00000000e+00,\n",
       "       -7.16812791e-02, -3.41887787e-02, -1.02202872e-02, -2.98162506e-02,\n",
       "        1.84986418e-02, -4.53063502e-02,  0.00000000e+00,  8.64201697e-02,\n",
       "        0.00000000e+00,  1.26046479e-01,  0.00000000e+00,  4.69855777e-02,\n",
       "        1.42811482e-02,  0.00000000e+00,  7.82390892e-03, -3.58673634e-02,\n",
       "        5.85301336e-02,  0.00000000e+00,  9.22813475e-02,  5.73790140e-02,\n",
       "        9.03982310e-02,  0.00000000e+00, -2.58694244e-03, -1.98975143e-02,\n",
       "       -3.26336139e-02,  0.00000000e+00,  0.00000000e+00,  1.81416510e-02,\n",
       "       -1.24252022e-01,  1.33891278e-02, -3.74663327e-02, -3.58122658e-02,\n",
       "        1.03889684e-01, -2.42795755e-01, -9.63654180e-02, -6.74606486e-04,\n",
       "       -1.25495766e-02,  1.14988318e-01,  1.14970267e-01,  2.86914475e-01,\n",
       "        1.15616601e-02,  2.04879346e-02,  3.84693893e-02, -6.22145032e-01,\n",
       "       -2.16335192e-01, -6.91409222e-01,  2.52107972e-01,  0.00000000e+00,\n",
       "       -1.91653783e-01,  1.03921194e-01,  0.00000000e+00, -1.06180570e-01,\n",
       "       -3.85031541e-01,  0.00000000e+00,  1.51386796e-01,  1.21156789e-01,\n",
       "        0.00000000e+00, -4.22227036e-02, -4.78880196e-02,  0.00000000e+00,\n",
       "        1.34853708e-02,  3.98706348e-02,  0.00000000e+00,  1.97244179e-02,\n",
       "        2.13336211e-01,  0.00000000e+00, -7.12389473e-02, -7.32603334e-02,\n",
       "        0.00000000e+00,  8.43689908e-02, -4.22419007e-02,  0.00000000e+00,\n",
       "       -2.75623953e-02,  3.46752633e-02,  0.00000000e+00,  1.14306845e-01,\n",
       "       -7.48559306e-03,  0.00000000e+00,  2.09209706e-02,  1.72338399e-01,\n",
       "        0.00000000e+00, -8.38136543e-02,  5.45991575e-02,  0.00000000e+00,\n",
       "       -6.58092338e-02,  7.90654626e-02,  0.00000000e+00, -7.78518512e-02,\n",
       "       -1.25696564e-02,  0.00000000e+00, -5.41736275e-02, -2.20359146e-01,\n",
       "        0.00000000e+00,  3.44045966e-02, -9.37112979e-02,  0.00000000e+00,\n",
       "       -1.35645159e-03,  2.87553145e-01,  0.00000000e+00, -8.37651496e-02,\n",
       "        1.45283290e-01,  0.00000000e+00, -9.43919325e-02, -9.68562231e-02,\n",
       "        0.00000000e+00,  9.80010736e-02, -3.07574515e-01,  0.00000000e+00,\n",
       "        1.01732844e-01,  3.29387172e-02,  0.00000000e+00, -6.51927014e-02,\n",
       "        6.86830420e-01, -1.23517799e-01,  2.46902369e-03,  3.31625566e-01,\n",
       "        0.00000000e+00, -8.82984070e-02,  1.86034841e-01,  0.00000000e+00,\n",
       "       -3.99202705e-03,  3.57168176e-01,  0.00000000e+00, -7.25174859e-03,\n",
       "        3.10743741e-02,  0.00000000e+00,  2.59273277e-02,  1.65938067e-01,\n",
       "        0.00000000e+00, -1.16928712e-01, -4.91552788e-02,  0.00000000e+00,\n",
       "       -2.55877337e-02,  2.68453510e-04,  0.00000000e+00,  5.69260126e-02,\n",
       "        3.37477870e-01,  0.00000000e+00, -6.75600639e-02, -1.00922860e-01,\n",
       "        0.00000000e+00,  1.20056903e-02,  6.96349367e-02,  0.00000000e+00,\n",
       "       -9.95031187e-02,  2.95746873e-01,  0.00000000e+00, -8.25330788e-03,\n",
       "        2.05838759e-02, -3.74663327e-02, -6.13493419e-02,  8.25736664e-02,\n",
       "       -3.58122658e-02, -5.08551663e-02, -1.27539183e-02,  1.03889684e-01,\n",
       "        8.05679145e-02, -2.42795755e-01,  0.00000000e+00, -2.26895031e-01,\n",
       "        5.95825659e-02,  0.00000000e+00, -4.49716000e-02,  1.93752396e-02,\n",
       "       -1.04414297e-02, -6.74606486e-04,  2.61237373e-02, -1.25495766e-02,\n",
       "        1.32794445e-02,  9.01848572e-02,  1.14988318e-01,  9.29616821e-02,\n",
       "        6.15628251e-02,  1.14970267e-01,  1.13357367e-01])"
      ]
     },
     "execution_count": 284,
     "metadata": {},
     "output_type": "execute_result"
    }
   ],
   "source": [
    "reg.coef_"
   ]
  },
  {
   "cell_type": "code",
   "execution_count": 285,
   "metadata": {},
   "outputs": [
    {
     "data": {
      "image/png": "[encoded data removed]",
      "text/plain": [
       "<Figure size 1440x720 with 1 Axes>"
      ]
     },
     "metadata": {
      "needs_background": "light"
     },
     "output_type": "display_data"
    }
   ],
   "source": [
    "hist_plot(reg.coef_[:22*9])"
   ]
  },
  {
   "cell_type": "code",
   "execution_count": 258,
   "metadata": {},
   "outputs": [
    {
     "name": "stdout",
     "output_type": "stream",
     "text": [
      "CTCACTAGAGAGGTTATCCGCTCA\n",
      "GCATAGAGAGTTTATCCGCTCA\n",
      "CCATAGAGAGGTATAGGGCTCA\n",
      "CTCATAGAGAGGTTATCTCGCTCA\n",
      "CCATGGAGAGGGTATCCGCTCA\n",
      "GGTATCTCTCCAATACCGCTCA\n",
      "CCATAGAAGGTTATCCCTCA\n",
      "CCATAGAGAGGTTATTCCGCTACA\n",
      "CCATAGAGAGGTTGATCCGCTCAT\n",
      "CCATAGAGAAGTTATCCGTTCA\n"
     ]
    }
   ],
   "source": [
    "predictions = []\n",
    "vals = []\n",
    "outliers= []\n",
    "Outliers = []\n",
    "for i in range(len(y)):\n",
    "    val = y[i]\n",
    "    vals.append(y)\n",
    "    seq = big_table.loc[i]['sequence']\n",
    "    prediction =  reg.predict([X[i]]).item()\n",
    "    predictions.append(prediction)\n",
    "    if abs(val-prediction) > 3:\n",
    "        outliers.append(seq)\n",
    "        Outliers.append(big_table.loc[i]['Sequence'])\n",
    "        print(seq)"
   ]
  },
  {
   "cell_type": "code",
   "execution_count": 241,
   "metadata": {},
   "outputs": [
    {
     "data": {
      "text/plain": [
       "3.030201400997912"
      ]
     },
     "execution_count": 241,
     "metadata": {},
     "output_type": "execute_result"
    }
   ],
   "source": [
    " reg.predict([X[0]]).item()"
   ]
  },
  {
   "cell_type": "code",
   "execution_count": 242,
   "metadata": {},
   "outputs": [
    {
     "data": {
      "text/plain": [
       "100"
      ]
     },
     "execution_count": 242,
     "metadata": {},
     "output_type": "execute_result"
    }
   ],
   "source": [
    "len(outliers)"
   ]
  },
  {
   "cell_type": "code",
   "execution_count": 257,
   "metadata": {},
   "outputs": [
    {
     "name": "stdout",
     "output_type": "stream",
     "text": [
      "[(0, 'insert', 'T'), (2, 'insert', 'C')]\n",
      "CCATAGAGAGGTTATCCGCTCA CTCACTAGAGAGGTTATCCGCTCA\n",
      "[(0, 'replace', 'G'), (10, 'replace', 'T')]\n",
      "CCATAGAGAGGTTATCCGCTCA GCATAGAGAGTTTATCCGCTCA\n",
      "[(11, 'delete'), (14, 'insert', 'A'), (15, 'replace', 'G'), (16, 'replace', 'G')]\n",
      "CCATAGAGAGGTTATCCGCTCA CCATAGAGAGGTATAGGGCTCA\n",
      "[(0, 'insert', 'T'), (15, 'insert', 'T')]\n",
      "CCATAGAGAGGTTATCCGCTCA CTCATAGAGAGGTTATCTCGCTCA\n",
      "[(4, 'replace', 'G'), (11, 'replace', 'G')]\n",
      "CCATAGAGAGGTTATCCGCTCA CCATGGAGAGGGTATCCGCTCA\n",
      "[(0, 'delete'), (1, 'replace', 'G'), (2, 'replace', 'G'), (5, 'replace', 'T'), (6, 'replace', 'C'), (7, 'replace', 'T'), (8, 'replace', 'C'), (9, 'replace', 'T'), (10, 'replace', 'C'), (11, 'replace', 'C'), (12, 'replace', 'A'), (14, 'insert', 'A')]\n",
      "CCATAGAGAGGTTATCCGCTCA GGTATCTCTCCAATACCGCTCA\n",
      "[(7, 'delete'), (17, 'delete')]\n",
      "CCATAGAGAGGTTATCCGCTCA CCATAGAAGGTTATCCCTCA\n",
      "[(13, 'insert', 'T'), (19, 'insert', 'A')]\n",
      "CCATAGAGAGGTTATCCGCTCA CCATAGAGAGGTTATTCCGCTACA\n",
      "[(12, 'insert', 'G'), (21, 'insert', 'T')]\n",
      "CCATAGAGAGGTTATCCGCTCA CCATAGAGAGGTTGATCCGCTCAT\n",
      "[(9, 'replace', 'A'), (18, 'replace', 'T')]\n",
      "CCATAGAGAGGTTATCCGCTCA CCATAGAGAAGTTATCCGTTCA\n"
     ]
    }
   ],
   "source": [
    "for outlier in outliers:\n",
    "    print(get_diff(perfect_sequence, outlier))\n",
    "    print(perfect_sequence,outlier)"
   ]
  },
  {
   "cell_type": "code",
   "execution_count": 260,
   "metadata": {},
   "outputs": [
    {
     "name": "stdout",
     "output_type": "stream",
     "text": [
      "GGGAAUGGAUCCACAUCUACGAAUUCGUACUCACUAGAGAGGUUAUCCGCUCACCGAGAUCGGAAGAGCACACGUCUGAACUCCA\n",
      "GGGAAUGGAUCCACAUCUACGAAUUCGUAGCAUAGAGAGUUUAUCCGCUCACCGAGAUCGGAAGAGCACACGUCUGAACUCCA\n",
      "GGGAAUGGAUCCACAUCUACGAAUUCGUACCAUAGAGAGGUAUAGGGCUCACCGAGAUCGGAAGAGCACACGUCUGAACUCCA\n",
      "GGGAAUGGAUCCACAUCUACGAAUUCGUACUCAUAGAGAGGUUAUCUCGCUCACCGAGAUCGGAAGAGCACACGUCUGAACUCCA\n",
      "GGGAAUGGAUCCACAUCUACGAAUUCGUACCAUGGAGAGGGUAUCCGCUCACCGAGAUCGGAAGAGCACACGUCUGAACUCCA\n",
      "GGGAAUGGAUCCACAUCUACGAAUUCGUAGGUAUCUCUCCAAUACCGCUCACCGAGAUCGGAAGAGCACACGUCUGAACUCCA\n",
      "GGGAAUGGAUCCACAUCUACGAAUUCGUACCAUAGAAGGUUAUCCCUCACCGAGAUCGGAAGAGCACACGUCUGAACUCCA\n",
      "GGGAAUGGAUCCACAUCUACGAAUUCGUACCAUAGAGAGGUUAUUCCGCUACACCGAGAUCGGAAGAGCACACGUCUGAACUCCA\n",
      "GGGAAUGGAUCCACAUCUACGAAUUCGUACCAUAGAGAGGUUGAUCCGCUCAUCCGAGAUCGGAAGAGCACACGUCUGAACUCCA\n",
      "GGGAAUGGAUCCACAUCUACGAAUUCGUACCAUAGAGAAGUUAUCCGUUCACCGAGAUCGGAAGAGCACACGUCUGAACUCCA\n"
     ]
    }
   ],
   "source": [
    "for outlier in Outliers:\n",
    "    print(outlier)"
   ]
  },
  {
   "cell_type": "code",
   "execution_count": 262,
   "metadata": {},
   "outputs": [
    {
     "data": {
      "text/plain": [
       "'GGGAAUGGAUCCACAUCUACGAAUUCGUACCAUAGAGAGGUUAUCCGCUCACCGAGAUCGGAAGAGCACACGUCUGAACUCCA'"
      ]
     },
     "execution_count": 262,
     "metadata": {},
     "output_type": "execute_result"
    }
   ],
   "source": [
    "PERFECT_SEQ"
   ]
  },
  {
   "cell_type": "code",
   "execution_count": 288,
   "metadata": {},
   "outputs": [
    {
     "data": {
      "text/plain": [
       "array([[-0.1208928 , -0.1208928 , -0.1208928 , ..., -0.26261287,\n",
       "         0.25090987,  0.19911012],\n",
       "       [-0.1208928 , -0.1208928 , -0.1208928 , ..., -0.26261287,\n",
       "         0.25090987,  0.19911012],\n",
       "       [-0.1208928 , -0.1208928 , -0.1208928 , ..., -0.26261287,\n",
       "         0.25090987,  0.19911012],\n",
       "       ...,\n",
       "       [-0.1208928 , -0.1208928 , -0.1208928 , ..., -0.26261287,\n",
       "        -0.36532426, -0.39651899],\n",
       "       [-0.1208928 , -0.1208928 , -0.1208928 , ..., -0.26261287,\n",
       "        -0.60233736, -0.62560708],\n",
       "       [-0.1208928 , -0.1208928 , -0.1208928 , ..., -0.26261287,\n",
       "         0.01389678, -0.02997797]])"
      ]
     },
     "execution_count": 288,
     "metadata": {},
     "output_type": "execute_result"
    }
   ],
   "source": [
    "X"
   ]
  },
  {
   "cell_type": "code",
   "execution_count": 489,
   "metadata": {},
   "outputs": [],
   "source": [
    "def r_squared(model, X, y, train_size=100, exp=1):\n",
    "    indices = np.arange(X.shape[0])\n",
    "    np.random.shuffle(indices)\n",
    "    X = X[indices]\n",
    "    y = y[indices]\n",
    "    train_x = X[:train_size]\n",
    "    test_x = X[train_size:]\n",
    "    train_y = y[:train_size]\n",
    "    test_y = y[train_size:]\n",
    "    \n",
    "    \n",
    "    model.fit(train_x, np.sign(train_y) * (np.abs(train_y)) ** exp)\n",
    "    #This looks like the tightest regression so far\n",
    "    predicted_output = test_x @ reg.coef_ + reg.intercept_\n",
    "    \n",
    "    corr, p_value = pearsonr(vhinge(predicted_output, exp=exp), np.sign(test_y) * (np.abs(test_y)) ** exp)\n",
    "    #display(vhinge(predicted_output, exp=exp), np.sign(test_y) * (np.abs(test_y)) ** exp)\n",
    "    #print(\"correlation is\",corr)\n",
    "    return corr**2"
   ]
  },
  {
   "cell_type": "code",
   "execution_count": 497,
   "metadata": {},
   "outputs": [
    {
     "data": {
      "text/plain": [
       "0.8276906187384557"
      ]
     },
     "execution_count": 497,
     "metadata": {},
     "output_type": "execute_result"
    }
   ],
   "source": [
    "r_squared(reg, X, y, train_size=4000,exp=1.6)"
   ]
  },
  {
   "cell_type": "code",
   "execution_count": 322,
   "metadata": {},
   "outputs": [
    {
     "name": "stderr",
     "output_type": "stream",
     "text": [
      "/usr/local/lib/python3.7/site-packages/ipykernel_launcher.py:1: RuntimeWarning: invalid value encountered in power\n",
      "  \"\"\"Entry point for launching an IPython kernel.\n"
     ]
    },
    {
     "data": {
      "text/plain": [
       "0.0"
      ]
     },
     "execution_count": 322,
     "metadata": {},
     "output_type": "execute_result"
    }
   ],
   "source": [
    "min(y**1.5)"
   ]
  },
  {
   "cell_type": "code",
   "execution_count": 328,
   "metadata": {},
   "outputs": [
    {
     "data": {
      "text/plain": [
       "Ridge(alpha=1, copy_X=True, fit_intercept=True, max_iter=None, normalize=False,\n",
       "      random_state=None, solver='auto', tol=0.001)"
      ]
     },
     "execution_count": 328,
     "metadata": {},
     "output_type": "execute_result"
    }
   ],
   "source": [
    "reg.fit(X, np.sign(y) * (np.abs(y)) ** 1.5)"
   ]
  },
  {
   "cell_type": "code",
   "execution_count": 327,
   "metadata": {},
   "outputs": [
    {
     "name": "stderr",
     "output_type": "stream",
     "text": [
      "/usr/local/lib/python3.7/site-packages/ipykernel_launcher.py:1: RuntimeWarning: invalid value encountered in power\n",
      "  \"\"\"Entry point for launching an IPython kernel.\n"
     ]
    },
    {
     "data": {
      "text/plain": [
       "array([2.63938266, 5.14065027, 5.35750459, ..., 5.38436028, 8.49673147,\n",
       "       3.01318693])"
      ]
     },
     "execution_count": 327,
     "metadata": {},
     "output_type": "execute_result"
    }
   ],
   "source": [
    "np.power(y,1.5)"
   ]
  },
  {
   "cell_type": "code",
   "execution_count": 377,
   "metadata": {},
   "outputs": [
    {
     "name": "stdout",
     "output_type": "stream",
     "text": [
      "0.8159714267760719 1.0\n",
      "0.8189089980019562 1.02\n",
      "0.8205060880271647 1.045\n",
      "0.8231490612582076 1.05\n",
      "0.8250096255120631 1.205\n",
      "0.8263695755665885 1.26\n",
      "0.8279409109430764 1.2650000000000001\n",
      "0.8282413238748878 1.275\n",
      "0.8326570985902103 1.45\n"
     ]
    }
   ],
   "source": [
    "max_sum = 0\n",
    "max_exp = 0\n",
    "for i in np.linspace(1,2,201):\n",
    "    cur_sum = 0\n",
    "    for j in range(10):\n",
    "        cur_sum += r_squared(reg, X, y, train_size=4000,exp=i)\n",
    "    if cur_sum/10 > max_sum:\n",
    "        max_sum = cur_sum/10\n",
    "        max_exp = i\n",
    "        print(max_sum, max_exp)"
   ]
  },
  {
   "cell_type": "code",
   "execution_count": 379,
   "metadata": {},
   "outputs": [
    {
     "data": {
      "text/plain": [
       "0.9125004649808187"
      ]
     },
     "execution_count": 379,
     "metadata": {},
     "output_type": "execute_result"
    }
   ],
   "source": [
    "max_sum**.5"
   ]
  },
  {
   "cell_type": "code",
   "execution_count": 380,
   "metadata": {},
   "outputs": [
    {
     "data": {
      "text/plain": [
       "0.0"
      ]
     },
     "execution_count": 380,
     "metadata": {},
     "output_type": "execute_result"
    }
   ],
   "source": [
    "min(abs(y))"
   ]
  },
  {
   "cell_type": "code",
   "execution_count": 382,
   "metadata": {},
   "outputs": [
    {
     "data": {
      "text/plain": [
       "array([ 0,  1,  2,  3,  4,  5,  6,  7,  8,  9, 10, 11, 12, 13, 14, 15, 16,\n",
       "       17, 18, 19, 20, 21, 22, 23, 24, 25, 26, 27, 28, 29, 30, 31, 32, 33,\n",
       "       34, 35, 36, 37, 38, 39, 40, 41, 42, 43, 44, 45, 46, 47, 48, 49, 50,\n",
       "       51, 52, 53, 54, 55, 56, 57, 58, 59, 60, 61, 62, 63, 64, 65, 66, 67,\n",
       "       68, 69, 70, 71, 72, 73, 74, 75, 76, 77, 78, 79, 80, 81, 82, 83, 84,\n",
       "       85, 86, 87, 88, 89, 90, 91, 92, 93, 94, 95, 96, 97, 98, 99])"
      ]
     },
     "execution_count": 382,
     "metadata": {},
     "output_type": "execute_result"
    }
   ],
   "source": [
    "np.arange(100)"
   ]
  },
  {
   "cell_type": "code",
   "execution_count": null,
   "metadata": {},
   "outputs": [],
   "source": []
  },
  {
   "cell_type": "code",
   "execution_count": null,
   "metadata": {},
   "outputs": [],
   "source": []
  },
  {
   "cell_type": "code",
   "execution_count": null,
   "metadata": {},
   "outputs": [],
   "source": []
  },
  {
   "cell_type": "code",
   "execution_count": null,
   "metadata": {},
   "outputs": [],
   "source": []
  },
  {
   "cell_type": "code",
   "execution_count": 390,
   "metadata": {},
   "outputs": [],
   "source": [
    "from keras import layers\n",
    "from keras import models"
   ]
  },
  {
   "cell_type": "code",
   "execution_count": 392,
   "metadata": {},
   "outputs": [
    {
     "name": "stdout",
     "output_type": "stream",
     "text": [
      "Model: \"sequential_3\"\n",
      "_________________________________________________________________\n",
      "Layer (type)                 Output Shape              Param #   \n",
      "=================================================================\n",
      "conv2d_3 (Conv2D)            (None, 24, 24, 32)        832       \n",
      "_________________________________________________________________\n",
      "max_pooling2d_3 (MaxPooling2 (None, 12, 12, 32)        0         \n",
      "=================================================================\n",
      "Total params: 832\n",
      "Trainable params: 832\n",
      "Non-trainable params: 0\n",
      "_________________________________________________________________\n"
     ]
    }
   ],
   "source": [
    "model = models.Sequential()\n",
    "model.add(layers.Conv2D(32, (5, 5), activation='relu', input_shape=(28, 28, 1)))\n",
    "model.add(layers.MaxPooling2D((2, 2)))\n",
    "model.summary()"
   ]
  },
  {
   "cell_type": "code",
   "execution_count": 507,
   "metadata": {},
   "outputs": [
    {
     "name": "stdout",
     "output_type": "stream",
     "text": [
      "Model: \"sequential_23\"\n",
      "_________________________________________________________________\n",
      "Layer (type)                 Output Shape              Param #   \n",
      "=================================================================\n",
      "conv2d_44 (Conv2D)           (None, 341, 1, 16)        64        \n",
      "_________________________________________________________________\n",
      "max_pooling2d_39 (MaxPooling (None, 113, 1, 16)        0         \n",
      "_________________________________________________________________\n",
      "conv2d_45 (Conv2D)           (None, 105, 1, 32)        4640      \n",
      "_________________________________________________________________\n",
      "max_pooling2d_40 (MaxPooling (None, 35, 1, 32)         0         \n",
      "_________________________________________________________________\n",
      "conv2d_46 (Conv2D)           (None, 9, 1, 64)          55360     \n",
      "_________________________________________________________________\n",
      "max_pooling2d_41 (MaxPooling (None, 3, 1, 64)          0         \n",
      "_________________________________________________________________\n",
      "flatten_16 (Flatten)         (None, 192)               0         \n",
      "_________________________________________________________________\n",
      "dense_16 (Dense)             (None, 1)                 193       \n",
      "=================================================================\n",
      "Total params: 60,257\n",
      "Trainable params: 60,257\n",
      "Non-trainable params: 0\n",
      "_________________________________________________________________\n"
     ]
    }
   ],
   "source": [
    "model = models.Sequential()\n",
    "model.add(layers.Conv2D(16, (3, 1), activation='relu', input_shape=(len(X[0]), 1, 1)))\n",
    "model.add(layers.MaxPooling2D((3, 1)))\n",
    "model.add(layers.Conv2D(32, (9, 1), activation='relu'))\n",
    "#model.add(layers.Conv2D(32, (9, 1), activation='relu', input_shape=(len(X[0]), 1, 1)))\n",
    "model.add(layers.MaxPooling2D((3, 1)))\n",
    "model.add(layers.Conv2D(64, (27, 1), activation='relu'))\n",
    "model.add(layers.MaxPooling2D((3, 1)))\n",
    "#model.add(layers.Conv2D(54, (54, 1), activation='relu'))\n",
    "#model.add(layers.MaxPooling2D((3, 1)))\n",
    "#model.summary()\n",
    "model.add(layers.Flatten())\n",
    "model.add(layers.Dense(1, activation='linear'))\n",
    "model.summary()"
   ]
  },
  {
   "cell_type": "code",
   "execution_count": 466,
   "metadata": {},
   "outputs": [],
   "source": [
    "train_images = train_images.reshape((60000, 28, 28, 1))\n",
    "train_images = train_images.astype('float32') / 255\n",
    "\n",
    "test_images = test_images.reshape((10000, 28, 28, 1))\n",
    "test_images = test_images.astype('float32') / 255"
   ]
  },
  {
   "cell_type": "code",
   "execution_count": 502,
   "metadata": {},
   "outputs": [],
   "source": [
    "X_ = X.reshape((len(X), len(X[0]), 1, 1))\n",
    "y_ = y.reshape(len(y), 1)"
   ]
  },
  {
   "cell_type": "code",
   "execution_count": 499,
   "metadata": {},
   "outputs": [
    {
     "data": {
      "text/plain": [
       "array([[2.63411008],\n",
       "       [1.70061649],\n",
       "       [2.14783964],\n",
       "       ...,\n",
       "       [2.82420759],\n",
       "       [0.14578746],\n",
       "       [2.66829998]])"
      ]
     },
     "execution_count": 499,
     "metadata": {},
     "output_type": "execute_result"
    }
   ],
   "source": [
    "y_"
   ]
  },
  {
   "cell_type": "code",
   "execution_count": 403,
   "metadata": {},
   "outputs": [
    {
     "data": {
      "text/plain": [
       "array([[0., 0., 0., ..., 0., 0., 0.],\n",
       "       [1., 0., 0., ..., 0., 0., 0.],\n",
       "       [0., 0., 0., ..., 0., 0., 0.],\n",
       "       ...,\n",
       "       [0., 0., 0., ..., 0., 0., 0.],\n",
       "       [0., 0., 0., ..., 0., 0., 0.],\n",
       "       [0., 0., 0., ..., 0., 1., 0.]], dtype=float32)"
      ]
     },
     "execution_count": 403,
     "metadata": {},
     "output_type": "execute_result"
    }
   ],
   "source": [
    "train_labels = to_categorical(train_labels)\n",
    "test_labels = to_categorical(test_labels)\n",
    "train_labels"
   ]
  },
  {
   "cell_type": "code",
   "execution_count": 508,
   "metadata": {},
   "outputs": [
    {
     "name": "stdout",
     "output_type": "stream",
     "text": [
      "Epoch 1/80\n",
      "4929/4929 [==============================] - 1s 205us/step - loss: 1.6281 - accuracy: 0.0000e+00\n",
      "Epoch 2/80\n",
      "4929/4929 [==============================] - 1s 162us/step - loss: 1.1068 - accuracy: 2.0288e-04\n",
      "Epoch 3/80\n",
      "4929/4929 [==============================] - 1s 159us/step - loss: 1.0041 - accuracy: 2.0288e-04\n",
      "Epoch 4/80\n",
      "4929/4929 [==============================] - 1s 193us/step - loss: 0.8817 - accuracy: 2.0288e-04\n",
      "Epoch 5/80\n",
      "4929/4929 [==============================] - 1s 177us/step - loss: 0.7955 - accuracy: 2.0288e-04\n",
      "Epoch 6/80\n",
      "4929/4929 [==============================] - 1s 157us/step - loss: 0.7830 - accuracy: 2.0288e-04\n",
      "Epoch 7/80\n",
      "4929/4929 [==============================] - 1s 176us/step - loss: 0.6705 - accuracy: 2.0288e-04\n",
      "Epoch 8/80\n",
      "4929/4929 [==============================] - 1s 168us/step - loss: 0.6437 - accuracy: 2.0288e-04\n",
      "Epoch 9/80\n",
      "4929/4929 [==============================] - 1s 171us/step - loss: 0.5731 - accuracy: 2.0288e-04\n",
      "Epoch 10/80\n",
      "4929/4929 [==============================] - 1s 179us/step - loss: 0.5902 - accuracy: 2.0288e-04\n",
      "Epoch 11/80\n",
      "4929/4929 [==============================] - 1s 187us/step - loss: 0.5227 - accuracy: 2.0288e-04\n",
      "Epoch 12/80\n",
      "4929/4929 [==============================] - 1s 186us/step - loss: 0.4640 - accuracy: 2.0288e-04\n",
      "Epoch 13/80\n",
      "4929/4929 [==============================] - 1s 177us/step - loss: 0.4624 - accuracy: 2.0288e-04\n",
      "Epoch 14/80\n",
      "4929/4929 [==============================] - 1s 172us/step - loss: 0.4400 - accuracy: 2.0288e-04\n",
      "Epoch 15/80\n",
      "4929/4929 [==============================] - 1s 180us/step - loss: 0.3939 - accuracy: 2.0288e-04\n",
      "Epoch 16/80\n",
      "4929/4929 [==============================] - 1s 179us/step - loss: 0.4522 - accuracy: 2.0288e-04\n",
      "Epoch 17/80\n",
      "4929/4929 [==============================] - 1s 164us/step - loss: 0.4265 - accuracy: 2.0288e-04\n",
      "Epoch 18/80\n",
      "4929/4929 [==============================] - 1s 184us/step - loss: 0.3868 - accuracy: 2.0288e-04\n",
      "Epoch 19/80\n",
      "4929/4929 [==============================] - 1s 167us/step - loss: 0.3465 - accuracy: 2.0288e-04\n",
      "Epoch 20/80\n",
      "4929/4929 [==============================] - 1s 176us/step - loss: 0.3414 - accuracy: 2.0288e-04\n",
      "Epoch 21/80\n",
      "4929/4929 [==============================] - 1s 175us/step - loss: 0.3441 - accuracy: 2.0288e-04\n",
      "Epoch 22/80\n",
      "4929/4929 [==============================] - 1s 173us/step - loss: 0.3176 - accuracy: 2.0288e-04\n",
      "Epoch 23/80\n",
      "4929/4929 [==============================] - 1s 176us/step - loss: 0.3027 - accuracy: 2.0288e-04\n",
      "Epoch 24/80\n",
      "4929/4929 [==============================] - 1s 174us/step - loss: 0.2914 - accuracy: 2.0288e-04\n",
      "Epoch 25/80\n",
      "4929/4929 [==============================] - 1s 175us/step - loss: 0.2938 - accuracy: 2.0288e-04\n",
      "Epoch 26/80\n",
      "4929/4929 [==============================] - 1s 167us/step - loss: 0.3048 - accuracy: 2.0288e-04\n",
      "Epoch 27/80\n",
      "4929/4929 [==============================] - 1s 182us/step - loss: 0.2853 - accuracy: 2.0288e-04\n",
      "Epoch 28/80\n",
      "4929/4929 [==============================] - 1s 175us/step - loss: 0.2689 - accuracy: 2.0288e-04\n",
      "Epoch 29/80\n",
      "4929/4929 [==============================] - 1s 166us/step - loss: 0.2868 - accuracy: 2.0288e-04\n",
      "Epoch 30/80\n",
      "4929/4929 [==============================] - 1s 168us/step - loss: 0.2695 - accuracy: 2.0288e-04\n",
      "Epoch 31/80\n",
      "4929/4929 [==============================] - 1s 186us/step - loss: 0.2512 - accuracy: 2.0288e-04\n",
      "Epoch 32/80\n",
      "4929/4929 [==============================] - 1s 165us/step - loss: 0.2649 - accuracy: 2.0288e-04\n",
      "Epoch 33/80\n",
      "4929/4929 [==============================] - 1s 165us/step - loss: 0.3564 - accuracy: 2.0288e-04\n",
      "Epoch 34/80\n",
      "4929/4929 [==============================] - 1s 174us/step - loss: 0.2789 - accuracy: 2.0288e-04\n",
      "Epoch 35/80\n",
      "4929/4929 [==============================] - 1s 167us/step - loss: 0.2364 - accuracy: 2.0288e-04\n",
      "Epoch 36/80\n",
      "4929/4929 [==============================] - 1s 167us/step - loss: 0.2308 - accuracy: 2.0288e-04\n",
      "Epoch 37/80\n",
      "4929/4929 [==============================] - 1s 163us/step - loss: 0.2542 - accuracy: 2.0288e-04\n",
      "Epoch 38/80\n",
      "4929/4929 [==============================] - 1s 174us/step - loss: 0.2091 - accuracy: 2.0288e-04\n",
      "Epoch 39/80\n",
      "4929/4929 [==============================] - 1s 171us/step - loss: 0.2054 - accuracy: 2.0288e-04\n",
      "Epoch 40/80\n",
      "4929/4929 [==============================] - 1s 182us/step - loss: 0.2099 - accuracy: 2.0288e-04\n",
      "Epoch 41/80\n",
      "4929/4929 [==============================] - 1s 177us/step - loss: 0.2057 - accuracy: 2.0288e-04\n",
      "Epoch 42/80\n",
      "4929/4929 [==============================] - 1s 166us/step - loss: 0.2046 - accuracy: 2.0288e-04\n",
      "Epoch 43/80\n",
      "4929/4929 [==============================] - 1s 180us/step - loss: 0.1950 - accuracy: 2.0288e-04\n",
      "Epoch 44/80\n",
      "4929/4929 [==============================] - 1s 173us/step - loss: 0.1965 - accuracy: 2.0288e-04\n",
      "Epoch 45/80\n",
      "4929/4929 [==============================] - 1s 158us/step - loss: 0.1903 - accuracy: 2.0288e-04\n",
      "Epoch 46/80\n",
      "4929/4929 [==============================] - 1s 178us/step - loss: 0.1933 - accuracy: 2.0288e-04\n",
      "Epoch 47/80\n",
      "4929/4929 [==============================] - 1s 178us/step - loss: 0.1972 - accuracy: 2.0288e-04\n",
      "Epoch 48/80\n",
      "4929/4929 [==============================] - 1s 173us/step - loss: 0.1862 - accuracy: 2.0288e-04\n",
      "Epoch 49/80\n",
      "4929/4929 [==============================] - 1s 169us/step - loss: 0.1763 - accuracy: 2.0288e-04\n",
      "Epoch 50/80\n",
      "4929/4929 [==============================] - 1s 172us/step - loss: 0.1792 - accuracy: 2.0288e-04\n",
      "Epoch 51/80\n",
      "4929/4929 [==============================] - 1s 178us/step - loss: 0.1891 - accuracy: 2.0288e-04\n",
      "Epoch 52/80\n",
      "4929/4929 [==============================] - 1s 173us/step - loss: 0.1722 - accuracy: 2.0288e-04\n",
      "Epoch 53/80\n",
      "4929/4929 [==============================] - 1s 179us/step - loss: 0.1796 - accuracy: 2.0288e-04\n",
      "Epoch 54/80\n",
      "4929/4929 [==============================] - 1s 174us/step - loss: 0.1775 - accuracy: 2.0288e-04\n",
      "Epoch 55/80\n",
      "4929/4929 [==============================] - 1s 176us/step - loss: 0.2038 - accuracy: 2.0288e-04\n",
      "Epoch 56/80\n",
      "4929/4929 [==============================] - 1s 175us/step - loss: 0.2067 - accuracy: 2.0288e-04\n",
      "Epoch 57/80\n",
      "4929/4929 [==============================] - 1s 185us/step - loss: 0.1935 - accuracy: 2.0288e-04\n",
      "Epoch 58/80\n",
      "4929/4929 [==============================] - 1s 190us/step - loss: 0.1791 - accuracy: 2.0288e-04\n",
      "Epoch 59/80\n",
      "4929/4929 [==============================] - 1s 185us/step - loss: 0.1986 - accuracy: 2.0288e-04\n",
      "Epoch 60/80\n",
      "4929/4929 [==============================] - 1s 168us/step - loss: 0.1810 - accuracy: 2.0288e-04\n",
      "Epoch 61/80\n",
      "4929/4929 [==============================] - 1s 168us/step - loss: 0.1677 - accuracy: 2.0288e-04\n",
      "Epoch 62/80\n",
      "4929/4929 [==============================] - 1s 164us/step - loss: 0.1879 - accuracy: 2.0288e-04\n",
      "Epoch 63/80\n",
      "4929/4929 [==============================] - 1s 164us/step - loss: 0.1634 - accuracy: 2.0288e-04\n",
      "Epoch 64/80\n",
      "4929/4929 [==============================] - 1s 172us/step - loss: 0.2258 - accuracy: 2.0288e-04\n",
      "Epoch 65/80\n",
      "4929/4929 [==============================] - 1s 167us/step - loss: 0.1865 - accuracy: 2.0288e-04\n",
      "Epoch 66/80\n",
      "4929/4929 [==============================] - 1s 171us/step - loss: 0.1650 - accuracy: 2.0288e-04\n",
      "Epoch 67/80\n",
      "4929/4929 [==============================] - 1s 166us/step - loss: 0.1561 - accuracy: 2.0288e-04\n",
      "Epoch 68/80\n",
      "4929/4929 [==============================] - 1s 160us/step - loss: 0.1492 - accuracy: 2.0288e-04\n",
      "Epoch 69/80\n",
      "4929/4929 [==============================] - 1s 161us/step - loss: 0.1390 - accuracy: 2.0288e-04\n",
      "Epoch 70/80\n",
      "4929/4929 [==============================] - 1s 175us/step - loss: 0.1362 - accuracy: 2.0288e-04\n",
      "Epoch 71/80\n",
      "4929/4929 [==============================] - 1s 176us/step - loss: 0.1509 - accuracy: 2.0288e-04\n",
      "Epoch 72/80\n",
      "4929/4929 [==============================] - 1s 174us/step - loss: 0.1296 - accuracy: 2.0288e-04\n",
      "Epoch 73/80\n",
      "4929/4929 [==============================] - 1s 167us/step - loss: 0.1413 - accuracy: 2.0288e-04\n",
      "Epoch 74/80\n",
      "4929/4929 [==============================] - 1s 169us/step - loss: 0.1399 - accuracy: 2.0288e-04\n",
      "Epoch 75/80\n",
      "4929/4929 [==============================] - 1s 176us/step - loss: 0.1321 - accuracy: 2.0288e-04\n",
      "Epoch 76/80\n"
     ]
    },
    {
     "name": "stdout",
     "output_type": "stream",
     "text": [
      "4929/4929 [==============================] - 1s 164us/step - loss: 0.1333 - accuracy: 2.0288e-04\n",
      "Epoch 77/80\n",
      "4929/4929 [==============================] - 1s 183us/step - loss: 0.1386 - accuracy: 2.0288e-04\n",
      "Epoch 78/80\n",
      "4929/4929 [==============================] - 1s 176us/step - loss: 0.1340 - accuracy: 2.0288e-04\n",
      "Epoch 79/80\n",
      "4929/4929 [==============================] - 1s 191us/step - loss: 0.1384 - accuracy: 2.0288e-04\n",
      "Epoch 80/80\n",
      "4929/4929 [==============================] - 1s 163us/step - loss: 0.1424 - accuracy: 2.0288e-04\n"
     ]
    },
    {
     "data": {
      "text/plain": [
       "<keras.callbacks.callbacks.History at 0x149b60e50>"
      ]
     },
     "execution_count": 508,
     "metadata": {},
     "output_type": "execute_result"
    }
   ],
   "source": [
    "batch_size = 100\n",
    "epochs = 80\n",
    "\n",
    "model.compile(loss='mean_squared_error',\n",
    "              optimizer='sgd',\n",
    "              metrics=['accuracy'])\n",
    "\n",
    "model.fit(X_, y_,\n",
    "          batch_size=batch_size,\n",
    "          epochs=epochs,\n",
    "          verbose=1\n",
    "          )"
   ]
  },
  {
   "cell_type": "code",
   "execution_count": 419,
   "metadata": {},
   "outputs": [
    {
     "name": "stdout",
     "output_type": "stream",
     "text": [
      "4929/4929 [==============================] - 1s 103us/step\n",
      "Test loss: 0.47273120139573405\n",
      "Test accuracy: 0.00020288091036491096\n"
     ]
    }
   ],
   "source": [
    "test_loss, test_acc = model.evaluate(X_, y_)\n",
    "\n",
    "print('Test loss:', test_loss)\n",
    "print('Test accuracy:', test_acc)"
   ]
  },
  {
   "cell_type": "code",
   "execution_count": 420,
   "metadata": {},
   "outputs": [
    {
     "data": {
      "text/plain": [
       "['__call__',\n",
       " '__class__',\n",
       " '__delattr__',\n",
       " '__dict__',\n",
       " '__dir__',\n",
       " '__doc__',\n",
       " '__eq__',\n",
       " '__format__',\n",
       " '__ge__',\n",
       " '__getattribute__',\n",
       " '__getstate__',\n",
       " '__gt__',\n",
       " '__hash__',\n",
       " '__init__',\n",
       " '__init_subclass__',\n",
       " '__le__',\n",
       " '__lt__',\n",
       " '__module__',\n",
       " '__ne__',\n",
       " '__new__',\n",
       " '__reduce__',\n",
       " '__reduce_ex__',\n",
       " '__repr__',\n",
       " '__setattr__',\n",
       " '__setstate__',\n",
       " '__sizeof__',\n",
       " '__str__',\n",
       " '__subclasshook__',\n",
       " '__weakref__',\n",
       " '_add_inbound_node',\n",
       " '_add_unique_metric_name',\n",
       " '_base_init',\n",
       " '_build_input_shape',\n",
       " '_built',\n",
       " '_cache_output_metric_attributes',\n",
       " '_check_trainable_weights_consistency',\n",
       " '_collected_trainable_weights',\n",
       " '_compile_metric_functions',\n",
       " '_compile_metrics',\n",
       " '_compile_weighted_metrics',\n",
       " '_compute_previous_mask',\n",
       " '_expects_training_arg',\n",
       " '_feed_input_names',\n",
       " '_feed_input_shapes',\n",
       " '_feed_inputs',\n",
       " '_feed_loss_fns',\n",
       " '_feed_output_names',\n",
       " '_feed_output_shapes',\n",
       " '_feed_outputs',\n",
       " '_feed_sample_weight_modes',\n",
       " '_feed_sample_weights',\n",
       " '_feed_targets',\n",
       " '_function_kwargs',\n",
       " '_get_callback_model',\n",
       " '_get_existing_metric',\n",
       " '_get_node_attribute_at_index',\n",
       " '_get_training_eval_metrics',\n",
       " '_handle_metrics',\n",
       " '_handle_per_output_metrics',\n",
       " '_inbound_nodes',\n",
       " '_init_graph_network',\n",
       " '_init_subclassed_network',\n",
       " '_initial_weights',\n",
       " '_input_coordinates',\n",
       " '_input_layers',\n",
       " '_is_compiled',\n",
       " '_is_graph_network',\n",
       " '_layers',\n",
       " '_layers_by_depth',\n",
       " '_losses',\n",
       " '_make_predict_function',\n",
       " '_make_test_function',\n",
       " '_make_train_function',\n",
       " '_metrics',\n",
       " '_network_nodes',\n",
       " '_node_key',\n",
       " '_nodes_by_depth',\n",
       " '_non_trainable_weights',\n",
       " '_outbound_nodes',\n",
       " '_output_coordinates',\n",
       " '_output_layers',\n",
       " '_output_loss_metrics',\n",
       " '_output_mask_cache',\n",
       " '_output_shape_cache',\n",
       " '_output_tensor_cache',\n",
       " '_per_input_losses',\n",
       " '_per_input_updates',\n",
       " '_per_output_metrics',\n",
       " '_per_output_weighted_metrics',\n",
       " '_prepare_total_loss',\n",
       " '_set_inputs',\n",
       " '_set_metric_attributes',\n",
       " '_set_per_output_metric_attributes',\n",
       " '_set_sample_weight_attributes',\n",
       " '_standardize_user_data',\n",
       " '_trainable_weights',\n",
       " '_updated_config',\n",
       " '_updates',\n",
       " '_uses_dynamic_learning_phase',\n",
       " '_uses_inputs_arg',\n",
       " '_validate_or_infer_batch_size',\n",
       " 'add',\n",
       " 'add_loss',\n",
       " 'add_metric',\n",
       " 'add_update',\n",
       " 'add_weight',\n",
       " 'assert_input_compatibility',\n",
       " 'build',\n",
       " 'built',\n",
       " 'call',\n",
       " 'compile',\n",
       " 'compute_mask',\n",
       " 'compute_output_shape',\n",
       " 'count_params',\n",
       " 'dtype',\n",
       " 'evaluate',\n",
       " 'evaluate_generator',\n",
       " 'fit',\n",
       " 'fit_generator',\n",
       " 'from_config',\n",
       " 'get_config',\n",
       " 'get_input_at',\n",
       " 'get_input_mask_at',\n",
       " 'get_input_shape_at',\n",
       " 'get_layer',\n",
       " 'get_losses_for',\n",
       " 'get_output_at',\n",
       " 'get_output_mask_at',\n",
       " 'get_output_shape_at',\n",
       " 'get_updates_for',\n",
       " 'get_weights',\n",
       " 'history',\n",
       " 'input',\n",
       " 'input_mask',\n",
       " 'input_names',\n",
       " 'input_shape',\n",
       " 'input_spec',\n",
       " 'inputs',\n",
       " 'layers',\n",
       " 'load_weights',\n",
       " 'loss',\n",
       " 'loss_functions',\n",
       " 'loss_weights',\n",
       " 'loss_weights_list',\n",
       " 'losses',\n",
       " 'metrics',\n",
       " 'metrics_names',\n",
       " 'model',\n",
       " 'name',\n",
       " 'non_trainable_weights',\n",
       " 'optimizer',\n",
       " 'output',\n",
       " 'output_mask',\n",
       " 'output_names',\n",
       " 'output_shape',\n",
       " 'outputs',\n",
       " 'pop',\n",
       " 'predict',\n",
       " 'predict_classes',\n",
       " 'predict_function',\n",
       " 'predict_generator',\n",
       " 'predict_on_batch',\n",
       " 'predict_proba',\n",
       " 'reset_metrics',\n",
       " 'reset_states',\n",
       " 'run_internal_graph',\n",
       " 'sample_weight_mode',\n",
       " 'sample_weight_modes',\n",
       " 'sample_weights',\n",
       " 'save',\n",
       " 'save_weights',\n",
       " 'set_weights',\n",
       " 'skip_target_indices',\n",
       " 'state_updates',\n",
       " 'stateful',\n",
       " 'stop_training',\n",
       " 'summary',\n",
       " 'supports_masking',\n",
       " 'targets',\n",
       " 'test_function',\n",
       " 'test_on_batch',\n",
       " 'to_json',\n",
       " 'to_yaml',\n",
       " 'total_loss',\n",
       " 'train_function',\n",
       " 'train_on_batch',\n",
       " 'trainable',\n",
       " 'trainable_weights',\n",
       " 'updates',\n",
       " 'uses_learning_phase',\n",
       " 'weights']"
      ]
     },
     "execution_count": 420,
     "metadata": {},
     "output_type": "execute_result"
    }
   ],
   "source": [
    "dir(model)"
   ]
  },
  {
   "cell_type": "code",
   "execution_count": 430,
   "metadata": {},
   "outputs": [
    {
     "data": {
      "text/plain": [
       "array([[2.003289  ],\n",
       "       [3.0145607 ],\n",
       "       [2.7025666 ],\n",
       "       ...,\n",
       "       [3.4947839 ],\n",
       "       [3.399231  ],\n",
       "       [0.96322435]], dtype=float32)"
      ]
     },
     "execution_count": 430,
     "metadata": {},
     "output_type": "execute_result"
    }
   ],
   "source": [
    "model.predict(X_)"
   ]
  },
  {
   "cell_type": "code",
   "execution_count": 423,
   "metadata": {},
   "outputs": [
    {
     "data": {
      "text/plain": [
       "343"
      ]
     },
     "execution_count": 423,
     "metadata": {},
     "output_type": "execute_result"
    }
   ],
   "source": [
    "len(X_[0])"
   ]
  },
  {
   "cell_type": "code",
   "execution_count": 429,
   "metadata": {},
   "outputs": [
    {
     "data": {
      "text/plain": [
       "(4929, 343, 1, 1)"
      ]
     },
     "execution_count": 429,
     "metadata": {},
     "output_type": "execute_result"
    }
   ],
   "source": [
    "X_.shape"
   ]
  },
  {
   "cell_type": "code",
   "execution_count": 431,
   "metadata": {},
   "outputs": [
    {
     "data": {
      "text/plain": [
       "array([[1.90986017],\n",
       "       [2.978599  ],\n",
       "       [3.06178742],\n",
       "       ...,\n",
       "       [3.07201082],\n",
       "       [4.16390931],\n",
       "       [2.0861749 ]])"
      ]
     },
     "execution_count": 431,
     "metadata": {},
     "output_type": "execute_result"
    }
   ],
   "source": [
    "y_"
   ]
  },
  {
   "cell_type": "code",
   "execution_count": 509,
   "metadata": {},
   "outputs": [
    {
     "data": {
      "text/plain": [
       "<matplotlib.collections.PathCollection at 0x1497a7810>"
      ]
     },
     "execution_count": 509,
     "metadata": {},
     "output_type": "execute_result"
    },
    {
     "data": {
      "image/png": "[encoded data removed]",
      "text/plain": [
       "<Figure size 432x288 with 1 Axes>"
      ]
     },
     "metadata": {
      "needs_background": "light"
     },
     "output_type": "display_data"
    }
   ],
   "source": [
    "plt.scatter(model.predict(X_), y_)"
   ]
  },
  {
   "cell_type": "code",
   "execution_count": 510,
   "metadata": {},
   "outputs": [],
   "source": [
    "corr, p_value = pearsonr((model.predict(X_)).reshape(len(X_)), y)"
   ]
  },
  {
   "cell_type": "code",
   "execution_count": 511,
   "metadata": {},
   "outputs": [
    {
     "data": {
      "text/plain": [
       "0.9777451503674226"
      ]
     },
     "execution_count": 511,
     "metadata": {},
     "output_type": "execute_result"
    }
   ],
   "source": [
    "corr"
   ]
  },
  {
   "cell_type": "code",
   "execution_count": null,
   "metadata": {},
   "outputs": [],
   "source": [
    "pearsonr(vhinge(predicted_output), y)"
   ]
  },
  {
   "cell_type": "code",
   "execution_count": null,
   "metadata": {},
   "outputs": [],
   "source": []
  },
  {
   "cell_type": "code",
   "execution_count": 532,
   "metadata": {},
   "outputs": [],
   "source": [
    "#returns a model\n",
    "def train(X, y):\n",
    "    X_ = X.reshape((len(X), len(X[0]), 1, 1))\n",
    "    y_ = y.reshape(len(y), 1)\n",
    "    \n",
    "    model = models.Sequential()\n",
    "    model.add(layers.Conv2D(16, (3, 1), activation='relu', input_shape=(len(X[0]), 1, 1)))\n",
    "    model.add(layers.MaxPooling2D((3, 1)))\n",
    "    model.add(layers.Conv2D(32, (9, 1), activation='relu'))\n",
    "    model.add(layers.MaxPooling2D((3, 1)))\n",
    "    model.add(layers.Conv2D(64, (27, 1), activation='relu'))\n",
    "    model.add(layers.MaxPooling2D((3, 1)))\n",
    "    model.add(layers.Flatten())\n",
    "    model.add(layers.Dense(1, activation='linear'))\n",
    "    model.summary()\n",
    "    \n",
    "    batch_size = 100\n",
    "    epochs = 100\n",
    "    \n",
    "\n",
    "    model.compile(loss='mean_squared_error',\n",
    "                  optimizer='sgd')\n",
    "\n",
    "    model.fit(X_, y_,\n",
    "              batch_size=batch_size,\n",
    "              epochs=epochs,\n",
    "              verbose=1\n",
    "              )\n",
    "    return model\n",
    "\n",
    "def fit(model, X, y):\n",
    "    X_ = X.reshape((len(X), len(X[0]), 1, 1))\n",
    "    plt.scatter(vhinge(model.predict(X_)), y)\n",
    "    plt.show()\n",
    "    corr, p_value = pearsonr(vhinge((model.predict(X_)).reshape(len(X_))), y)\n",
    "    print(\"corr is\", corr)"
   ]
  },
  {
   "cell_type": "code",
   "execution_count": 531,
   "metadata": {},
   "outputs": [
    {
     "name": "stdout",
     "output_type": "stream",
     "text": [
      "Model: \"sequential_26\"\n",
      "_________________________________________________________________\n",
      "Layer (type)                 Output Shape              Param #   \n",
      "=================================================================\n",
      "conv2d_53 (Conv2D)           (None, 341, 1, 16)        64        \n",
      "_________________________________________________________________\n",
      "max_pooling2d_48 (MaxPooling (None, 113, 1, 16)        0         \n",
      "_________________________________________________________________\n",
      "conv2d_54 (Conv2D)           (None, 105, 1, 32)        4640      \n",
      "_________________________________________________________________\n",
      "max_pooling2d_49 (MaxPooling (None, 35, 1, 32)         0         \n",
      "_________________________________________________________________\n",
      "conv2d_55 (Conv2D)           (None, 9, 1, 64)          55360     \n",
      "_________________________________________________________________\n",
      "max_pooling2d_50 (MaxPooling (None, 3, 1, 64)          0         \n",
      "_________________________________________________________________\n",
      "flatten_19 (Flatten)         (None, 192)               0         \n",
      "_________________________________________________________________\n",
      "dense_19 (Dense)             (None, 1)                 193       \n",
      "=================================================================\n",
      "Total params: 60,257\n",
      "Trainable params: 60,257\n",
      "Non-trainable params: 0\n",
      "_________________________________________________________________\n",
      "Epoch 1/100\n",
      "3500/3500 [==============================] - 1s 264us/step - loss: 1.6717\n",
      "Epoch 2/100\n",
      "3500/3500 [==============================] - 1s 175us/step - loss: 1.0916\n",
      "Epoch 3/100\n",
      "3500/3500 [==============================] - 1s 186us/step - loss: 1.0137\n",
      "Epoch 4/100\n",
      "3500/3500 [==============================] - 1s 177us/step - loss: 0.9147\n",
      "Epoch 5/100\n",
      "3500/3500 [==============================] - 1s 177us/step - loss: 0.8607\n",
      "Epoch 6/100\n",
      "3500/3500 [==============================] - 1s 184us/step - loss: 0.7877\n",
      "Epoch 7/100\n",
      "3500/3500 [==============================] - 1s 171us/step - loss: 0.7783\n",
      "Epoch 8/100\n",
      "3500/3500 [==============================] - 1s 173us/step - loss: 0.6915\n",
      "Epoch 9/100\n",
      "3500/3500 [==============================] - 1s 171us/step - loss: 0.6172\n",
      "Epoch 10/100\n",
      "3500/3500 [==============================] - 1s 174us/step - loss: 0.6261\n",
      "Epoch 11/100\n",
      "3500/3500 [==============================] - 1s 165us/step - loss: 0.5756\n",
      "Epoch 12/100\n",
      "3500/3500 [==============================] - 1s 176us/step - loss: 0.5944\n",
      "Epoch 13/100\n",
      "3500/3500 [==============================] - 1s 166us/step - loss: 0.4956\n",
      "Epoch 14/100\n",
      "3500/3500 [==============================] - 1s 177us/step - loss: 0.4753\n",
      "Epoch 15/100\n",
      "3500/3500 [==============================] - 1s 154us/step - loss: 0.4598\n",
      "Epoch 16/100\n",
      "3500/3500 [==============================] - 1s 165us/step - loss: 0.4456\n",
      "Epoch 17/100\n",
      "3500/3500 [==============================] - 1s 159us/step - loss: 0.4230\n",
      "Epoch 18/100\n",
      "3500/3500 [==============================] - 1s 163us/step - loss: 0.4041\n",
      "Epoch 19/100\n",
      "3500/3500 [==============================] - 1s 160us/step - loss: 0.3690\n",
      "Epoch 20/100\n",
      "3500/3500 [==============================] - 1s 167us/step - loss: 0.3657\n",
      "Epoch 21/100\n",
      "3500/3500 [==============================] - 1s 171us/step - loss: 0.3548\n",
      "Epoch 22/100\n",
      "3500/3500 [==============================] - 1s 161us/step - loss: 0.3424\n",
      "Epoch 23/100\n",
      "3500/3500 [==============================] - 1s 192us/step - loss: 0.3522\n",
      "Epoch 24/100\n",
      "3500/3500 [==============================] - 1s 197us/step - loss: 0.3101\n",
      "Epoch 25/100\n",
      "3500/3500 [==============================] - 1s 208us/step - loss: 0.3046\n",
      "Epoch 26/100\n",
      "3500/3500 [==============================] - 1s 190us/step - loss: 0.3166\n",
      "Epoch 27/100\n",
      "3500/3500 [==============================] - 1s 179us/step - loss: 0.3602\n",
      "Epoch 28/100\n",
      "3500/3500 [==============================] - 1s 177us/step - loss: 0.3068\n",
      "Epoch 29/100\n",
      "3500/3500 [==============================] - 1s 194us/step - loss: 0.3286\n",
      "Epoch 30/100\n",
      "3500/3500 [==============================] - 1s 196us/step - loss: 0.2835\n",
      "Epoch 31/100\n",
      "3500/3500 [==============================] - 1s 190us/step - loss: 0.2616\n",
      "Epoch 32/100\n",
      "3500/3500 [==============================] - 1s 165us/step - loss: 0.2951\n",
      "Epoch 33/100\n",
      "3500/3500 [==============================] - 1s 178us/step - loss: 0.2723\n",
      "Epoch 34/100\n",
      "3500/3500 [==============================] - 1s 183us/step - loss: 0.2603\n",
      "Epoch 35/100\n",
      "3500/3500 [==============================] - 1s 173us/step - loss: 0.2452\n",
      "Epoch 36/100\n",
      "3500/3500 [==============================] - 1s 189us/step - loss: 0.2437\n",
      "Epoch 37/100\n",
      "3500/3500 [==============================] - 1s 192us/step - loss: 0.2523\n",
      "Epoch 38/100\n",
      "3500/3500 [==============================] - 1s 182us/step - loss: 0.2802\n",
      "Epoch 39/100\n",
      "3500/3500 [==============================] - 1s 177us/step - loss: 0.2594\n",
      "Epoch 40/100\n",
      "3500/3500 [==============================] - 1s 163us/step - loss: 0.2295\n",
      "Epoch 41/100\n",
      "3500/3500 [==============================] - 1s 169us/step - loss: 0.2446\n",
      "Epoch 42/100\n",
      "3500/3500 [==============================] - 1s 172us/step - loss: 0.2284\n",
      "Epoch 43/100\n",
      "3500/3500 [==============================] - 1s 181us/step - loss: 0.2034\n",
      "Epoch 44/100\n",
      "3500/3500 [==============================] - 1s 174us/step - loss: 0.2069\n",
      "Epoch 45/100\n",
      "3500/3500 [==============================] - 1s 176us/step - loss: 0.2129\n",
      "Epoch 46/100\n",
      "3500/3500 [==============================] - 1s 176us/step - loss: 0.2010\n",
      "Epoch 47/100\n",
      "3500/3500 [==============================] - 1s 194us/step - loss: 0.1936\n",
      "Epoch 48/100\n",
      "3500/3500 [==============================] - 1s 172us/step - loss: 0.1833\n",
      "Epoch 49/100\n",
      "3500/3500 [==============================] - 1s 178us/step - loss: 0.1851\n",
      "Epoch 50/100\n",
      "3500/3500 [==============================] - 1s 170us/step - loss: 0.1734\n",
      "Epoch 51/100\n",
      "3500/3500 [==============================] - 1s 182us/step - loss: 0.1676\n",
      "Epoch 52/100\n",
      "3500/3500 [==============================] - 1s 182us/step - loss: 0.1592\n",
      "Epoch 53/100\n",
      "3500/3500 [==============================] - 1s 189us/step - loss: 0.1652\n",
      "Epoch 54/100\n",
      "3500/3500 [==============================] - 1s 168us/step - loss: 0.1865\n",
      "Epoch 55/100\n",
      "3500/3500 [==============================] - 1s 172us/step - loss: 0.1570\n",
      "Epoch 56/100\n",
      "3500/3500 [==============================] - 1s 180us/step - loss: 0.1670\n",
      "Epoch 57/100\n",
      "3500/3500 [==============================] - 1s 190us/step - loss: 0.1753\n",
      "Epoch 58/100\n",
      "3500/3500 [==============================] - 1s 179us/step - loss: 0.1448\n",
      "Epoch 59/100\n",
      "3500/3500 [==============================] - 1s 187us/step - loss: 0.1506\n",
      "Epoch 60/100\n",
      "3500/3500 [==============================] - 1s 180us/step - loss: 0.1556\n",
      "Epoch 61/100\n",
      "3500/3500 [==============================] - 1s 178us/step - loss: 0.1379\n",
      "Epoch 62/100\n",
      "3500/3500 [==============================] - 1s 183us/step - loss: 0.1435\n",
      "Epoch 63/100\n",
      "3500/3500 [==============================] - 1s 200us/step - loss: 0.1750\n",
      "Epoch 64/100\n",
      "3500/3500 [==============================] - 1s 251us/step - loss: 0.1838\n",
      "Epoch 65/100\n",
      "3500/3500 [==============================] - 1s 218us/step - loss: 0.1789\n",
      "Epoch 66/100\n",
      "3500/3500 [==============================] - 1s 175us/step - loss: 0.1965\n",
      "Epoch 67/100\n",
      "3500/3500 [==============================] - 1s 170us/step - loss: 0.1909\n",
      "Epoch 68/100\n",
      "3500/3500 [==============================] - 1s 200us/step - loss: 0.1890\n",
      "Epoch 69/100\n",
      "3500/3500 [==============================] - 1s 185us/step - loss: 0.1712\n",
      "Epoch 70/100\n",
      "3500/3500 [==============================] - 1s 191us/step - loss: 0.1655\n",
      "Epoch 71/100\n",
      "3500/3500 [==============================] - 1s 210us/step - loss: 0.1648\n",
      "Epoch 72/100\n",
      "3500/3500 [==============================] - 1s 199us/step - loss: 0.1818\n",
      "Epoch 73/100\n",
      "3500/3500 [==============================] - 1s 188us/step - loss: 0.1638\n",
      "Epoch 74/100\n",
      "3500/3500 [==============================] - 1s 217us/step - loss: 0.1547\n",
      "Epoch 75/100\n",
      "3500/3500 [==============================] - 1s 223us/step - loss: 0.1452\n",
      "Epoch 76/100\n",
      "3500/3500 [==============================] - 1s 177us/step - loss: 0.1300\n",
      "Epoch 77/100\n",
      "3500/3500 [==============================] - 1s 201us/step - loss: 0.1177\n",
      "Epoch 78/100\n",
      "3500/3500 [==============================] - 1s 197us/step - loss: 0.1263\n",
      "Epoch 79/100\n"
     ]
    },
    {
     "name": "stdout",
     "output_type": "stream",
     "text": [
      "3500/3500 [==============================] - 1s 188us/step - loss: 0.1424\n",
      "Epoch 80/100\n",
      "3500/3500 [==============================] - 1s 179us/step - loss: 0.1141\n",
      "Epoch 81/100\n",
      "3500/3500 [==============================] - 1s 194us/step - loss: 0.1167\n",
      "Epoch 82/100\n",
      "3500/3500 [==============================] - 1s 174us/step - loss: 0.1308\n",
      "Epoch 83/100\n",
      "3500/3500 [==============================] - 1s 172us/step - loss: 0.1140\n",
      "Epoch 84/100\n",
      "3500/3500 [==============================] - 1s 163us/step - loss: 0.1074\n",
      "Epoch 85/100\n",
      "3500/3500 [==============================] - 1s 154us/step - loss: 0.1072\n",
      "Epoch 86/100\n",
      "3500/3500 [==============================] - 1s 158us/step - loss: 0.1161\n",
      "Epoch 87/100\n",
      "3500/3500 [==============================] - 1s 155us/step - loss: 0.1000\n",
      "Epoch 88/100\n",
      "3500/3500 [==============================] - 1s 156us/step - loss: 0.1132\n",
      "Epoch 89/100\n",
      "3500/3500 [==============================] - 1s 168us/step - loss: 0.1089\n",
      "Epoch 90/100\n",
      "3500/3500 [==============================] - 1s 156us/step - loss: 0.1114\n",
      "Epoch 91/100\n",
      "3500/3500 [==============================] - 1s 145us/step - loss: 0.0989\n",
      "Epoch 92/100\n",
      "3500/3500 [==============================] - 1s 148us/step - loss: 0.0967\n",
      "Epoch 93/100\n",
      "3500/3500 [==============================] - 1s 168us/step - loss: 0.0951\n",
      "Epoch 94/100\n",
      "3500/3500 [==============================] - 1s 174us/step - loss: 0.0963\n",
      "Epoch 95/100\n",
      "3500/3500 [==============================] - 1s 152us/step - loss: 0.0989\n",
      "Epoch 96/100\n",
      "3500/3500 [==============================] - 1s 176us/step - loss: 0.1049\n",
      "Epoch 97/100\n",
      "3500/3500 [==============================] - 1s 198us/step - loss: 0.1262\n",
      "Epoch 98/100\n",
      "3500/3500 [==============================] - 1s 182us/step - loss: 0.1018\n",
      "Epoch 99/100\n",
      "3500/3500 [==============================] - 1s 169us/step - loss: 0.1123\n",
      "Epoch 100/100\n",
      "3500/3500 [==============================] - 1s 165us/step - loss: 0.1006\n"
     ]
    },
    {
     "ename": "TypeError",
     "evalue": "fit() takes 2 positional arguments but 3 were given",
     "output_type": "error",
     "traceback": [
      "\u001b[0;31m---------------------------------------------------------------------------\u001b[0m",
      "\u001b[0;31mTypeError\u001b[0m                                 Traceback (most recent call last)",
      "\u001b[0;32m<ipython-input-531-da86886cb479>\u001b[0m in \u001b[0;36m<module>\u001b[0;34m\u001b[0m\n\u001b[1;32m      6\u001b[0m \u001b[0;34m\u001b[0m\u001b[0m\n\u001b[1;32m      7\u001b[0m \u001b[0mmodel\u001b[0m \u001b[0;34m=\u001b[0m \u001b[0mtrain\u001b[0m\u001b[0;34m(\u001b[0m\u001b[0mX_train\u001b[0m\u001b[0;34m,\u001b[0m \u001b[0my_train\u001b[0m\u001b[0;34m)\u001b[0m\u001b[0;34m\u001b[0m\u001b[0;34m\u001b[0m\u001b[0m\n\u001b[0;32m----> 8\u001b[0;31m \u001b[0mfit\u001b[0m\u001b[0;34m(\u001b[0m\u001b[0mmodel\u001b[0m\u001b[0;34m,\u001b[0m \u001b[0mX_test\u001b[0m\u001b[0;34m,\u001b[0m \u001b[0my_test\u001b[0m\u001b[0;34m)\u001b[0m\u001b[0;34m\u001b[0m\u001b[0;34m\u001b[0m\u001b[0m\n\u001b[0m",
      "\u001b[0;31mTypeError\u001b[0m: fit() takes 2 positional arguments but 3 were given"
     ]
    }
   ],
   "source": [
    "X_train = X[:3500]\n",
    "X_test = X[3500:]\n",
    "\n",
    "y_train = y[:3500]\n",
    "y_test = y[3500:]\n",
    "\n",
    "model = train(X_train, y_train)\n",
    "fit(model, X_test, y_test)"
   ]
  },
  {
   "cell_type": "code",
   "execution_count": 533,
   "metadata": {},
   "outputs": [
    {
     "data": {
      "image/png": "[encoded data removed]",
      "text/plain": [
       "<Figure size 432x288 with 1 Axes>"
      ]
     },
     "metadata": {
      "needs_background": "light"
     },
     "output_type": "display_data"
    },
    {
     "name": "stdout",
     "output_type": "stream",
     "text": [
      "corr is 0.9192901203288656\n"
     ]
    }
   ],
   "source": [
    "corr = fit(model, X_train, y_train)"
   ]
  },
  {
   "cell_type": "code",
   "execution_count": 451,
   "metadata": {},
   "outputs": [
    {
     "data": {
      "text/plain": [
       "0.9125789840999999"
      ]
     },
     "execution_count": 451,
     "metadata": {},
     "output_type": "execute_result"
    }
   ],
   "source": [
    "0.95529**2"
   ]
  },
  {
   "cell_type": "code",
   "execution_count": 520,
   "metadata": {},
   "outputs": [
    {
     "data": {
      "image/png": "[encoded data removed]",
      "text/plain": [
       "<Figure size 432x288 with 1 Axes>"
      ]
     },
     "metadata": {
      "needs_background": "light"
     },
     "output_type": "display_data"
    },
    {
     "name": "stdout",
     "output_type": "stream",
     "text": [
      "corr is 0.9783372898080087\n"
     ]
    }
   ],
   "source": [
    "fit(X_train, y_train)"
   ]
  },
  {
   "cell_type": "code",
   "execution_count": 522,
   "metadata": {},
   "outputs": [
    {
     "data": {
      "text/plain": [
       "1429"
      ]
     },
     "execution_count": 522,
     "metadata": {},
     "output_type": "execute_result"
    }
   ],
   "source": [
    "len(X_test)"
   ]
  },
  {
   "cell_type": "code",
   "execution_count": 455,
   "metadata": {},
   "outputs": [
    {
     "data": {
      "image/png": "[encoded data removed]",
      "text/plain": [
       "<Figure size 432x288 with 1 Axes>"
      ]
     },
     "metadata": {
      "needs_background": "light"
     },
     "output_type": "display_data"
    },
    {
     "name": "stdout",
     "output_type": "stream",
     "text": [
      "correlation is 0.8319195379566576\n"
     ]
    }
   ],
   "source": [
    "reg = linear_model.LinearRegression()\n",
    "reg.fit(X_add, y)\n",
    "#This looks like the tightest regression so far\n",
    "predicted_output = X_add @ reg.coef_ + reg.intercept_\n",
    "display(vhinge(predicted_output), y)\n",
    "corr, p_value = pearsonr(vhinge(predicted_output), y)\n",
    "print(\"correlation is\",corr)"
   ]
  },
  {
   "cell_type": "code",
   "execution_count": 461,
   "metadata": {},
   "outputs": [
    {
     "data": {
      "text/plain": [
       "array([[  0.        ,   0.        ,   0.        , ...,   0.        ,\n",
       "        -11.10000038, -11.10000038],\n",
       "       [  0.        ,   0.        ,   0.        , ...,   0.        ,\n",
       "        -13.19999981, -13.19999981],\n",
       "       [  0.        ,   0.        ,   0.        , ...,   0.        ,\n",
       "        -12.39999962, -12.39999962],\n",
       "       ...,\n",
       "       [  0.        ,   0.        ,   0.        , ...,   0.        ,\n",
       "        -17.39999962, -17.39999962],\n",
       "       [  0.        ,   0.        ,   0.        , ...,   0.        ,\n",
       "        -10.10000038, -10.10000038],\n",
       "       [  0.        ,   0.        ,   0.        , ...,   0.        ,\n",
       "        -13.10000038, -13.10000038]])"
      ]
     },
     "execution_count": 461,
     "metadata": {},
     "output_type": "execute_result"
    }
   ],
   "source": [
    "X"
   ]
  },
  {
   "cell_type": "code",
   "execution_count": null,
   "metadata": {},
   "outputs": [],
   "source": []
  }
 ],
 "metadata": {
  "kernelspec": {
   "display_name": "Python 3",
   "language": "python",
   "name": "python3"
  },
  "language_info": {
   "codemirror_mode": {
    "name": "ipython",
    "version": 3
   },
   "file_extension": ".py",
   "mimetype": "text/x-python",
   "name": "python",
   "nbconvert_exporter": "python",
   "pygments_lexer": "ipython3",
   "version": "3.7.5"
  }
 },
 "nbformat": 4,
 "nbformat_minor": 2
}
