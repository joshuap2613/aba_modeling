{
 "cells": [
  {
   "cell_type": "code",
   "execution_count": 1,
   "metadata": {},
   "outputs": [],
   "source": [
    "import pandas as pd\n",
    "import numpy as np"
   ]
  },
  {
   "cell_type": "code",
   "execution_count": 3,
   "metadata": {},
   "outputs": [],
   "source": [
    "df = pd.read_csv('vienna_windows.csv')"
   ]
  },
  {
   "cell_type": "code",
   "execution_count": 4,
   "metadata": {},
   "outputs": [
    {
     "data": {
      "text/html": [
       "<div>\n",
       "<style scoped>\n",
       "    .dataframe tbody tr th:only-of-type {\n",
       "        vertical-align: middle;\n",
       "    }\n",
       "\n",
       "    .dataframe tbody tr th {\n",
       "        vertical-align: top;\n",
       "    }\n",
       "\n",
       "    .dataframe thead th {\n",
       "        text-align: right;\n",
       "    }\n",
       "</style>\n",
       "<table border=\"1\" class=\"dataframe\">\n",
       "  <thead>\n",
       "    <tr style=\"text-align: right;\">\n",
       "      <th></th>\n",
       "      <th>0</th>\n",
       "      <th>0.1</th>\n",
       "      <th>1</th>\n",
       "      <th>5</th>\n",
       "      <th>10</th>\n",
       "      <th>20</th>\n",
       "      <th>40</th>\n",
       "    </tr>\n",
       "  </thead>\n",
       "  <tbody>\n",
       "    <tr>\n",
       "      <th>0</th>\n",
       "      <td>GGGAAUGGAUCCACAUCUACGAAUUCGUACCAUAGAGAGGUUAUAC...</td>\n",
       "      <td>-3.1</td>\n",
       "      <td>-3.1</td>\n",
       "      <td>-3.1</td>\n",
       "      <td>-5.8</td>\n",
       "      <td>-10.5</td>\n",
       "      <td>-15.700000</td>\n",
       "    </tr>\n",
       "    <tr>\n",
       "      <th>1</th>\n",
       "      <td>GGGAAUGGAUCCACAUCUACGAAUUCGUACCAGAGAGUGGUUAUCC...</td>\n",
       "      <td>-9.2</td>\n",
       "      <td>-9.2</td>\n",
       "      <td>-9.2</td>\n",
       "      <td>-12.4</td>\n",
       "      <td>-15.7</td>\n",
       "      <td>-23.600000</td>\n",
       "    </tr>\n",
       "    <tr>\n",
       "      <th>2</th>\n",
       "      <td>GGGAAUGGAUCCACAUCUACGAAUUCGUACCAUAGAUGAGGUUAUC...</td>\n",
       "      <td>-6.1</td>\n",
       "      <td>-6.1</td>\n",
       "      <td>-6.1</td>\n",
       "      <td>-8.8</td>\n",
       "      <td>-12.0</td>\n",
       "      <td>-20.900000</td>\n",
       "    </tr>\n",
       "    <tr>\n",
       "      <th>3</th>\n",
       "      <td>GGGAAUGGAUCCACAUCUACGAAUUCGUACCAUAGAGACGGUGUAU...</td>\n",
       "      <td>-7.2</td>\n",
       "      <td>-7.2</td>\n",
       "      <td>-7.2</td>\n",
       "      <td>-9.9</td>\n",
       "      <td>-12.4</td>\n",
       "      <td>-22.500000</td>\n",
       "    </tr>\n",
       "    <tr>\n",
       "      <th>4</th>\n",
       "      <td>GGGAAUGGAUCCACAUCUACGAAUUCGUACCAUAGAGAGGUUAUCC...</td>\n",
       "      <td>-4.3</td>\n",
       "      <td>-4.6</td>\n",
       "      <td>-4.6</td>\n",
       "      <td>-8.4</td>\n",
       "      <td>-12.0</td>\n",
       "      <td>-22.400000</td>\n",
       "    </tr>\n",
       "    <tr>\n",
       "      <th>...</th>\n",
       "      <td>...</td>\n",
       "      <td>...</td>\n",
       "      <td>...</td>\n",
       "      <td>...</td>\n",
       "      <td>...</td>\n",
       "      <td>...</td>\n",
       "      <td>...</td>\n",
       "    </tr>\n",
       "    <tr>\n",
       "      <th>4931</th>\n",
       "      <td>GGGAAUGGAUCCACAUCUACGAAUUCGUACCAUAGAGAGGUCUAUC...</td>\n",
       "      <td>-5.3</td>\n",
       "      <td>-5.3</td>\n",
       "      <td>-5.3</td>\n",
       "      <td>-8.0</td>\n",
       "      <td>-13.0</td>\n",
       "      <td>-18.600000</td>\n",
       "    </tr>\n",
       "    <tr>\n",
       "      <th>4932</th>\n",
       "      <td>GGGAAUGGAUCCACAUCUACGAAUUCGUACCAUGGAGGGGUUAUCC...</td>\n",
       "      <td>-7.4</td>\n",
       "      <td>-7.4</td>\n",
       "      <td>-7.4</td>\n",
       "      <td>-11.0</td>\n",
       "      <td>-15.9</td>\n",
       "      <td>-20.100000</td>\n",
       "    </tr>\n",
       "    <tr>\n",
       "      <th>4933</th>\n",
       "      <td>GGGAAUGGAUCCACAUCUACGAAUUCGUACUAUAGAGAGGUUAGCC...</td>\n",
       "      <td>-4.9</td>\n",
       "      <td>-4.9</td>\n",
       "      <td>-4.9</td>\n",
       "      <td>-7.6</td>\n",
       "      <td>-10.7</td>\n",
       "      <td>-16.200001</td>\n",
       "    </tr>\n",
       "    <tr>\n",
       "      <th>4934</th>\n",
       "      <td>GGGAAUGGAUCCACAUCUACGAAUUCGUACCAUAGAGACGGUUAUC...</td>\n",
       "      <td>-4.8</td>\n",
       "      <td>-4.8</td>\n",
       "      <td>-4.8</td>\n",
       "      <td>-7.5</td>\n",
       "      <td>-12.0</td>\n",
       "      <td>-18.799999</td>\n",
       "    </tr>\n",
       "    <tr>\n",
       "      <th>4935</th>\n",
       "      <td>GGGAAUGGAUCCACAUCUACGAAUUCGUACCAUAGAGAGGUUAACC...</td>\n",
       "      <td>-4.9</td>\n",
       "      <td>-4.9</td>\n",
       "      <td>-4.9</td>\n",
       "      <td>-7.6</td>\n",
       "      <td>-10.7</td>\n",
       "      <td>-17.100000</td>\n",
       "    </tr>\n",
       "  </tbody>\n",
       "</table>\n",
       "<p>4936 rows × 7 columns</p>\n",
       "</div>"
      ],
      "text/plain": [
       "                                                      0  0.1    1    5    10  \\\n",
       "0     GGGAAUGGAUCCACAUCUACGAAUUCGUACCAUAGAGAGGUUAUAC... -3.1 -3.1 -3.1  -5.8   \n",
       "1     GGGAAUGGAUCCACAUCUACGAAUUCGUACCAGAGAGUGGUUAUCC... -9.2 -9.2 -9.2 -12.4   \n",
       "2     GGGAAUGGAUCCACAUCUACGAAUUCGUACCAUAGAUGAGGUUAUC... -6.1 -6.1 -6.1  -8.8   \n",
       "3     GGGAAUGGAUCCACAUCUACGAAUUCGUACCAUAGAGACGGUGUAU... -7.2 -7.2 -7.2  -9.9   \n",
       "4     GGGAAUGGAUCCACAUCUACGAAUUCGUACCAUAGAGAGGUUAUCC... -4.3 -4.6 -4.6  -8.4   \n",
       "...                                                 ...  ...  ...  ...   ...   \n",
       "4931  GGGAAUGGAUCCACAUCUACGAAUUCGUACCAUAGAGAGGUCUAUC... -5.3 -5.3 -5.3  -8.0   \n",
       "4932  GGGAAUGGAUCCACAUCUACGAAUUCGUACCAUGGAGGGGUUAUCC... -7.4 -7.4 -7.4 -11.0   \n",
       "4933  GGGAAUGGAUCCACAUCUACGAAUUCGUACUAUAGAGAGGUUAGCC... -4.9 -4.9 -4.9  -7.6   \n",
       "4934  GGGAAUGGAUCCACAUCUACGAAUUCGUACCAUAGAGACGGUUAUC... -4.8 -4.8 -4.8  -7.5   \n",
       "4935  GGGAAUGGAUCCACAUCUACGAAUUCGUACCAUAGAGAGGUUAACC... -4.9 -4.9 -4.9  -7.6   \n",
       "\n",
       "        20         40  \n",
       "0    -10.5 -15.700000  \n",
       "1    -15.7 -23.600000  \n",
       "2    -12.0 -20.900000  \n",
       "3    -12.4 -22.500000  \n",
       "4    -12.0 -22.400000  \n",
       "...    ...        ...  \n",
       "4931 -13.0 -18.600000  \n",
       "4932 -15.9 -20.100000  \n",
       "4933 -10.7 -16.200001  \n",
       "4934 -12.0 -18.799999  \n",
       "4935 -10.7 -17.100000  \n",
       "\n",
       "[4936 rows x 7 columns]"
      ]
     },
     "execution_count": 4,
     "metadata": {},
     "output_type": "execute_result"
    }
   ],
   "source": [
    "df"
   ]
  },
  {
   "cell_type": "code",
   "execution_count": 8,
   "metadata": {},
   "outputs": [
    {
     "data": {
      "text/plain": [
       "array([[1.        , 0.98679112],\n",
       "       [0.98679112, 1.        ]])"
      ]
     },
     "execution_count": 8,
     "metadata": {},
     "output_type": "execute_result"
    }
   ],
   "source": [
    "np.corrcoef(df['0.1'], df['1'])"
   ]
  },
  {
   "cell_type": "code",
   "execution_count": 9,
   "metadata": {},
   "outputs": [
    {
     "data": {
      "text/plain": [
       "array([[1.        , 0.91144181],\n",
       "       [0.91144181, 1.        ]])"
      ]
     },
     "execution_count": 9,
     "metadata": {},
     "output_type": "execute_result"
    }
   ],
   "source": [
    "np.corrcoef(df['0.1'], df['5'])"
   ]
  },
  {
   "cell_type": "code",
   "execution_count": 10,
   "metadata": {},
   "outputs": [
    {
     "data": {
      "text/plain": [
       "array([[1.       , 0.8370596],\n",
       "       [0.8370596, 1.       ]])"
      ]
     },
     "execution_count": 10,
     "metadata": {},
     "output_type": "execute_result"
    }
   ],
   "source": [
    "np.corrcoef(df['0.1'], df['10'])"
   ]
  },
  {
   "cell_type": "code",
   "execution_count": 11,
   "metadata": {},
   "outputs": [
    {
     "data": {
      "text/plain": [
       "array([[1.       , 0.5000281],\n",
       "       [0.5000281, 1.       ]])"
      ]
     },
     "execution_count": 11,
     "metadata": {},
     "output_type": "execute_result"
    }
   ],
   "source": [
    "np.corrcoef(df['0.1'], df['20'])"
   ]
  },
  {
   "cell_type": "code",
   "execution_count": 12,
   "metadata": {},
   "outputs": [
    {
     "data": {
      "text/plain": [
       "array([[1.        , 0.46537969],\n",
       "       [0.46537969, 1.        ]])"
      ]
     },
     "execution_count": 12,
     "metadata": {},
     "output_type": "execute_result"
    }
   ],
   "source": [
    "np.corrcoef(df['0.1'], df['40'])"
   ]
  },
  {
   "cell_type": "code",
   "execution_count": 18,
   "metadata": {},
   "outputs": [
    {
     "data": {
      "text/html": [
       "<div>\n",
       "<style scoped>\n",
       "    .dataframe tbody tr th:only-of-type {\n",
       "        vertical-align: middle;\n",
       "    }\n",
       "\n",
       "    .dataframe tbody tr th {\n",
       "        vertical-align: top;\n",
       "    }\n",
       "\n",
       "    .dataframe thead th {\n",
       "        text-align: right;\n",
       "    }\n",
       "</style>\n",
       "<table border=\"1\" class=\"dataframe\">\n",
       "  <thead>\n",
       "    <tr style=\"text-align: right;\">\n",
       "      <th></th>\n",
       "      <th>0.1</th>\n",
       "      <th>1</th>\n",
       "      <th>5</th>\n",
       "      <th>10</th>\n",
       "      <th>20</th>\n",
       "      <th>40</th>\n",
       "    </tr>\n",
       "  </thead>\n",
       "  <tbody>\n",
       "    <tr>\n",
       "      <th>0.1</th>\n",
       "      <td>1.000000</td>\n",
       "      <td>0.986791</td>\n",
       "      <td>0.911442</td>\n",
       "      <td>0.837060</td>\n",
       "      <td>0.500028</td>\n",
       "      <td>0.465380</td>\n",
       "    </tr>\n",
       "    <tr>\n",
       "      <th>1</th>\n",
       "      <td>0.986791</td>\n",
       "      <td>1.000000</td>\n",
       "      <td>0.934132</td>\n",
       "      <td>0.870324</td>\n",
       "      <td>0.513885</td>\n",
       "      <td>0.475315</td>\n",
       "    </tr>\n",
       "    <tr>\n",
       "      <th>5</th>\n",
       "      <td>0.911442</td>\n",
       "      <td>0.934132</td>\n",
       "      <td>1.000000</td>\n",
       "      <td>0.909513</td>\n",
       "      <td>0.545505</td>\n",
       "      <td>0.483757</td>\n",
       "    </tr>\n",
       "    <tr>\n",
       "      <th>10</th>\n",
       "      <td>0.837060</td>\n",
       "      <td>0.870324</td>\n",
       "      <td>0.909513</td>\n",
       "      <td>1.000000</td>\n",
       "      <td>0.619883</td>\n",
       "      <td>0.494106</td>\n",
       "    </tr>\n",
       "    <tr>\n",
       "      <th>20</th>\n",
       "      <td>0.500028</td>\n",
       "      <td>0.513885</td>\n",
       "      <td>0.545505</td>\n",
       "      <td>0.619883</td>\n",
       "      <td>1.000000</td>\n",
       "      <td>0.638766</td>\n",
       "    </tr>\n",
       "    <tr>\n",
       "      <th>40</th>\n",
       "      <td>0.465380</td>\n",
       "      <td>0.475315</td>\n",
       "      <td>0.483757</td>\n",
       "      <td>0.494106</td>\n",
       "      <td>0.638766</td>\n",
       "      <td>1.000000</td>\n",
       "    </tr>\n",
       "  </tbody>\n",
       "</table>\n",
       "</div>"
      ],
      "text/plain": [
       "          0.1         1         5        10        20        40\n",
       "0.1  1.000000  0.986791  0.911442  0.837060  0.500028  0.465380\n",
       "1    0.986791  1.000000  0.934132  0.870324  0.513885  0.475315\n",
       "5    0.911442  0.934132  1.000000  0.909513  0.545505  0.483757\n",
       "10   0.837060  0.870324  0.909513  1.000000  0.619883  0.494106\n",
       "20   0.500028  0.513885  0.545505  0.619883  1.000000  0.638766\n",
       "40   0.465380  0.475315  0.483757  0.494106  0.638766  1.000000"
      ]
     },
     "execution_count": 18,
     "metadata": {},
     "output_type": "execute_result"
    }
   ],
   "source": [
    "df.drop(['0'], axis=1).corr()"
   ]
  },
  {
   "cell_type": "code",
   "execution_count": null,
   "metadata": {},
   "outputs": [],
   "source": []
  }
 ],
 "metadata": {
  "kernelspec": {
   "display_name": "Python 3",
   "language": "python",
   "name": "python3"
  },
  "language_info": {
   "codemirror_mode": {
    "name": "ipython",
    "version": 3
   },
   "file_extension": ".py",
   "mimetype": "text/x-python",
   "name": "python",
   "nbconvert_exporter": "python",
   "pygments_lexer": "ipython3",
   "version": "3.8.6"
  }
 },
 "nbformat": 4,
 "nbformat_minor": 2
}
